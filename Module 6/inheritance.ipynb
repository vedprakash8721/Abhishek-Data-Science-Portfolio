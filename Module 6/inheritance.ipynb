{
 "cells": [
  {
   "cell_type": "code",
   "execution_count": 2,
   "id": "cd6d78b6",
   "metadata": {},
   "outputs": [],
   "source": [
    "'''     Inheritance :- refers to the process , child recieving property from the parent.'''\n",
    "# Syntax :\n",
    "\n",
    "class BaseClass:\n",
    "    #body of the class\n",
    "    pass\n",
    "\n",
    "class DerivedClass(BaseClass):\n",
    "    #body of the class\n",
    "    pass\n",
    "    "
   ]
  },
  {
   "cell_type": "code",
   "execution_count": 8,
   "id": "9de69312",
   "metadata": {},
   "outputs": [
    {
     "name": "stdout",
     "output_type": "stream",
     "text": [
      "This is the prop of the father :\n",
      "None\n",
      "This is the prop of the son:\n",
      "None\n",
      "This is the prop of the father :\n",
      "None\n"
     ]
    }
   ],
   "source": [
    "\"\"\" Single Inheritance \"\"\"\n",
    "\n",
    "# When derived class has only one parent class:\n",
    "class Father:\n",
    "    def father_prop(self):\n",
    "        print(\"This is the prop of the father :\")\n",
    "class Son(Father):\n",
    "    def son_prop(self):\n",
    "        print(\"This is the prop of the son:\")\n",
    "son_obj=Son()\n",
    "print(son_obj.father_prop())\n",
    "print(son_obj.son_prop())  # a son has his and his father prop:\n",
    "# but a father has only his not his son .lets see:\n",
    "fath_obj=Father()\n",
    "# print(fath_obj.Son())\n",
    "print(fath_obj.father_prop())"
   ]
  },
  {
   "cell_type": "code",
   "execution_count": null,
   "id": "88b2861d",
   "metadata": {},
   "outputs": [
    {
     "name": "stdout",
     "output_type": "stream",
     "text": [
      "This is overloaded fun\n",
      "None\n"
     ]
    }
   ],
   "source": [
    "#method over-riding : re-writing/ re-defining the prop of parent class in the child class :\n",
    "class Fruit():\n",
    "    def Fruit_prop(self):\n",
    "        print(\"This is the prop of Fruit class:\")\n",
    "class Apple(Fruit):\n",
    "    def Fruit_prop(self): #function overloading\n",
    "        print(\"This is overloaded fun\")\n",
    "    def Apple_prop(self):\n",
    "        print(\"this is the apple prop:\")\n",
    "Apple_obj=Apple()\n",
    "print(Apple_obj.Fruit_prop())\n"
   ]
  },
  {
   "cell_type": "code",
   "execution_count": 13,
   "id": "eb0933eb",
   "metadata": {},
   "outputs": [
    {
     "name": "stdout",
     "output_type": "stream",
     "text": [
      "this is grand father\n",
      "None\n"
     ]
    }
   ],
   "source": [
    "# Multi-level Inheritance:\n",
    "'''' parent -> child-> grand child '''\n",
    "class Grand_Father():\n",
    "    def Grand_father_prop(self):\n",
    "        print(\"this is grand father\")\n",
    "class Father(Grand_Father):\n",
    "    def child_prop(self):\n",
    "        print(\"this is the prop of the child\")\n",
    "class Grand_Son(Father):\n",
    "    def Grand_son_prop(self):\n",
    "        print(\"this is the grand son prop\")\n",
    "obj=Grand_Son()\n",
    "print(obj.Grand_father_prop())\n"
   ]
  },
  {
   "cell_type": "code",
   "execution_count": 15,
   "id": "84309fbe",
   "metadata": {},
   "outputs": [
    {
     "name": "stdout",
     "output_type": "stream",
     "text": [
      "this is parent 1 \n",
      "None\n",
      "this is parent 2 \n",
      "None\n"
     ]
    }
   ],
   "source": [
    "\"\"\" Multiple Inheritance \"\"\"\n",
    "\n",
    "# parent class 1 + parent class 2\n",
    "class Parent1():\n",
    "    def parent1_prp(self):\n",
    "        print(\"this is parent 1 \")\n",
    "class Parent2():\n",
    "    def parent2_prp(self):\n",
    "        print(\"this is parent 2 \")\n",
    "class Child(Parent1, Parent2):\n",
    "    def child_prp(self):\n",
    "        print(\"this is the child class\")\n",
    "\n",
    "chil_obj= Child()\n",
    "print(chil_obj.parent1_prp())\n",
    "print(chil_obj.parent2_prp())"
   ]
  },
  {
   "cell_type": "code",
   "execution_count": 19,
   "id": "ed1f13bd",
   "metadata": {},
   "outputs": [
    {
     "name": "stdout",
     "output_type": "stream",
     "text": [
      "this is parent 2 \n",
      "None\n"
     ]
    }
   ],
   "source": [
    "# Diamond Problem : it states that when a class inherit more than two class then there would be a chance of ambuguity.\n",
    "# to resolute this MRO i.e. method resolution order is used . it just print / show which class is inherited first . now lets see through an example.\n",
    "class Parent1():\n",
    "    def parent1_prp(self):\n",
    "        print(\"this is parent 1 \")\n",
    "class Parent2():\n",
    "    def parent1_prp(self):\n",
    "        print(\"this is parent 2 \")\n",
    "class Child(Parent2, Parent1): #parent 2 the property of parent2 would be first\n",
    "    def child_prp(self):\n",
    "        print(\"this is the child class\")\n",
    "\n",
    "chil_obj=Child()\n",
    "print(chil_obj.parent1_prp())\n"
   ]
  },
  {
   "cell_type": "code",
   "execution_count": 6,
   "id": "6478deea",
   "metadata": {},
   "outputs": [
    {
     "name": "stdout",
     "output_type": "stream",
     "text": [
      "this is vehicle\n",
      "None\n",
      "this is CAR lambo\n",
      "None\n",
      "this is truck dumper\n",
      "None\n"
     ]
    }
   ],
   "source": [
    "\"\"\" Hierarchical Inheritance \"\"\"\n",
    "# one parent class and more than 1 child class.\n",
    "\n",
    "class Vehicle():\n",
    "    def info(self):\n",
    "        print(\"this is vehicle\")\n",
    "class Car(Vehicle):\n",
    "    def car_info(self,name):\n",
    "        print(\"this is CAR\",name)\n",
    "class Truck(Vehicle):\n",
    "    def truck_info(self,name):\n",
    "        print(\"this is truck\",name)\n",
    "c1=Car()\n",
    "print(c1.info())\n",
    "print(c1.car_info(\"lambo\"))\n",
    "t1=Truck()\n",
    "print(t1.truck_info(\"dumper\"))"
   ]
  }
 ],
 "metadata": {
  "kernelspec": {
   "display_name": "Python 3",
   "language": "python",
   "name": "python3"
  },
  "language_info": {
   "codemirror_mode": {
    "name": "ipython",
    "version": 3
   },
   "file_extension": ".py",
   "mimetype": "text/x-python",
   "name": "python",
   "nbconvert_exporter": "python",
   "pygments_lexer": "ipython3",
   "version": "3.13.2"
  }
 },
 "nbformat": 4,
 "nbformat_minor": 5
}
