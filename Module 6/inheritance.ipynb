{
 "cells": [
  {
   "cell_type": "code",
   "execution_count": 2,
   "id": "cd6d78b6",
   "metadata": {},
   "outputs": [],
   "source": [
    "'''     Inheritance :- refers to the process , child recieving property from the parent.'''\n",
    "# Syntax :\n",
    "\n",
    "class BaseClass:\n",
    "    #body of the class\n",
    "    pass\n",
    "\n",
    "class DerivedClass(BaseClass):\n",
    "    #body of the class\n",
    "    pass\n",
    "    "
   ]
  },
  {
   "cell_type": "code",
   "execution_count": 8,
   "id": "9de69312",
   "metadata": {},
   "outputs": [
    {
     "name": "stdout",
     "output_type": "stream",
     "text": [
      "This is the prop of the father :\n",
      "None\n",
      "This is the prop of the son:\n",
      "None\n",
      "This is the prop of the father :\n",
      "None\n"
     ]
    }
   ],
   "source": [
    "\"\"\" Single Inheritance \"\"\"\n",
    "\n",
    "# When derived class has only one parent class:\n",
    "class Father:\n",
    "    def father_prop(self):\n",
    "        print(\"This is the prop of the father :\")\n",
    "class Son(Father):\n",
    "    def son_prop(self):\n",
    "        print(\"This is the prop of the son:\")\n",
    "son_obj=Son()\n",
    "print(son_obj.father_prop())\n",
    "print(son_obj.son_prop())  # a son has his and his father prop:\n",
    "# but a father has only his not his son .lets see:\n",
    "fath_obj=Father()\n",
    "# print(fath_obj.Son())\n",
    "print(fath_obj.father_prop())"
   ]
  },
  {
   "cell_type": "code",
   "execution_count": null,
   "id": "88b2861d",
   "metadata": {},
   "outputs": [
    {
     "name": "stdout",
     "output_type": "stream",
     "text": [
      "This is overloaded fun\n",
      "None\n"
     ]
    }
   ],
   "source": [
    "#method over-riding : re-writing/ re-defining the prop of parent class in the child class :\n",
    "class Fruit():\n",
    "    def Fruit_prop(self):\n",
    "        print(\"This is the prop of Fruit class:\")\n",
    "class Apple(Fruit):\n",
    "    def Fruit_prop(self): #function overloading\n",
    "        print(\"This is overloaded fun\")\n",
    "    def Apple_prop(self):\n",
    "        print(\"this is the apple prop:\")\n",
    "Apple_obj=Apple()\n",
    "print(Apple_obj.Fruit_prop())\n"
   ]
  }
 ],
 "metadata": {
  "kernelspec": {
   "display_name": "Python 3",
   "language": "python",
   "name": "python3"
  },
  "language_info": {
   "codemirror_mode": {
    "name": "ipython",
    "version": 3
   },
   "file_extension": ".py",
   "mimetype": "text/x-python",
   "name": "python",
   "nbconvert_exporter": "python",
   "pygments_lexer": "ipython3",
   "version": "3.13.2"
  }
 },
 "nbformat": 4,
 "nbformat_minor": 5
}
