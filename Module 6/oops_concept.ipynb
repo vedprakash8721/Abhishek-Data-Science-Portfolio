{
 "cells": [
  {
   "cell_type": "code",
   "execution_count": 1,
   "id": "e9aff606",
   "metadata": {},
   "outputs": [
    {
     "name": "stdout",
     "output_type": "stream",
     "text": [
      "Learning Python by Mark Lutz, priced at ₹850\n"
     ]
    }
   ],
   "source": [
    "class Book:\n",
    "    def __init__(self, title, author, price):\n",
    "        self.title = title\n",
    "        self.author = author\n",
    "        self.price = price\n",
    "\n",
    "    def get_details(self):\n",
    "        return f\"{self.title} by {self.author}, priced at ₹{self.price}\"\n",
    "\n",
    "# Example usage\n",
    "book1 = Book(\"Learning Python\", \"Mark Lutz\", 850)\n",
    "print(book1.get_details())\n"
   ]
  },
  {
   "cell_type": "code",
   "execution_count": null,
   "id": "4e346382",
   "metadata": {},
   "outputs": [],
   "source": [
    "class Person:\n",
    "    def __init__(self, name):\n",
    "        self.name = name\n",
    "\n",
    "    def speak(self):\n",
    "        print(f\"{self.name} speaks.\")\n",
    "\n",
    "class Student(Person):  # Inheriting from Person\n",
    "    def study(self):\n",
    "        print(f\"{self.name} studies.\")\n",
    "\n",
    "s2 = Student(\"Ved\")\n",
    "s2.speak()\n",
    "s2.study()\n"
   ]
  },
  {
   "cell_type": "code",
   "execution_count": null,
   "id": "9bdf7615",
   "metadata": {},
   "outputs": [],
   "source": [
    "class Account:\n",
    "    def __init__(self, balance):\n",
    "        self.__balance = balance  # Private attribute\n",
    "\n",
    "    def deposit(self, amount):\n",
    "        if amount > 0:\n",
    "            self.__balance += amount\n",
    "\n",
    "    def get_balance(self):\n",
    "        return self.__balance\n",
    "\n",
    "a1 = Account(1000)\n",
    "a1.deposit(500)\n",
    "print(a1.get_balance())  # Output: 1500\n"
   ]
  },
  {
   "cell_type": "code",
   "execution_count": 1,
   "id": "8eb1a69f",
   "metadata": {},
   "outputs": [
    {
     "name": "stdout",
     "output_type": "stream",
     "text": [
      "Ved (ID: 1001) - Manager of IT\n"
     ]
    }
   ],
   "source": [
    "class Employee:\n",
    "    def __init__(self, name, emp_id):\n",
    "        self.name = name\n",
    "        self.emp_id = emp_id\n",
    "\n",
    "    def show_details(self):\n",
    "        return f\"{self.name} (ID: {self.emp_id})\"\n",
    "\n",
    "class Manager(Employee):\n",
    "    def __init__(self, name, emp_id, department):\n",
    "        super().__init__(name, emp_id)\n",
    "        self.department = department\n",
    "\n",
    "    def show_details(self):\n",
    "        return f\"{super().show_details()} - Manager of {self.department}\"\n",
    "\n",
    "m1 = Manager(\"Ved\", 1001, \"IT\")\n",
    "print(m1.show_details())  # Output: Ved (ID: 1001) - Manager of IT\n"
   ]
  },
  {
   "cell_type": "code",
   "execution_count": 2,
   "id": "b7ae594e",
   "metadata": {},
   "outputs": [
    {
     "name": "stdout",
     "output_type": "stream",
     "text": [
      "Processing credit card payment of ₹1500\n"
     ]
    }
   ],
   "source": [
    "from abc import ABC, abstractmethod\n",
    "\n",
    "class PaymentProcessor(ABC):\n",
    "    @abstractmethod\n",
    "    def process_payment(self, amount):\n",
    "        pass\n",
    "\n",
    "class CreditCardProcessor(PaymentProcessor):\n",
    "    def process_payment(self, amount):\n",
    "        print(f\"Processing credit card payment of ₹{amount}\")\n",
    "\n",
    "p = CreditCardProcessor()\n",
    "p.process_payment(1500)\n"
   ]
  },
  {
   "cell_type": "code",
   "execution_count": null,
   "id": "97a8a791",
   "metadata": {},
   "outputs": [],
   "source": [
    "class Product:\n",
    "    def __init__(self, name, price):\n",
    "        self.name = name\n",
    "        self.price = price\n",
    "\n",
    "    def __str__(self):\n",
    "        return f\"{self.name}: ₹{self.price}\"\n",
    "\n",
    "    def __add__(self, other):\n",
    "        return self.price + other.price\n",
    "\n",
    "p1 = Product(\"Book\", 500)\n",
    "p2 = Product(\"Pen\", 50)\n",
    "print(p1 + p2)   # Output: 550\n"
   ]
  }
 ],
 "metadata": {
  "kernelspec": {
   "display_name": "Python 3",
   "language": "python",
   "name": "python3"
  },
  "language_info": {
   "codemirror_mode": {
    "name": "ipython",
    "version": 3
   },
   "file_extension": ".py",
   "mimetype": "text/x-python",
   "name": "python",
   "nbconvert_exporter": "python",
   "pygments_lexer": "ipython3",
   "version": "3.13.2"
  }
 },
 "nbformat": 4,
 "nbformat_minor": 5
}
