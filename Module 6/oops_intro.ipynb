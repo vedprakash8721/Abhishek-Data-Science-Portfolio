{
 "cells": [
  {
   "cell_type": "code",
   "execution_count": null,
   "id": "bbc2bdba",
   "metadata": {},
   "outputs": [
    {
     "name": "stdout",
     "output_type": "stream",
     "text": [
      "<class 'int'>\n",
      "<class '__main__.Car'>\n"
     ]
    }
   ],
   "source": [
    "\"\"\" object oriented programming system\"\"\"\n",
    "print(type(5))\n",
    "\n",
    "# class is blueprint or template for creating the object.\n",
    "#like we are object of the class human beings\n",
    "\n",
    "class Car:\n",
    "    pass #this pass is used we don't want to write the code yet and to avoid the error.\n",
    "c1= Car() #creating the object/instance\n",
    "print(type(c1))"
   ]
  },
  {
   "cell_type": "code",
   "execution_count": 1,
   "id": "cc88f4d8",
   "metadata": {},
   "outputs": [
    {
     "name": "stdout",
     "output_type": "stream",
     "text": [
      "Ved\n",
      "21\n"
     ]
    }
   ],
   "source": [
    "class Person:\n",
    "    def __init__(self, name, age):  # constructor\n",
    "        self.name = name\n",
    "        self.age = age\n",
    "\n",
    "p1 = Person(\"Ved\", 21)  # __init__ runs here\n",
    "print(p1.name)          # Output: Ved\n",
    "print(p1.age)           # Output: 21\n"
   ]
  },
  {
   "cell_type": "code",
   "execution_count": null,
   "id": "790e595f",
   "metadata": {},
   "outputs": [],
   "source": [
    "class Person:\n",
    "    def __init__(self, name):\n",
    "        self.name = name\n",
    "\n",
    "    def show_name(self):\n",
    "        print(f\"My name is {self.name}\")\n",
    "\n",
    "#this is not complete now"
   ]
  },
  {
   "cell_type": "code",
   "execution_count": null,
   "id": "9317769c",
   "metadata": {},
   "outputs": [],
   "source": [
    "class Person:\n",
    "    def __init__(self, name):\n",
    "        self.name = name\n",
    "\n",
    "    def show_info(self):\n",
    "        print(f\"I am a person. My name is {self.name}\")\n",
    "\n",
    "class Student(Person):  # Inherits from Person\n",
    "    def __init__(self, name, student_id):\n",
    "        super().__init__(name)\n",
    "        self.student_id = student_id\n",
    "\n",
    "    def show_info(self):  # Same method name, different behavior\n",
    "        print(f\"I am a student. My name is {self.name}, ID: {self.student_id}\")\n",
    "\n",
    "# Create objects\n",
    "p1 = Person(\"Ved\")\n",
    "s1 = Student(\"Ved\", 101)\n",
    "\n",
    "# Call the same method for both\n",
    "p1.show_info()   # Uses Person's method\n",
    "s1.show_info()   # Uses Student's method (overrides)\n"
   ]
  },
  {
   "cell_type": "code",
   "execution_count": null,
   "id": "07a3342f",
   "metadata": {},
   "outputs": [],
   "source": [
    "from abc import ABC, abstractmethod  # Import for abstraction\n",
    "\n",
    "# Abstract class\n",
    "class Animal(ABC):\n",
    "    @abstractmethod\n",
    "    def make_sound(self):\n",
    "        pass  # No body here\n",
    "\n",
    "# Dog class implements make_sound\n",
    "class Dog(Animal):\n",
    "    def make_sound(self):\n",
    "        print(\"Dog says: Woof!\")\n",
    "\n",
    "# Cat class implements make_sound\n",
    "class Cat(Animal):\n",
    "    def make_sound(self):\n",
    "        print(\"Cat says: Meow!\")\n",
    "\n",
    "# Using abstraction\n",
    "def animal_sound(animal):\n",
    "    animal.make_sound()\n",
    "\n",
    "# Create objects\n",
    "dog = Dog()\n",
    "cat = Cat()\n",
    "\n",
    "# Call abstracted function\n",
    "animal_sound(dog)\n",
    "animal_sound(cat)\n"
   ]
  }
 ],
 "metadata": {
  "kernelspec": {
   "display_name": "Python 3",
   "language": "python",
   "name": "python3"
  },
  "language_info": {
   "codemirror_mode": {
    "name": "ipython",
    "version": 3
   },
   "file_extension": ".py",
   "mimetype": "text/x-python",
   "name": "python",
   "nbconvert_exporter": "python",
   "pygments_lexer": "ipython3",
   "version": "3.13.2"
  }
 },
 "nbformat": 4,
 "nbformat_minor": 5
}
