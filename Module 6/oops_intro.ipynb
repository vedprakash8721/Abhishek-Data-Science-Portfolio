{
 "cells": [
  {
   "cell_type": "code",
   "execution_count": null,
   "id": "bbc2bdba",
   "metadata": {},
   "outputs": [
    {
     "name": "stdout",
     "output_type": "stream",
     "text": [
      "<class 'int'>\n",
      "<class '__main__.Car'>\n"
     ]
    }
   ],
   "source": [
    "\"\"\" object oriented programming system\"\"\"\n",
    "print(type(5))\n",
    "\n",
    "# class is blueprint or template for creating the object.\n",
    "#like we are object of the class human beings\n",
    "\n",
    "class Car:\n",
    "    pass #this pass is used we don't want to write the code yet and to avoid the error.\n",
    "c1= Car() #creating the object/instance\n",
    "print(type(c1))"
   ]
  }
 ],
 "metadata": {
  "kernelspec": {
   "display_name": "Python 3",
   "language": "python",
   "name": "python3"
  },
  "language_info": {
   "codemirror_mode": {
    "name": "ipython",
    "version": 3
   },
   "file_extension": ".py",
   "mimetype": "text/x-python",
   "name": "python",
   "nbconvert_exporter": "python",
   "pygments_lexer": "ipython3",
   "version": "3.13.2"
  }
 },
 "nbformat": 4,
 "nbformat_minor": 5
}
