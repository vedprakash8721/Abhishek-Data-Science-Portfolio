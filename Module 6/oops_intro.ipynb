{
 "cells": [
  {
   "cell_type": "code",
   "execution_count": null,
   "id": "bbc2bdba",
   "metadata": {},
   "outputs": [
    {
     "name": "stdout",
     "output_type": "stream",
     "text": [
      "<class 'int'>\n",
      "<class '__main__.Car'>\n"
     ]
    }
   ],
   "source": [
    "\"\"\" object oriented programming system\"\"\"\n",
    "print(type(5))\n",
    "\n",
    "# class is blueprint or template for creating the object.\n",
    "#like we are object of the class human beings\n",
    "\n",
    "class Car:\n",
    "    pass #this pass is used we don't want to write the code yet and to avoid the error.\n",
    "c1= Car() #creating the object/instance\n",
    "print(type(c1))"
   ]
  },
  {
   "cell_type": "code",
   "execution_count": 8,
   "id": "93a8788b",
   "metadata": {},
   "outputs": [
    {
     "name": "stdout",
     "output_type": "stream",
     "text": [
      "speed of the car is high\n",
      "None\n",
      "the speed of the car is decreasing\n",
      "None\n"
     ]
    }
   ],
   "source": [
    "class car:  #function of the car\n",
    "    def speed(self):\n",
    "        print(\"speed of the car is high\")\n",
    "    def stop(self):\n",
    "        print(\"the speed of the car is decreasing\")\n",
    "c1 =car()\n",
    "print(c1.speed())\n",
    "\"\"\" self is the variable through which you can access the property of the car \"\"\"\n",
    "print(c1.stop())"
   ]
  },
  {
   "cell_type": "code",
   "execution_count": null,
   "id": "6464b068",
   "metadata": {},
   "outputs": [
    {
     "name": "stdout",
     "output_type": "stream",
     "text": [
      " Your account is credited\n",
      "None\n"
     ]
    }
   ],
   "source": [
    "# you can put anything that you want in the place of self . it is not predefined\n",
    "class bank:\n",
    "    def credit(ved):\n",
    "        print(\" Your account is credited\")\n",
    "c1 = bank()\n",
    "print(c1.credit())\n",
    "# but the best practice is to pass the self"
   ]
  },
  {
   "cell_type": "code",
   "execution_count": 23,
   "id": "80ce9550",
   "metadata": {},
   "outputs": [
    {
     "name": "stdout",
     "output_type": "stream",
     "text": [
      "Your account is credited by : 10\n",
      "None\n"
     ]
    }
   ],
   "source": [
    "\"\"\" the property of the class can be accessed same as method is done \"\"\"\n",
    "class Bank():\n",
    "    current = int(input(\"enter the amount:\"))\n",
    "    def balance(self,current):\n",
    "        print(\"Your account is credited by :\", current)\n",
    "ved =Bank()\n",
    "print(ved.balance(ved.current))"
   ]
  },
  {
   "cell_type": "code",
   "execution_count": 39,
   "id": "abfc8299",
   "metadata": {},
   "outputs": [
    {
     "name": "stdout",
     "output_type": "stream",
     "text": [
      "The even num in list: [2, 4, 6]\n",
      "The odd num in list: [1, 3, 5]\n"
     ]
    }
   ],
   "source": [
    "class check_type:\n",
    "    x =[1,2,3,4,5,6]\n",
    "    def check_even(self):\n",
    "        l1=[]\n",
    "        for i in self.x:\n",
    "            if i%2==0:\n",
    "                l1.append(i)\n",
    "        return l1\n",
    "    def check_odd(self):\n",
    "        l2=[]\n",
    "        for i in self.x:\n",
    "            if i%2!=0:\n",
    "                l2.append(i)\n",
    "        return l2\n",
    "c1= check_type()\n",
    "print(\"The even num in list:\",c1.check_even())\n",
    "print(\"The odd num in list:\",c1.check_odd())"
   ]
  },
  {
   "cell_type": "code",
   "execution_count": null,
   "id": "b7a59b52",
   "metadata": {},
   "outputs": [],
   "source": []
  }
 ],
 "metadata": {
  "kernelspec": {
   "display_name": "Python 3",
   "language": "python",
   "name": "python3"
  },
  "language_info": {
   "codemirror_mode": {
    "name": "ipython",
    "version": 3
   },
   "file_extension": ".py",
   "mimetype": "text/x-python",
   "name": "python",
   "nbconvert_exporter": "python",
   "pygments_lexer": "ipython3",
   "version": "3.13.2"
  }
 },
 "nbformat": 4,
 "nbformat_minor": 5
}
