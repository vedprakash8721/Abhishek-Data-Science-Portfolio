{
 "cells": [
  {
   "cell_type": "code",
   "execution_count": null,
   "id": "5ce12528",
   "metadata": {},
   "outputs": [],
   "source": [
    "#data structure\n",
    "\n",
    "# '''data structure are used to store the data and to access , modification'''\n",
    "\n",
    "#List, list is mutable\n",
    "\n",
    "a=[1,5,7,8,7,9]\n",
    "print(type(a))\n",
    "print(a)\n",
    "print(a[1])\n",
    "print(a[::-1])\n",
    "a.append(10)\n",
    "print(a)\n",
    "\n",
    "#this is by use of index to remove the value\n",
    "# a.remove(a[2])\n",
    "#and now just by giving the value\n",
    "(a.remove(10))\n",
    "print(a)"
   ]
  },
  {
   "cell_type": "code",
   "execution_count": null,
   "id": "cfd6d232",
   "metadata": {},
   "outputs": [],
   "source": [
    "#putting list into list\n",
    "a=[[9,4,6,6],11,33,44]\n",
    "print(a)\n",
    "print(a[0][1]) #this is for accessing the list into list.\n",
    "\n",
    "\n",
    "#once i will complete the lelcture i will do a lot of practice of these\n"
   ]
  },
  {
   "cell_type": "code",
   "execution_count": null,
   "id": "438cb1fd",
   "metadata": {},
   "outputs": [],
   "source": [
    "#New data structure is Tuple, Tuple is immuatable\n",
    "\n",
    "#use of this?\n",
    "# The use in Adhaar card , ATM card , which could not be editable\n",
    "# Just like List the Tuple is also a Hetrogenous data\n",
    "\n",
    "#heterogenous means , can store all type of data\n",
    "a=(\"df\",\"jf\")\n",
    "print(a)\n",
    "print(type(a))\n",
    "\n"
   ]
  },
  {
   "cell_type": "code",
   "execution_count": null,
   "id": "e8b4190b",
   "metadata": {},
   "outputs": [],
   "source": [
    "# The next is Set\n",
    "\n",
    "#unorderd collection of unique elements\n",
    "\n",
    "a={\"s\", \"jf\", \"s\"}\n",
    "print(a)\n",
    "\n",
    "#use of it to store the unique elements\n"
   ]
  },
  {
   "cell_type": "code",
   "execution_count": null,
   "id": "168c5caa",
   "metadata": {},
   "outputs": [],
   "source": [
    "# The next data structure is Dictionaries\n",
    "\n",
    "#it stores the data in the form of key value pair.\n",
    "\n",
    "Phonebook={\"dad\":1234, \"mom\":456}\n",
    "print(Phonebook)\n",
    "print(type(Phonebook))\n",
    "print(Phonebook[\"dad\"])"
   ]
  }
 ],
 "metadata": {
  "kernelspec": {
   "display_name": "Python 3",
   "language": "python",
   "name": "python3"
  },
  "language_info": {
   "codemirror_mode": {
    "name": "ipython",
    "version": 3
   },
   "file_extension": ".py",
   "mimetype": "text/x-python",
   "name": "python",
   "nbconvert_exporter": "python",
   "pygments_lexer": "ipython3",
   "version": "3.13.2"
  }
 },
 "nbformat": 4,
 "nbformat_minor": 5
}
