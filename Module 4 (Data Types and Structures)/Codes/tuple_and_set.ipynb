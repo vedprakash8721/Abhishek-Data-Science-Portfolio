{
 "cells": [
  {
   "cell_type": "code",
   "execution_count": 1,
   "id": "31b2ec9c",
   "metadata": {},
   "outputs": [
    {
     "name": "stdout",
     "output_type": "stream",
     "text": [
      "<class 'tuple'>\n"
     ]
    },
    {
     "ename": "TypeError",
     "evalue": "'tuple' object does not support item assignment",
     "output_type": "error",
     "traceback": [
      "\u001b[31m---------------------------------------------------------------------------\u001b[39m",
      "\u001b[31mTypeError\u001b[39m                                 Traceback (most recent call last)",
      "\u001b[36mCell\u001b[39m\u001b[36m \u001b[39m\u001b[32mIn[1]\u001b[39m\u001b[32m, line 4\u001b[39m\n\u001b[32m      2\u001b[39m A= (\u001b[33m\"\u001b[39m\u001b[33mved\u001b[39m\u001b[33m\"\u001b[39m, \u001b[33m\"\u001b[39m\u001b[33mMohini\u001b[39m\u001b[33m\"\u001b[39m)\n\u001b[32m      3\u001b[39m \u001b[38;5;28mprint\u001b[39m(\u001b[38;5;28mtype\u001b[39m(A))\n\u001b[32m----> \u001b[39m\u001b[32m4\u001b[39m \u001b[43mA\u001b[49m\u001b[43m[\u001b[49m\u001b[32;43m0\u001b[39;49m\u001b[43m]\u001b[49m=\u001b[33m\"\u001b[39m\u001b[33mlove\u001b[39m\u001b[33m\"\u001b[39m  \u001b[38;5;66;03m#it does not support item assignment\u001b[39;00m\n\u001b[32m      5\u001b[39m \u001b[38;5;66;03m#Use case : use tuple where you don't want to modify the data\u001b[39;00m\n\u001b[32m      6\u001b[39m A=A.append(\u001b[33m\"\u001b[39m\u001b[33mdev\u001b[39m\u001b[33m\"\u001b[39m) \u001b[38;5;66;03m#immutable\u001b[39;00m\n",
      "\u001b[31mTypeError\u001b[39m: 'tuple' object does not support item assignment"
     ]
    }
   ],
   "source": [
    "#Tuple() are immutable . It is hetrogenous data type\n",
    "A= (\"ved\", \"Mohini\")\n",
    "print(type(A))\n",
    "A[0]=\"love\"  #it does not support item assignment\n",
    "#Use case : use tuple where you don't want to modify the data\n",
    "A=A.append(\"dev\") #immutable\n",
    "\n",
    "#Tuple supports the index feature and iteration\n",
    "print(A[0])\n",
    "\n",
    "for i in A:\n",
    "    print(i)"
   ]
  },
  {
   "cell_type": "code",
   "execution_count": null,
   "id": "8fadda0d",
   "metadata": {},
   "outputs": [],
   "source": [
    "#Some additional fun for tuple\n",
    "num=(35,63,6426,53547,7364575,1,34,6,77,0)\n",
    "print(sorted(num))\n",
    "print(max(num))\n",
    "print(reversed(num))\n",
    "sum=(12,21)\n",
    "add=sum+num #we can add two or more than two tuple because in this the other one is extended not the first or second is modified\n",
    "print(add)\n",
    "#Identity operator\n",
    "35 in num"
   ]
  },
  {
   "cell_type": "code",
   "execution_count": null,
   "id": "cfbbfa05",
   "metadata": {},
   "outputs": [],
   "source": [
    "#Set\n",
    "# Property : unodered , unique . indexing will not work due to unodered prop, Mutable\n",
    "S={ 3,34,53,44,4,44,444,44,4,4}\n",
    "print(S)\n",
    "len(S)\n",
    "S.add(54)\n",
    "print(S)\n",
    "54 in S"
   ]
  },
  {
   "cell_type": "code",
   "execution_count": null,
   "id": "db0df4fd",
   "metadata": {},
   "outputs": [],
   "source": [
    "#Set operation\n",
    "\"\"\"\n",
    "    we know union and intersection.\n",
    "    Now , Difference: A-B:- The elements that present in the set A but not in B\n",
    "    Symetric diff:- All the elements that are not common in both set\n",
    "    \n",
    "\"\"\""
   ]
  },
  {
   "cell_type": "code",
   "execution_count": null,
   "id": "ff2f3a6c",
   "metadata": {},
   "outputs": [],
   "source": [
    "S1={\"coding,\", \"trading\" ,\"editing\" ,\"Suhani\"}\n",
    "S2 = {\"music\" ,\"cricket\" ,\"travelling\" ,\"Suhani\"}\n",
    "\n",
    "#union\n",
    "print(S1|S2)\n",
    "#intersection\n",
    "print(S1&S2)\n",
    "#difference\n",
    "print(S1-S2)\n",
    "#Symetric diff\n",
    "print(S1^S2)\n"
   ]
  },
  {
   "cell_type": "code",
   "execution_count": null,
   "id": "685d8b02",
   "metadata": {},
   "outputs": [],
   "source": [
    "#frozen set :- when you don't want to add or remove data from the set.\n",
    "my_frozen_set=frozenset([\"ved\", \"suhani\"])\n",
    "print(my_frozen_set)\n",
    "print(type(my_frozen_set))"
   ]
  }
 ],
 "metadata": {
  "kernelspec": {
   "display_name": "Python 3",
   "language": "python",
   "name": "python3"
  },
  "language_info": {
   "codemirror_mode": {
    "name": "ipython",
    "version": 3
   },
   "file_extension": ".py",
   "mimetype": "text/x-python",
   "name": "python",
   "nbconvert_exporter": "python",
   "pygments_lexer": "ipython3",
   "version": "3.13.2"
  }
 },
 "nbformat": 4,
 "nbformat_minor": 5
}
