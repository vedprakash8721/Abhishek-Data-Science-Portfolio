{
 "cells": [
  {
   "cell_type": "code",
   "execution_count": null,
   "id": "31b2ec9c",
   "metadata": {},
   "outputs": [],
   "source": [
    "#Tuple() are immutable . It is hetrogenous data type\n",
    "A= (\"ved\", \"prakash\")\n",
    "print(type(A))\n",
    "A[0]=\"love\"  #it does not support item assignment\n",
    "#Use case : use tuple where you don't want to modify the data\n",
    "A=A.append(\"dev\") #immutable\n",
    "\n",
    "#Tuple supports the index feature and iteration\n",
    "print(A[0])\n",
    "\n",
    "for i in A:\n",
    "    print(i)"
   ]
  },
  {
   "cell_type": "code",
   "execution_count": null,
   "id": "8fadda0d",
   "metadata": {},
   "outputs": [],
   "source": [
    "#Some additional fun for tuple\n",
    "num=(35,63,6426,53547,7364575,1,34,6,77,0)\n",
    "print(sorted(num))\n",
    "print(max(num))\n",
    "print(reversed(num))\n",
    "sum=(12,21)\n",
    "add=sum+num #we can add two or more than two tuple because in this the other one is extended not the first or second is modified\n",
    "print(add)\n",
    "#Identity operator\n",
    "35 in num"
   ]
  },
  {
   "cell_type": "code",
   "execution_count": null,
   "id": "cfbbfa05",
   "metadata": {},
   "outputs": [],
   "source": [
    "#Set\n",
    "# Property : unodered , unique . indexing will not work due to unodered prop, Mutable\n",
    "S={ 3,34,53,44,4,44,444,44,4,4}\n",
    "print(S)\n",
    "len(S)\n",
    "S.add(54)\n",
    "print(S)\n",
    "54 in S"
   ]
  },
  {
   "cell_type": "code",
   "execution_count": null,
   "id": "db0df4fd",
   "metadata": {},
   "outputs": [],
   "source": [
    "#Set operation\n",
    "\"\"\"\n",
    "    we know union and intersection.\n",
    "    Now , Difference: A-B:- The elements that present in the set A but not in B\n",
    "    Symetric diff:- All the elements that are not common in both set\n",
    "    \n",
    "\"\"\""
   ]
  },
  {
   "cell_type": "code",
   "execution_count": null,
   "id": "ff2f3a6c",
   "metadata": {},
   "outputs": [],
   "source": [
    "S1={\"coding,\", \"trading\" ,\"editing\" ,\"Suhani\"}\n",
    "S2 = {\"music\" ,\"cricket\" ,\"travelling\" ,\"Suhani\"}\n",
    "\n",
    "#union\n",
    "print(S1|S2)\n",
    "#intersection\n",
    "print(S1&S2)\n",
    "#difference\n",
    "print(S1-S2)\n",
    "#Symetric diff\n",
    "print(S1^S2)\n"
   ]
  },
  {
   "cell_type": "code",
   "execution_count": null,
   "id": "685d8b02",
   "metadata": {},
   "outputs": [],
   "source": [
    "#frozen set :- when you don't want to add or remove data from the set.\n",
    "my_frozen_set=frozenset([\"ved\", \"suhani\"])\n",
    "print(my_frozen_set)\n",
    "print(type(my_frozen_set))"
   ]
  }
 ],
 "metadata": {
  "kernelspec": {
   "display_name": "Python 3",
   "language": "python",
   "name": "python3"
  },
  "language_info": {
   "codemirror_mode": {
    "name": "ipython",
    "version": 3
   },
   "file_extension": ".py",
   "mimetype": "text/x-python",
   "name": "python",
   "nbconvert_exporter": "python",
   "pygments_lexer": "ipython3",
   "version": "3.13.2"
  }
 },
 "nbformat": 4,
 "nbformat_minor": 5
}
