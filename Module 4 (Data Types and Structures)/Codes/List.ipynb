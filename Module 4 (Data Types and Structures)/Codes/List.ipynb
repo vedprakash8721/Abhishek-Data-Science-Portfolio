{
 "cells": [
  {
   "cell_type": "code",
   "execution_count": null,
   "id": "fbb90480",
   "metadata": {},
   "outputs": [],
   "source": [
    "#List is hetrogenous data type\n",
    "\n",
    "#List are mutable\n",
    "a=[\"ved\",\"suhani\"]\n",
    "a.append(\"love\")\n",
    "print(a)"
   ]
  },
  {
   "cell_type": "code",
   "execution_count": null,
   "id": "ef081e12",
   "metadata": {},
   "outputs": [],
   "source": [
    "#extending the list\n",
    "\n",
    "a=[\"dfe\",\"fhg\"]\n",
    "b=[\"hggh\",\"hgug\"]\n",
    "print(a+b)#Esme concatenate hua hai value abhi a aur b ki same hai\n",
    "a.extend(b)# esme value change ho gyi hai a extend ho chuka hai par a aur b ki value abhi bhi same hogi\n",
    "print(a)"
   ]
  },
  {
   "cell_type": "code",
   "execution_count": null,
   "id": "d9937a5c",
   "metadata": {},
   "outputs": [],
   "source": [
    "#Shallow copy\n",
    "# If you equal the two list and when you make changes in one list then it would be applied to both the list,its called as shallow copy\n",
    "list1 = [\"a\",\"b\"]\n",
    "a=list1\n",
    "print(a,list1)\n",
    "list1.append(\"c\")\n",
    "print(a)\n",
    "a.append(\"e\")\n",
    "print(list1)"
   ]
  },
  {
   "cell_type": "code",
   "execution_count": null,
   "id": "6dcf6091",
   "metadata": {},
   "outputs": [],
   "source": [
    "#Deletion of the element from the List\n",
    "\n",
    "list1 = [\"a\",\"b\",\"c\",\"d\"]\n",
    "print(list1.clear()) #This clear all the element not container\n",
    "print(list1.pop()) #This delete the last element of the list\n",
    "print(list1)\n",
    "#You can pass the index in the pop() to delete the specific element\n",
    "\n"
   ]
  },
  {
   "cell_type": "code",
   "execution_count": null,
   "id": "50a1149e",
   "metadata": {},
   "outputs": [],
   "source": [
    "#List compression\n",
    "Price=[10,20,30,40]\n",
    "New_price=[]\n",
    "for i in Price:\n",
    "    New_price.append(i*2)\n",
    "\n",
    "print(New_price)\n",
    "\n",
    "#We can do this in very short code\n",
    "\n",
    "[New_price*2 for New_price in Price] #this also print same as previos code\n"
   ]
  },
  {
   "cell_type": "code",
   "execution_count": null,
   "id": "92528afc",
   "metadata": {},
   "outputs": [],
   "source": [
    "list1 = [\"a\",\"b\",\"c\",\"d\"]\n",
    "\n",
    "list2=[]\n",
    "# print(list1.upper())  upper can work on string\n",
    "# a=\"ved\"\n",
    "# print(a.upper())\n",
    "[list2.capitalize() for list2 in list1]"
   ]
  },
  {
   "cell_type": "code",
   "execution_count": null,
   "id": "513598e2",
   "metadata": {},
   "outputs": [],
   "source": [
    "A=[1,2,3,4]\n",
    "B=[]\n",
    "[B**2 for B in A ]\n",
    "#Square of the num\n"
   ]
  },
  {
   "cell_type": "code",
   "execution_count": null,
   "id": "f14d65ca",
   "metadata": {},
   "outputs": [],
   "source": [
    "#use case .... suppose you have a list in which you have add the files like pdf ,ppt, doc and you don't know how much type of files are in the list , do this\n",
    "Document= [\"a.pdf\", \"b.ppt\", \"c.doc\",\" d.xls\"]\n",
    "File=[file.split(\".\")[-1] for file in Document]\n",
    "print(File)\n",
    "len(File)\n",
    "\n"
   ]
  },
  {
   "cell_type": "code",
   "execution_count": null,
   "id": "9aa73124",
   "metadata": {},
   "outputs": [],
   "source": [
    "#Conditional list comprehension\n",
    "\n",
    "user_id=[\"a@gmail.com\",\"b@yahoo.com\",\"c@skype.com\"]\n",
    "type_id=[type_id for type_id in user_id if type_id.endswith(\"yahoo.com\")]\n",
    "\n",
    "print(type_id)"
   ]
  },
  {
   "cell_type": "code",
   "execution_count": null,
   "id": "0fab3424",
   "metadata": {},
   "outputs": [],
   "source": [
    "#nested list comprehension\n",
    "\n",
    "pair=[]\n",
    "for x in [1,2,3,4]:\n",
    "    for y in [5,6,7,8]:\n",
    "        pair.append([x,y]) \n",
    "        #remeber carefully that in append  fun we have added list [x,y] because if we did like () then it adds only one element,,,lets see\n",
    "        # pair.append(y)\n",
    "\n",
    "print(pair)\n",
    "#This using list comprehension\n",
    "combo=[[x,y] for x in [1,2,3] for y in [4,5,6]]\n",
    "print(combo)\n"
   ]
  },
  {
   "cell_type": "code",
   "execution_count": null,
   "id": "f9abb223",
   "metadata": {},
   "outputs": [],
   "source": []
  }
 ],
 "metadata": {
  "kernelspec": {
   "display_name": "Python 3",
   "language": "python",
   "name": "python3"
  },
  "language_info": {
   "codemirror_mode": {
    "name": "ipython",
    "version": 3
   },
   "file_extension": ".py",
   "mimetype": "text/x-python",
   "name": "python",
   "nbconvert_exporter": "python",
   "pygments_lexer": "ipython3",
   "version": "3.13.2"
  }
 },
 "nbformat": 4,
 "nbformat_minor": 5
}
