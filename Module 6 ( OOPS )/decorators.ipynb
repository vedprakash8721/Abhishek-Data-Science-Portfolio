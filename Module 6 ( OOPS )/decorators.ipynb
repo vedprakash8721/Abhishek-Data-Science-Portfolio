{
 "cells": [
  {
   "cell_type": "code",
   "execution_count": null,
   "id": "4476b841",
   "metadata": {},
   "outputs": [],
   "source": [
    "# Decorators: just like after building house we decorate house by adding lights and other stuff. just like this decorators in python are used to decorate the class and function.\n",
    "\"\"\" decorators allows to modify / extend the behaviour of the class / function without directly modifying their code \"\"\"\n",
    "\"\"\" These are of two types : 1: function decorators   2: class decorators\"\"\"\n",
    "\n",
    "# lets see through an example"
   ]
  },
  {
   "cell_type": "code",
   "execution_count": null,
   "id": "a7de015b",
   "metadata": {},
   "outputs": [
    {
     "name": "stdout",
     "output_type": "stream",
     "text": [
      " The line before computation\n",
      "the number is even: 70\n",
      "the line after the computation:\n",
      "None\n"
     ]
    }
   ],
   "source": [
    "\n",
    "def func():\n",
    "    print(\" The line before computation\")\n",
    "    a=int(input(\"enter the number to check even or odd:\"))\n",
    "    if a%2==0:\n",
    "        print(\"the number is even:\",a)\n",
    "    else:\n",
    "        print(\" the num is odd:\")\n",
    "    print(\"the line after the computation:\")\n",
    "print(func())\n",
    "\n",
    "# now lets suppose you want to do computation multiple times then you have to write this print code every time. this takes time and effort.\n",
    "\"\"\"   Then the concept of Decorators comes in    \"\"\""
   ]
  },
  {
   "cell_type": "code",
   "execution_count": null,
   "id": "7e799ed0",
   "metadata": {},
   "outputs": [
    {
     "name": "stdout",
     "output_type": "stream",
     "text": [
      "the line before computation:\n",
      " the num is odd:\n",
      "the line after the computation:\n",
      "None\n"
     ]
    }
   ],
   "source": [
    "# Function Decorator : @decorator function in python only works with single funtion thats why we cant use multiple fun with it .\n",
    "\n",
    "def decorator_fun(calculation_fun): # here calculation_fun is not neccessary . if you write func it will take by default the calculation_fun\n",
    "    def wrapper():\n",
    "        print(\"the line before computation:\")\n",
    "        calculation_fun()#jere we can take func and this will take by default the calculation_fun\n",
    "        print(\"the line after the computation:\")\n",
    "    return wrapper # this return fun is of decorator_fun\n",
    "# now function and its connection to decorator\n",
    "@decorator_fun\n",
    "def calculation_fun():\n",
    "    a=int(input(\"enter the number to check even or odd:\"))\n",
    "    if a%2==0:\n",
    "        print(\"the number is even:\",a)\n",
    "    else:\n",
    "        print(\" the num is odd:\")\n",
    "\n",
    "#Now print the calculation function\n",
    "print(calculation_fun())\n",
    "\n"
   ]
  }
 ],
 "metadata": {
  "kernelspec": {
   "display_name": "Python 3",
   "language": "python",
   "name": "python3"
  },
  "language_info": {
   "codemirror_mode": {
    "name": "ipython",
    "version": 3
   },
   "file_extension": ".py",
   "mimetype": "text/x-python",
   "name": "python",
   "nbconvert_exporter": "python",
   "pygments_lexer": "ipython3",
   "version": "3.13.2"
  }
 },
 "nbformat": 4,
 "nbformat_minor": 5
}
