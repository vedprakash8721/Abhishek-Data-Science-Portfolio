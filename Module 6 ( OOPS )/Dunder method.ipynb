{
 "cells": [
  {
   "cell_type": "code",
   "execution_count": null,
   "id": "98b5b642",
   "metadata": {},
   "outputs": [],
   "source": [
    "# Dunder method : it also known as magic / special method .\n",
    "\"\"\"\n",
    "dunder/magic/special methods are the methods defined by built-in-classes in python\n",
    "\n",
    "\"\"\"\n",
    "#Dunder= D+under= where d is for double and under is for underscore. that means the function that is surrounded by the double underscore is known as dunder method. and it looks like special thats\n",
    "# why it is also known as magic and special method.\n",
    "a=\"pw\"\n",
    "b=\"skills\"\n",
    "print(a+b)\n",
    "#same thing can be done through __add__()\n",
    "print(a.__add__(b)) #this __add__ is a dunder/magic/special method that is associated with strings\n",
    "\n",
    "\"\"\" the __add__ is wrapped by symbol + . that means when you call + somewhere in python it is understand like __add__\"\"\""
   ]
  },
  {
   "cell_type": "code",
   "execution_count": null,
   "id": "faf39b67",
   "metadata": {},
   "outputs": [
    {
     "data": {
      "text/plain": [
       "81"
      ]
     },
     "execution_count": 4,
     "metadata": {},
     "output_type": "execute_result"
    }
   ],
   "source": [
    "\"\"\"\n",
    "if you want to see all those dunder method that are associated with the string. you can see through this .>>>>\n",
    "\"\"\"\n",
    "dir(str)# dir =directory\n",
    "len(dir(str)) # total num of dunder method associated with string\n"
   ]
  },
  {
   "cell_type": "code",
   "execution_count": null,
   "id": "d5787bae",
   "metadata": {},
   "outputs": [
    {
     "name": "stdout",
     "output_type": "stream",
     "text": [
      "['__abs__', '__add__', '__and__', '__bool__', '__ceil__', '__class__', '__delattr__', '__dir__', '__divmod__', '__doc__', '__eq__', '__float__', '__floor__', '__floordiv__', '__format__', '__ge__', '__getattribute__', '__getnewargs__', '__getstate__', '__gt__', '__hash__', '__index__', '__init__', '__init_subclass__', '__int__', '__invert__', '__le__', '__lshift__', '__lt__', '__mod__', '__mul__', '__ne__', '__neg__', '__new__', '__or__', '__pos__', '__pow__', '__radd__', '__rand__', '__rdivmod__', '__reduce__', '__reduce_ex__', '__repr__', '__rfloordiv__', '__rlshift__', '__rmod__', '__rmul__', '__ror__', '__round__', '__rpow__', '__rrshift__', '__rshift__', '__rsub__', '__rtruediv__', '__rxor__', '__setattr__', '__sizeof__', '__str__', '__sub__', '__subclasshook__', '__truediv__', '__trunc__', '__xor__', 'as_integer_ratio', 'bit_count', 'bit_length', 'conjugate', 'denominator', 'from_bytes', 'imag', 'is_integer', 'numerator', 'real', 'to_bytes']\n",
      "74\n"
     ]
    }
   ],
   "source": [
    "print(dir(int))\n",
    "#so add is also used for integer\n",
    "print(len(dir(int))) # total num of dunder/magic/special method for integer"
   ]
  },
  {
   "cell_type": "code",
   "execution_count": null,
   "id": "6327c0eb",
   "metadata": {},
   "outputs": [
    {
     "name": "stdout",
     "output_type": "stream",
     "text": [
      "this is the first thing that will print when you will create a object\n"
     ]
    }
   ],
   "source": [
    "#useful dunder method\n",
    "\n",
    "# __init__ : to take data with respect to object\n",
    "class Student:\n",
    "    def __init__(self):\n",
    "        print(\"this is the first thing that will print when you will create a object/instance of the class\")\n",
    "    \n",
    "st=Student()"
   ]
  },
  {
   "cell_type": "code",
   "execution_count": 9,
   "id": "5f0b462b",
   "metadata": {},
   "outputs": [
    {
     "name": "stdout",
     "output_type": "stream",
     "text": [
      "this will be printed before init\n"
     ]
    }
   ],
   "source": [
    "#__new__\n",
    "\n",
    "class Student:\n",
    "    def __init__(self):\n",
    "        print(\"this is the first thing that will print when you will create a object/instance of the class\")\n",
    "    def __new__(self):\n",
    "        print(\"this will be printed before init\")\n",
    "    \n",
    "st=Student()"
   ]
  },
  {
   "cell_type": "code",
   "execution_count": 14,
   "id": "2d41468c",
   "metadata": {},
   "outputs": [
    {
     "name": "stdout",
     "output_type": "stream",
     "text": [
      "this is the first thing that will print when you will create a object/instance of the class\n",
      "str method\n"
     ]
    }
   ],
   "source": [
    "#__str__: which returns string representation of method\n",
    "class Ved:\n",
    "    def __init__(self):\n",
    "        print(\"this is the first thing that will print when you will create a object/instance of the class\")\n",
    "    def __str__(self):\n",
    "        return\"str method\" # ye tab print hoga jab object string me convert hoga\n",
    "    \n",
    "obj=Ved()\n",
    "print(obj)"
   ]
  },
  {
   "cell_type": "code",
   "execution_count": null,
   "id": "415db3f7",
   "metadata": {},
   "outputs": [
    {
     "name": "stdout",
     "output_type": "stream",
     "text": [
      "<__main__.Student1 object at 0x000001A87E6463C0>\n",
      "(abhishek,21)\n"
     ]
    }
   ],
   "source": [
    "# lets understand through a example\n",
    "class Student1:\n",
    "    def __init__(self,name,age):\n",
    "        self.name=name\n",
    "        self.age=age\n",
    "st1=Student1(\"ved\",21)\n",
    "print(st1)\n",
    "class Student2:\n",
    "    def __init__(self,name,age): # init method ka use initialization me use hota hai. bina eske self return kya kart ? kuch nhi\n",
    "        self.name=name\n",
    "        self.age=age\n",
    "    def __str__(self): #self dunder method value nhi leta wo return karta hai\n",
    "        return f\"({self.name},{self.age})\"\n",
    "st2=Student2(\"abhishek\",21)\n",
    "print(st2)"
   ]
  }
 ],
 "metadata": {
  "kernelspec": {
   "display_name": "Python 3",
   "language": "python",
   "name": "python3"
  },
  "language_info": {
   "codemirror_mode": {
    "name": "ipython",
    "version": 3
   },
   "file_extension": ".py",
   "mimetype": "text/x-python",
   "name": "python",
   "nbconvert_exporter": "python",
   "pygments_lexer": "ipython3",
   "version": "3.13.2"
  }
 },
 "nbformat": 4,
 "nbformat_minor": 5
}
