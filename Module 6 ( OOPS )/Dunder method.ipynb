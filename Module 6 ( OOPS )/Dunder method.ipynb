{
 "cells": [
  {
   "cell_type": "code",
   "execution_count": null,
   "id": "98b5b642",
   "metadata": {},
   "outputs": [],
   "source": [
    "# Dunder method : it also known as magic / special method .\n",
    "\"\"\"\n",
    "dunder/magic/special methods are the methods defined by built-in-classes in python\n",
    "\n",
    "\"\"\"\n",
    "#Dunder= D+under= where d is for double and under is for underscore. that means the function that is surrounded by the double underscore is known as dunder method. and it looks like special thats\n",
    "# why it is also known as magic and special method.\n",
    "a=\"pw\"\n",
    "b=\"skills\"\n",
    "print(a+b)\n",
    "#same thing can be done through __add__()\n",
    "print(a.__add__(b)) #this __add__ is a dunder/magic/special method that is associated with strings\n",
    "\n",
    "\"\"\" the __add__ is wrapped by symbol + . that means when you call + somewhere in python it is understand like __add__\"\"\""
   ]
  },
  {
   "cell_type": "code",
   "execution_count": null,
   "id": "faf39b67",
   "metadata": {},
   "outputs": [
    {
     "data": {
      "text/plain": [
       "81"
      ]
     },
     "execution_count": 4,
     "metadata": {},
     "output_type": "execute_result"
    }
   ],
   "source": [
    "\"\"\"\n",
    "if you want to see all those dunder method that are associated with the string. you can see through this .>>>>\n",
    "\"\"\"\n",
    "dir(str)# dir =directory\n",
    "len(dir(str)) # total num of dunder method associated with string\n"
   ]
  },
  {
   "cell_type": "code",
   "execution_count": null,
   "id": "d5787bae",
   "metadata": {},
   "outputs": [
    {
     "name": "stdout",
     "output_type": "stream",
     "text": [
      "['__abs__', '__add__', '__and__', '__bool__', '__ceil__', '__class__', '__delattr__', '__dir__', '__divmod__', '__doc__', '__eq__', '__float__', '__floor__', '__floordiv__', '__format__', '__ge__', '__getattribute__', '__getnewargs__', '__getstate__', '__gt__', '__hash__', '__index__', '__init__', '__init_subclass__', '__int__', '__invert__', '__le__', '__lshift__', '__lt__', '__mod__', '__mul__', '__ne__', '__neg__', '__new__', '__or__', '__pos__', '__pow__', '__radd__', '__rand__', '__rdivmod__', '__reduce__', '__reduce_ex__', '__repr__', '__rfloordiv__', '__rlshift__', '__rmod__', '__rmul__', '__ror__', '__round__', '__rpow__', '__rrshift__', '__rshift__', '__rsub__', '__rtruediv__', '__rxor__', '__setattr__', '__sizeof__', '__str__', '__sub__', '__subclasshook__', '__truediv__', '__trunc__', '__xor__', 'as_integer_ratio', 'bit_count', 'bit_length', 'conjugate', 'denominator', 'from_bytes', 'imag', 'is_integer', 'numerator', 'real', 'to_bytes']\n",
      "74\n"
     ]
    }
   ],
   "source": [
    "print(dir(int))\n",
    "#so add is also used for integer\n",
    "print(len(dir(int))) # total num of dunder/magic/special method for integer"
   ]
  }
 ],
 "metadata": {
  "kernelspec": {
   "display_name": "Python 3",
   "language": "python",
   "name": "python3"
  },
  "language_info": {
   "codemirror_mode": {
    "name": "ipython",
    "version": 3
   },
   "file_extension": ".py",
   "mimetype": "text/x-python",
   "name": "python",
   "nbconvert_exporter": "python",
   "pygments_lexer": "ipython3",
   "version": "3.13.2"
  }
 },
 "nbformat": 4,
 "nbformat_minor": 5
}
