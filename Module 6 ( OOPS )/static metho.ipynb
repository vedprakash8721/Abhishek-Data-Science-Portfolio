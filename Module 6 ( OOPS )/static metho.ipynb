{
 "cells": [
  {
   "cell_type": "code",
   "execution_count": null,
   "id": "220c51d8",
   "metadata": {},
   "outputs": [
    {
     "name": "stdout",
     "output_type": "stream",
     "text": [
      "11\n"
     ]
    }
   ],
   "source": [
    "# Static method :-static method behaves like a simple function that belongs to the class . it doesn't take anything as parameter ( self,cls).\n",
    "\"\"\" syntax : @staticmethod \"\"\"\n",
    "class Calculator:\n",
    "    @staticmethod\n",
    "    def add(x,y):\n",
    "        return x+y\n",
    "    \n",
    "print(Calculator.add(5,6)) # no need of obj\n"
   ]
  }
 ],
 "metadata": {
  "kernelspec": {
   "display_name": "Python 3",
   "language": "python",
   "name": "python3"
  },
  "language_info": {
   "codemirror_mode": {
    "name": "ipython",
    "version": 3
   },
   "file_extension": ".py",
   "mimetype": "text/x-python",
   "name": "python",
   "nbconvert_exporter": "python",
   "pygments_lexer": "ipython3",
   "version": "3.13.2"
  }
 },
 "nbformat": 4,
 "nbformat_minor": 5
}
