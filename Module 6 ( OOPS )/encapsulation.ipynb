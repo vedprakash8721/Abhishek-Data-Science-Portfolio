{
 "cells": [
  {
   "cell_type": "code",
   "execution_count": null,
   "id": "0effdab2",
   "metadata": {},
   "outputs": [],
   "source": [
    "\"\"\"\n",
    "Encapsulation: binding the method and data into single unit\n",
    "\n",
    "\"\"\""
   ]
  },
  {
   "cell_type": "code",
   "execution_count": null,
   "id": "2645895b",
   "metadata": {},
   "outputs": [
    {
     "name": "stdout",
     "output_type": "stream",
     "text": [
      "B Tech\n",
      "ved\n",
      "Phd\n"
     ]
    }
   ],
   "source": [
    "# public class\n",
    "class Student:\n",
    "    def __init__(self, name, degree):\n",
    "        self.name=name\n",
    "        self.degree=degree\n",
    "obj=Student(\"ved\", \"B Tech\")\n",
    "print(obj.degree)\n",
    "print(obj.name)\n",
    "#if any one wants to change the data then he can // because this class is public\n",
    "\"\"\" Now the concept of access modifier comes in\"\"\"\n",
    "obj.degree=\"Phd\"\n",
    "print(obj.degree) #changed ... to avoid this we will learn access modifier"
   ]
  },
  {
   "cell_type": "code",
   "execution_count": null,
   "id": "a08c6d0b",
   "metadata": {},
   "outputs": [
    {
     "name": "stdout",
     "output_type": "stream",
     "text": [
      "name ved degree b tech\n",
      "None\n",
      "ved\n",
      "Abhishek\n",
      "b tech\n"
     ]
    }
   ],
   "source": [
    "\"\"\" Access Modifier :  public , private , protected \"\"\"\n",
    "\n",
    "# Private class :- the data and the method is only accessible within the class\n",
    "\"\"\" to declare private you have to do is double underscore __\"\"\"\n",
    "class Detail:\n",
    "    def __init__(self,name,degree):\n",
    "        self.name=name\n",
    "        self.__degree=degree\n",
    "    def show(self):\n",
    "        print(\"name\", self.name,\"degree\", self.__degree)\n",
    "#create a object\n",
    "obj=Detail(\"ved\",\"b tech\")\n",
    "print(obj.show()) #in this you accessed the degree through the class. and like public you can not change the data\n",
    "print(obj.name)\n",
    "# it will throw an error   :   print(obj.__degree)\n",
    "obj.name= \"Abhishek\" # you can do this\n",
    "# obj.__degree= \"bsc\" # you cant\n",
    "print(obj.name)\n",
    "print(obj._Detail__degree)\n",
    "# lets access this in another class\n",
    "\n",
    "class Fake(Detail):\n",
    "    pass\n",
    "f=Fake(\"ved ji\", \"bsc\")\n",
    "print(f.show()) #we have inherited the class that's why it is possible\n",
    "print(f.name) # only name is accessible"
   ]
  },
  {
   "cell_type": "code",
   "execution_count": 18,
   "id": "b88185e1",
   "metadata": {},
   "outputs": [
    {
     "name": "stdout",
     "output_type": "stream",
     "text": [
      "my name is ved\n",
      "None\n"
     ]
    }
   ],
   "source": [
    "class College:\n",
    "    def __student(self):\n",
    "        print(\"my name is ved\")\n",
    "        \n",
    "c1=College()\n",
    "# print(c1.__student())\n",
    "# encapsulation in python is fully supported . it just design to avoid accidental access. so it is design for intrespection and machine learning\n",
    "# you can access by following this format _className__method or variable\n",
    "\n",
    "print(c1._College__student())"
   ]
  }
 ],
 "metadata": {
  "kernelspec": {
   "display_name": "Python 3",
   "language": "python",
   "name": "python3"
  },
  "language_info": {
   "codemirror_mode": {
    "name": "ipython",
    "version": 3
   },
   "file_extension": ".py",
   "mimetype": "text/x-python",
   "name": "python",
   "nbconvert_exporter": "python",
   "pygments_lexer": "ipython3",
   "version": "3.13.2"
  }
 },
 "nbformat": 4,
 "nbformat_minor": 5
}
