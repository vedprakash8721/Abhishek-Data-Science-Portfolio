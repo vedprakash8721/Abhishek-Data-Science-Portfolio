{
 "cells": [
  {
   "cell_type": "code",
   "execution_count": null,
   "id": "d9c9d365",
   "metadata": {},
   "outputs": [],
   "source": [
    "# class method:  class method is the method that is bound to the class\n",
    "\"\"\" syntax : @classmethod decorator\n",
    "    instead of self we use cls\n",
    "\"\"\"\n",
    "#the init method is constructor of the class , that initialize the variable"
   ]
  },
  {
   "cell_type": "code",
   "execution_count": 3,
   "id": "63c04672",
   "metadata": {},
   "outputs": [
    {
     "name": "stdout",
     "output_type": "stream",
     "text": [
      "this is class method\n",
      "None\n"
     ]
    }
   ],
   "source": [
    "class Student:\n",
    "    @classmethod #bounds to the class\n",
    "    def student_detail(cls): #instead of self we use cls as a first parameter ... meaning of cls : this method is associated/reffering to the class\n",
    "        print(\"this is class method\") # what is meaning of reffering to the class : in the past code we were creating the object and then accessing but now we can directly access it\n",
    "\n",
    "print(Student.student_detail())"
   ]
  }
 ],
 "metadata": {
  "kernelspec": {
   "display_name": "Python 3",
   "language": "python",
   "name": "python3"
  },
  "language_info": {
   "codemirror_mode": {
    "name": "ipython",
    "version": 3
   },
   "file_extension": ".py",
   "mimetype": "text/x-python",
   "name": "python",
   "nbconvert_exporter": "python",
   "pygments_lexer": "ipython3",
   "version": "3.13.2"
  }
 },
 "nbformat": 4,
 "nbformat_minor": 5
}
