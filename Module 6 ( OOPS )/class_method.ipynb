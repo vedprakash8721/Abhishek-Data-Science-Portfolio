{
 "cells": [
  {
   "cell_type": "code",
   "execution_count": null,
   "id": "d9c9d365",
   "metadata": {},
   "outputs": [],
   "source": [
    "# class method:  class method is the method that is bound to the class\n",
    "\"\"\" syntax : @classmethod decorator\n",
    "    instead of self we use cls\n",
    "\"\"\""
   ]
  }
 ],
 "metadata": {
  "language_info": {
   "name": "python"
  }
 },
 "nbformat": 4,
 "nbformat_minor": 5
}
