{
 "cells": [
  {
   "cell_type": "code",
   "execution_count": null,
   "id": "a1319c5d",
   "metadata": {},
   "outputs": [
    {
     "name": "stdout",
     "output_type": "stream",
     "text": [
      "56\n",
      "pwskills\n"
     ]
    }
   ],
   "source": [
    "\"\"\" Polymorphism \"\"\"\n",
    "\n",
    "#the polymorphism is a combination of two words . Polyl: means many,,, morphism: states/form  with repect to diff data\n",
    "\n",
    "\"\"\" lets see through a example\"\"\"\n",
    "def fun(a,b):\n",
    "    return a+b\n",
    "# now we will take diff diff states/forms\n",
    "print(fun(2,54)) #o/p:56\n",
    "print(fun(\"pw\",\"skills\")) #o/p : pwskills\n"
   ]
  }
 ],
 "metadata": {
  "kernelspec": {
   "display_name": "Python 3",
   "language": "python",
   "name": "python3"
  },
  "language_info": {
   "codemirror_mode": {
    "name": "ipython",
    "version": 3
   },
   "file_extension": ".py",
   "mimetype": "text/x-python",
   "name": "python",
   "nbconvert_exporter": "python",
   "pygments_lexer": "ipython3",
   "version": "3.13.2"
  }
 },
 "nbformat": 4,
 "nbformat_minor": 5
}
