{
 "cells": [
  {
   "cell_type": "code",
   "execution_count": null,
   "id": "9c220a30",
   "metadata": {},
   "outputs": [],
   "source": [
    "#Dictionary :- set of key value pair. keys are unique and immutable\n",
    "\"\"\" to define the dict we have to use the {}. and to add or to print any specific item we have to use[]. dict is enhance version of list i.e. mixed of set and list\n",
    "list store value in the index form where as dict stores the value in the form of keys.\n",
    "\"\"\"\n",
    "\n",
    "detail= {\"name\": \"ved\" , \"branch\": \"cse\" ,\"sec\" :\"3a\" }\n",
    "print(type(detail))\n",
    "print(detail)\n",
    "print(detail[\"name\"]) #to print the item we have to use the squre bracket\n",
    "#to add new element\n",
    "detail[\"roll_no\"]= \"06\"\n",
    "print(detail)\n",
    "\n",
    "#some operation\n",
    "\n",
    "print(\"name\" in detail)  # this is using the key\n",
    "print(\"ved\" in detail.values()) #this is through value\n",
    "#to get the keys and value\n",
    "print(detail.keys())\n",
    "print(detail.values())"
   ]
  },
  {
   "cell_type": "code",
   "execution_count": null,
   "id": "66fb6387",
   "metadata": {},
   "outputs": [],
   "source": [
    "#To know the diff between set and dict\n",
    "a={} #dict\n",
    "b={\"\"} #set\n",
    "print(type(a))\n",
    "print(type(b))\n",
    "\n",
    "#to delete any specific element\n",
    "detail= {\"name\": \"ved\" , \"branch\": \"cse\" ,\"sec\" :\"3a\" }\n",
    "detail.pop(\"name\")\n",
    "print(detail)\n"
   ]
  },
  {
   "cell_type": "code",
   "execution_count": null,
   "id": "48bb57eb",
   "metadata": {},
   "outputs": [],
   "source": [
    "#Loop through dict\n",
    "detail= {\"name\": \"ved\" , \"branch\": \"cse\" ,\"sec\" :\"3a\" }\n",
    "for i in detail:\n",
    "    print(i)\n",
    "print()\n",
    "\n",
    "# lets do this with another example for the values\n",
    "detail= {\"name\": \"ved\" , \"branch\": \"cse\" ,\"sec\" :\"3a\" }\n",
    "for i in detail:\n",
    "    print(detail[i])\n",
    "    print()\n",
    "    print(detail.get(i)) #this is also works.\n"
   ]
  },
  {
   "cell_type": "code",
   "execution_count": null,
   "id": "b27f4fbb",
   "metadata": {},
   "outputs": [],
   "source": [
    "#Dictionaries commprehension\n",
    "\n",
    "#Zip function:- it combines to corresponding to list\n",
    "student=[\"ved\",\"shailavi\",\"chanchal\"]\n",
    "marks=[88,99,97]\n",
    "for i in zip(student,marks):\n",
    "    print(i)\n",
    "print(type(student))\n",
    "print(type(marks))\n",
    "\n"
   ]
  },
  {
   "cell_type": "code",
   "execution_count": null,
   "id": "b2509d42",
   "metadata": {},
   "outputs": [],
   "source": [
    "students=[\"ved\",\"simran\",\"chanchal\",\"astha mam\"]\n",
    "marks=[88,99,97]\n",
    "\n",
    "#We are converting the list into dict\n",
    "new_dict={}\n",
    "for student,mark in zip(students, marks):\n",
    "    new_dict[student]=mark\n",
    "\n",
    "print(new_dict)\n",
    "\n",
    "#same through single line code\n",
    "\n",
    "\"\"\"students=[\"ved\",\"suhani\",\"chanchal\"]\n",
    "marks=[88,99,97]\n",
    "{ student: mark for student,mark in zip(students,marks)}\"\"\"\n",
    "\n"
   ]
  }
 ],
 "metadata": {
  "kernelspec": {
   "display_name": "Python 3",
   "language": "python",
   "name": "python3"
  },
  "language_info": {
   "codemirror_mode": {
    "name": "ipython",
    "version": 3
   },
   "file_extension": ".py",
   "mimetype": "text/x-python",
   "name": "python",
   "nbconvert_exporter": "python",
   "pygments_lexer": "ipython3",
   "version": "3.13.2"
  }
 },
 "nbformat": 4,
 "nbformat_minor": 5
}
