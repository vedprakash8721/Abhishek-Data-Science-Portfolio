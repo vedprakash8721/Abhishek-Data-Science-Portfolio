{
 "cells": [
  {
   "cell_type": "code",
   "execution_count": null,
   "id": "61094dba",
   "metadata": {},
   "outputs": [],
   "source": [
    "#ASCII  ( American Standard Code for Information Interchange)\n",
    "\n",
    "#uses: to represent the text in bit form. like whatever the system is the number of A is 65. that makes easy to communicate with the system.\n",
    "\n",
    "\n",
    "print(ord(\"A\"))\n",
    "\n",
    "print(ord(\"Z\"))\n",
    "\n",
    "print(chr(122))\n",
    "\n",
    "#in capital A to Z... 65-90\n",
    "# in small a to z ...97-122\n"
   ]
  },
  {
   "cell_type": "code",
   "execution_count": null,
   "id": "35aacab2",
   "metadata": {},
   "outputs": [],
   "source": [
    "#concatenation\n",
    "\n",
    "str1= \"ved\"\n",
    "str2= \"suhani\"\n",
    "print(str1 +\" \"+\"loves\" + \" \"+ str2)"
   ]
  },
  {
   "cell_type": "code",
   "execution_count": null,
   "id": "f229c793",
   "metadata": {},
   "outputs": [],
   "source": [
    "# index in string\n",
    "\n",
    "a =\"ved\"\n",
    "print(a[1])\n",
    "\n",
    "print(a[::-1]) #Reverse"
   ]
  },
  {
   "cell_type": "code",
   "execution_count": null,
   "id": "d737ec34",
   "metadata": {},
   "outputs": [],
   "source": [
    "#index operation on strings\n",
    "\n",
    "a= \"ved prakash loves suhani , She is like flower soft addorable, beautiful , and most important filled with colors\"\n",
    "print(a[0:])# gives till last index\n",
    "print(a[::-1])\n",
    "b=\"sroloc htiw dellif tnatropmi tsom dna , lufituaeb ,elbarodda tfos rewolf ekil si ehS , inahus sevol hsakarp dev\"\n",
    "print(b[::-1])"
   ]
  },
  {
   "cell_type": "code",
   "execution_count": null,
   "id": "3b1ad13f",
   "metadata": {},
   "outputs": [],
   "source": [
    "a= \"Radha , She is like flower soft , beautiful , and most important filled with colors\"\n",
    "#start , end-1 , skip-1.......lets see\n",
    "\n",
    "print(a[0:10:3])#till 9 character and skips 2 char\n",
    "print(a[::1])#it will print all string from start to end\n"
   ]
  },
  {
   "cell_type": "code",
   "execution_count": null,
   "id": "990d500a",
   "metadata": {},
   "outputs": [],
   "source": [
    "#We can not change the string , cause its immutable but we can replace the string\n",
    "a=\"asb dfh \"\n",
    "a=a.replace(\"asb\",\"ved\")\n",
    "print(a)\n",
    "#to print the text in the lower or upper case\n",
    "\n",
    "b=a.upper()\n",
    "print(b)"
   ]
  },
  {
   "cell_type": "code",
   "execution_count": null,
   "id": "3caaa756",
   "metadata": {},
   "outputs": [],
   "source": [
    "#Searching in the string\n",
    "\n",
    "a=\"hello my dear how are you\"\n",
    "\n",
    "# print(\"my\" in a)\n",
    "# print(\"love\" in a)\n",
    "print((\"love\" in a, \"my\"in a))# this is shortcut for both case to print\n",
    "\n",
    "\n",
    "\n"
   ]
  },
  {
   "cell_type": "code",
   "execution_count": null,
   "id": "cbc6f3fe",
   "metadata": {},
   "outputs": [],
   "source": [
    "#searching through if statement\n",
    "\n",
    "text=\"jarvis don't leave me buddy\"\n",
    "search_text=\"jarvis\"\n",
    "\n",
    "if search_text in text:\n",
    "    print(\"Yes\")\n",
    "else:\n",
    "    print(\"No\")"
   ]
  },
  {
   "cell_type": "code",
   "execution_count": null,
   "id": "26678128",
   "metadata": {},
   "outputs": [],
   "source": [
    "#String comparison\n",
    "\n",
    "a=\"v\"\n",
    "b=\"v\"\n",
    "print(a==b)\n",
    "c=\"d\"\n",
    "e=\"D\"\n",
    "print(c==e)"
   ]
  },
  {
   "cell_type": "code",
   "execution_count": null,
   "id": "f62823d5",
   "metadata": {},
   "outputs": [],
   "source": [
    "coupon_code=\"ved\"\n",
    "applied_code=input(\"enter the coupon code\")\n",
    "\n",
    "if applied_code == coupon_code:\n",
    "    print(\"offer is applied\")\n",
    "else:\n",
    "    print(\"no offer applied\")"
   ]
  },
  {
   "cell_type": "code",
   "execution_count": null,
   "id": "1f6c0b48",
   "metadata": {},
   "outputs": [],
   "source": [
    "#sorting of the string\n",
    "\n",
    "A=[\"Abhishek\", \"Ved\",\"Rahul\"]\n",
    "\n",
    "print(sorted(A))"
   ]
  },
  {
   "cell_type": "code",
   "execution_count": null,
   "id": "0e592f92",
   "metadata": {},
   "outputs": [],
   "source": [
    "#to remove the extra space from the string\n",
    "A=\"         ved          prakash   kushwaha\"\n",
    "print(A.strip()) #this removes only space from starting and ending\n",
    "\n",
    "#to remove all the extra space just do it\n",
    "A=\" \".join(A.split())\n",
    "print(A)"
   ]
  },
  {
   "cell_type": "code",
   "execution_count": null,
   "id": "a2e9d9dd",
   "metadata": {},
   "outputs": [],
   "source": [
    "#Escape character\n",
    "\n",
    "# /t it is tab adds 4 space\n",
    "table=\"Name\\tAge\\tGrade\\nAbhishek\\t22\\tA+\"\n",
    "print(table)\n"
   ]
  },
  {
   "cell_type": "code",
   "execution_count": null,
   "id": "4b275bb1",
   "metadata": {},
   "outputs": [],
   "source": [
    "#String formatting\n",
    "\n",
    "name= input(\"enter the name\")\n",
    "greetings=f\"hello {name},how are i am going to you?\"\n",
    "print(greetings)"
   ]
  },
  {
   "cell_type": "code",
   "execution_count": null,
   "id": "4177fea9",
   "metadata": {},
   "outputs": [],
   "source": [
    "a=\"ved prakash\"\n",
    "for i in a:\n",
    "    print(i)"
   ]
  }
 ],
 "metadata": {
  "kernelspec": {
   "display_name": "Python 3",
   "language": "python",
   "name": "python3"
  },
  "language_info": {
   "codemirror_mode": {
    "name": "ipython",
    "version": 3
   },
   "file_extension": ".py",
   "mimetype": "text/x-python",
   "name": "python",
   "nbconvert_exporter": "python",
   "pygments_lexer": "ipython3",
   "version": "3.13.2"
  }
 },
 "nbformat": 4,
 "nbformat_minor": 5
}
