{
 "cells": [
  {
   "cell_type": "code",
   "execution_count": null,
   "id": "d42dc7ec",
   "metadata": {},
   "outputs": [],
   "source": [
    "\"\"\" Module: it is set of codes , function or class:\"\"\"\n",
    "\"\"\" Package: it is collection of Modules\"\"\"\n",
    "\"\"\" Library : it is collection of Package and Module\"\"\""
   ]
  }
 ],
 "metadata": {
  "language_info": {
   "name": "python"
  }
 },
 "nbformat": 4,
 "nbformat_minor": 5
}
