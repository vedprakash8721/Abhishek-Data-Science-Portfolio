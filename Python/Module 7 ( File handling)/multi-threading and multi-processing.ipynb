{
 "cells": [
  {
   "cell_type": "code",
   "execution_count": null,
   "id": "ac82d3a1",
   "metadata": {},
   "outputs": [],
   "source": [
    "# process runs parallely on multiple processors >> Multiprocessing\n",
    "\n",
    "# process runs concurrently on multiple threads in a processor >> Multi-threading\n",
    "\n"
   ]
  },
  {
   "cell_type": "code",
   "execution_count": null,
   "id": "3a475413",
   "metadata": {},
   "outputs": [
    {
     "name": "stdout",
     "output_type": "stream",
     "text": [
      "we are calculating something:\n",
      "time taken by light to reach 3000000 km in a second:\n",
      "we are calculating something:\n",
      "time taken by light to reach 3000000 km in a second:\n",
      "we are calculating something:\n",
      "time taken by light to reach 3000000 km in a second:\n",
      "time taken for this program is 3.0035 seconds\n"
     ]
    }
   ],
   "source": [
    "# Time complexity of a program we have already done in decoraators . now will do this with different method\n",
    "\n",
    "\"\"\" import time \"\"\"\n",
    "import time\n",
    "start_time= time.perf_counter()\n",
    "def func():\n",
    "    print(\"we are calculating something:\")\n",
    "    print(\"time taken by light to reach 3000000 km in a second:\")\n",
    "    time.sleep(1)  \n",
    "func()\n",
    "func()\n",
    "func()\n",
    "end_time=time.perf_counter()\n",
    "print(f\"time taken for this program is {round(end_time-start_time,4)} seconds\")\n",
    "# since the program run sequencially  3 times so it took 3 seconds\n",
    "# single thread on single core \n",
    "\n"
   ]
  },
  {
   "cell_type": "code",
   "execution_count": 25,
   "id": "a209bd47",
   "metadata": {},
   "outputs": [
    {
     "name": "stdout",
     "output_type": "stream",
     "text": [
      "we are calculating something:\n",
      "time taken by light to reach 3000000 km in a second:\n",
      "we are calculating something:\n",
      "time taken by light to reach 3000000 km in a second:\n",
      "we are calculating something:\n",
      "time taken by light to reach 3000000 km in a second:\n",
      "time taken for this program is 1.0078 seconds\n"
     ]
    },
    {
     "data": {
      "text/plain": [
       "' the task that was taking 3 second is now done in 1 second with threading : '"
      ]
     },
     "execution_count": 25,
     "metadata": {},
     "output_type": "execute_result"
    }
   ],
   "source": [
    "# Multi-threading:\n",
    "\n",
    "import time\n",
    "import threading\n",
    "start_time= time.perf_counter()\n",
    "def func():\n",
    "    print(\"we are calculating something:\")\n",
    "    print(\"time taken by light to reach 3000000 km in a second:\")\n",
    "    time.sleep(1) \n",
    "# runing program on three threads\n",
    "t1=threading.Thread(target=func) \n",
    "t2=threading.Thread(target=func) \n",
    "t3=threading.Thread(target=func)\n",
    "\n",
    "t1.start() # this will start the thread\n",
    "t2.start()\n",
    "t3.start()\n",
    "\n",
    "t1.join() # join first executes this thread and then the main thread will be executed:\n",
    "t2.join()\n",
    "t3.join()\n",
    "\n",
    "end_time=time.perf_counter()\n",
    "print(f\"time taken for this program is {round(end_time-start_time,4)} seconds\") #this is main thread\n",
    "\n",
    "\"\"\" the task that was taking 3 second is now done in 1 second with threading : \"\"\""
   ]
  }
 ],
 "metadata": {
  "kernelspec": {
   "display_name": "Python 3",
   "language": "python",
   "name": "python3"
  },
  "language_info": {
   "codemirror_mode": {
    "name": "ipython",
    "version": 3
   },
   "file_extension": ".py",
   "mimetype": "text/x-python",
   "name": "python",
   "nbconvert_exporter": "python",
   "pygments_lexer": "ipython3",
   "version": "3.13.5"
  }
 },
 "nbformat": 4,
 "nbformat_minor": 5
}
