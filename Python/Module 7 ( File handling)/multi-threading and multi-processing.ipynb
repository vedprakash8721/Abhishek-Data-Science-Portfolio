{
 "cells": [
  {
   "cell_type": "code",
   "execution_count": 1,
   "id": "790a6ef4",
   "metadata": {},
   "outputs": [],
   "source": [
    "import multiprocessing\n",
    "\n",
    "def task(name):\n",
    "    print(f\"{name} is running\")\n",
    "\n",
    "p1 = multiprocessing.Process(target=task, args=(\"Process 1\",))\n",
    "p2 = multiprocessing.Process(target=task, args=(\"Process 2\",))\n",
    "\n",
    "p1.start()\n",
    "p2.start()\n",
    "p1.join()\n",
    "p2.join()\n"
   ]
  }
 ],
 "metadata": {
  "kernelspec": {
   "display_name": "Python 3",
   "language": "python",
   "name": "python3"
  },
  "language_info": {
   "codemirror_mode": {
    "name": "ipython",
    "version": 3
   },
   "file_extension": ".py",
   "mimetype": "text/x-python",
   "name": "python",
   "nbconvert_exporter": "python",
   "pygments_lexer": "ipython3",
   "version": "3.13.5"
  }
 },
 "nbformat": 4,
 "nbformat_minor": 5
}
