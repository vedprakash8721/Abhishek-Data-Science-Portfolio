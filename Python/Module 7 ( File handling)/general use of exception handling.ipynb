{
 "cells": [
  {
   "cell_type": "code",
   "execution_count": null,
   "id": "20e6085e",
   "metadata": {},
   "outputs": [],
   "source": [
    "# exception is something that distrub the normal event\n",
    "# a exception in python is that distrub the program execution or regular flow of execution"
   ]
  },
  {
   "cell_type": "code",
   "execution_count": null,
   "id": "7dbdb1ed",
   "metadata": {},
   "outputs": [],
   "source": [
    "print(6/5)\n",
    "print(\"there is no error\")\n",
    "print(5*8)\n",
    "print(6/0) # due to this code the next code are executed\n",
    "print(\"if this code is not executed then there is possibility that error has occured\")\n"
   ]
  },
  {
   "cell_type": "code",
   "execution_count": null,
   "id": "3c8c3d97",
   "metadata": {},
   "outputs": [],
   "source": [
    "# so the idea of exception handling was to handle the unwanted error that affect the remaining code.\n",
    "\n",
    "\"\"\" How to handle exception : we can handle the exception by using try and catch block.\"\"\""
   ]
  },
  {
   "cell_type": "code",
   "execution_count": null,
   "id": "7247444d",
   "metadata": {},
   "outputs": [],
   "source": [
    " # Try Block:\n",
    "\"\"\" syntax: \"\"\"\n",
    "# try:\n",
    "#     statement\n",
    "# except:\n",
    "#     this block will only execute if the exception occurs in the try block"
   ]
  },
  {
   "cell_type": "code",
   "execution_count": 12,
   "id": "bc79fb11",
   "metadata": {},
   "outputs": [
    {
     "name": "stdout",
     "output_type": "stream",
     "text": [
      "the result is : 1669.0343511450383\n",
      "Great there is no problem in the try block\n"
     ]
    }
   ],
   "source": [
    "\"\"\" with an example \"\"\"\n",
    "a=float(input(\"enter the number to be devided:\"))\n",
    "b=float(input(\"enter the number which devides:\"))\n",
    "try:\n",
    "    c=a/b\n",
    "    print(\"the result is :\",c)\n",
    "except Exception as e:\n",
    "    print(\"invalid input taken :\",e)\n",
    "    # we can use else block when we want that some code execute only when the try block is executed:\n",
    "else:\n",
    "    print(\"Great there is no problem in the try block\")\n"
   ]
  },
  {
   "cell_type": "code",
   "execution_count": 31,
   "id": "db6facab",
   "metadata": {},
   "outputs": [
    {
     "name": "stdout",
     "output_type": "stream",
     "text": [
      "file is not closed in the try block\n",
      "the file is closed in the else block:\n"
     ]
    }
   ],
   "source": [
    "# Use Case: 2\n",
    "\"\"\" we can use the else block when we want to perform remaining like in this example we use the else block to close the file\"\"\"\n",
    "\n",
    "try:\n",
    "    data =open(\"example_file.txt\",\"w\")\n",
    "    data.write(\"hello , this is exception handling\")\n",
    "    if data.closed==False:\n",
    "        print(\"file is not closed in the try block\")\n",
    "except Exception as e :\n",
    "    print(\"there is an issue:\",e)\n",
    "else:\n",
    "    data.closed\n",
    "    print(\"the file is closed in the else block:\")\n",
    "\n",
    "\n",
    "\n",
    "\n"
   ]
  },
  {
   "cell_type": "code",
   "execution_count": null,
   "id": "b96013dc",
   "metadata": {},
   "outputs": [],
   "source": []
  }
 ],
 "metadata": {
  "kernelspec": {
   "display_name": "Python 3",
   "language": "python",
   "name": "python3"
  },
  "language_info": {
   "codemirror_mode": {
    "name": "ipython",
    "version": 3
   },
   "file_extension": ".py",
   "mimetype": "text/x-python",
   "name": "python",
   "nbconvert_exporter": "python",
   "pygments_lexer": "ipython3",
   "version": "3.13.5"
  }
 },
 "nbformat": 4,
 "nbformat_minor": 5
}
