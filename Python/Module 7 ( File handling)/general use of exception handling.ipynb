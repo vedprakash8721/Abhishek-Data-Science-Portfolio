{
 "cells": [
  {
   "cell_type": "code",
   "execution_count": null,
   "id": "20e6085e",
   "metadata": {},
   "outputs": [],
   "source": [
    "# exception is something that distrub the normal event\n",
    "# a exception in python is that distrub the program execution or regular flow of execution"
   ]
  },
  {
   "cell_type": "code",
   "execution_count": null,
   "id": "7dbdb1ed",
   "metadata": {},
   "outputs": [],
   "source": [
    "print(6/5)\n",
    "print(\"there is no error\")\n",
    "print(5*8)\n",
    "print(6/0) # due to this code the next code are executed\n",
    "print(\"if this code is not executed then there is possibility that error has occured\")\n"
   ]
  },
  {
   "cell_type": "code",
   "execution_count": null,
   "id": "3c8c3d97",
   "metadata": {},
   "outputs": [],
   "source": [
    "# so the idea of exception handling was to handle the unwanted error that affect the remaining code.\n"
   ]
  }
 ],
 "metadata": {
  "kernelspec": {
   "display_name": "Python 3",
   "language": "python",
   "name": "python3"
  },
  "language_info": {
   "codemirror_mode": {
    "name": "ipython",
    "version": 3
   },
   "file_extension": ".py",
   "mimetype": "text/x-python",
   "name": "python",
   "nbconvert_exporter": "python",
   "pygments_lexer": "ipython3",
   "version": "3.13.5"
  }
 },
 "nbformat": 4,
 "nbformat_minor": 5
}
