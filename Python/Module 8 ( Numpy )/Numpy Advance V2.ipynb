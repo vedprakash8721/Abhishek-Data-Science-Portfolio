{
 "cells": [
  {
   "cell_type": "code",
   "execution_count": null,
   "id": "d5bea506",
   "metadata": {},
   "outputs": [
    {
     "name": "stdout",
     "output_type": "stream",
     "text": [
      "real array \n",
      " [[1 2 2]\n",
      " [3 3 1]\n",
      " [3 2 2]]\n",
      "real array\n",
      " [[1 3 3]\n",
      " [1 2 1]\n",
      " [2 1 3]]\n",
      "converted array 1: [1 2 2 3 3 1 3 2 2]\n",
      "converted array 2: [1 3 3 1 2 1 2 1 3]\n"
     ]
    }
   ],
   "source": [
    "import numpy as np\n",
    "# Numpy Advance V2:\n",
    "# we can collapse the matrix in one dimension\n",
    "arr1=np.random.randint(1,4,(3,3))\n",
    "arr2=np.random.randint(1,4,(3,3))\n",
    "print(\"real array \\n\",arr1)\n",
    "print(\"real array\\n\",arr2)\n",
    "print(\"converted array 1:\",arr1.flatten())\n",
    "print(\"converted array 2:\",arr2.flatten())"
   ]
  },
  {
   "cell_type": "code",
   "execution_count": null,
   "id": "e37a97e3",
   "metadata": {},
   "outputs": [
    {
     "name": "stdout",
     "output_type": "stream",
     "text": [
      "[ 3  3 52  4 24  3]\n",
      "1\n",
      "converted array on x axis \n",
      " [[ 3  3 52  4 24  3]]\n",
      "converted array on y axis \n",
      " [[ 3]\n",
      " [ 3]\n",
      " [52]\n",
      " [ 4]\n",
      " [24]\n",
      " [ 3]]\n"
     ]
    }
   ],
   "source": [
    "# expand the dimension of the array\n",
    "# expand_dims increases the dimension by 1\n",
    "import numpy as np\n",
    "arr1=np.array([3,3,52,4,24,3])\n",
    "print(arr1)\n",
    "print(arr1.ndim)\n",
    "# to expand the dimension\n",
    "print(\"converted array on x axis \\n\",np.expand_dims(arr1,axis =0))# axis =0 : row wise or x axis\n",
    "# to expand on y axis\n",
    "print(\"converted array on y axis \\n\",np.expand_dims(arr1,axis=1))\n"
   ]
  },
  {
   "cell_type": "code",
   "execution_count": 17,
   "id": "80de0f2d",
   "metadata": {},
   "outputs": [
    {
     "name": "stdout",
     "output_type": "stream",
     "text": [
      "2\n",
      "1\n"
     ]
    }
   ],
   "source": [
    "\"\"\" queeze dimension : Dimension is size 1\tRemoves it\n",
    "Dimension is size > 1\tKeeps it\n",
    "No dimension is size 1\tNo change \"\"\"\n",
    "arr=np.random.randint(1,4,(1,4))\n",
    "print(arr.ndim)\n",
    "arr=np.squeeze(arr)\n",
    "print(arr.ndim)"
   ]
  },
  {
   "cell_type": "code",
   "execution_count": 21,
   "id": "e97487c7",
   "metadata": {},
   "outputs": [
    {
     "name": "stdout",
     "output_type": "stream",
     "text": [
      " original array \n",
      " [[1 1 1 3]\n",
      " [2 1 3 3]\n",
      " [3 1 1 3]]\n",
      "---------------------- breaking the line -----------------------\n",
      "[[1 1 1 3]\n",
      " [1 1 1 3]\n",
      " [1 1 1 3]\n",
      " [2 1 3 3]\n",
      " [2 1 3 3]\n",
      " [2 1 3 3]\n",
      " [3 1 1 3]\n",
      " [3 1 1 3]\n",
      " [3 1 1 3]]\n",
      "---------------------- breaking the line -----------------------\n",
      "[[1 1 1 3]\n",
      " [1 1 1 3]\n",
      " [1 1 1 3]\n",
      " [2 1 3 3]\n",
      " [2 1 3 3]\n",
      " [2 1 3 3]\n",
      " [3 1 1 3]\n",
      " [3 1 1 3]\n",
      " [3 1 1 3]]\n"
     ]
    }
   ],
   "source": [
    "# repeat the values of the matrix\n",
    "arr=np.random.randint(1,4,(3,4))\n",
    "print(\" original array \\n\",arr)\n",
    "print(\"---------------------- breaking the line -----------------------\")\n",
    "print(np.repeat(arr,3,axis=0)) # repeats the value 3 times row wise\n",
    "print(\"---------------------- breaking the line -----------------------\")\n",
    "print(np.repeat(arr,3,axis=0)) # repeats the value 3 times column wise"
   ]
  },
  {
   "cell_type": "code",
   "execution_count": 24,
   "id": "6efa0375",
   "metadata": {},
   "outputs": [
    {
     "name": "stdout",
     "output_type": "stream",
     "text": [
      "[[2 1 2 2]\n",
      " [1 3 1 2]\n",
      " [3 2 1 1]]\n",
      "[[1 2 2 1]\n",
      " [3 1 2 3]\n",
      " [2 1 1 2]]\n",
      "[[2 2 1 3]\n",
      " [1 2 3 2]\n",
      " [1 1 2 1]]\n"
     ]
    }
   ],
   "source": [
    "# roll : shift the value according to given value\n",
    "arr=np.random.randint(1,4,(3,4))\n",
    "print(arr)\n",
    "print(np.roll(arr,-1)) # column one is placed at last and second became first\n",
    "print(np.roll(arr,-2))"
   ]
  },
  {
   "cell_type": "code",
   "execution_count": 14,
   "id": "9f3e951e",
   "metadata": {},
   "outputs": [
    {
     "name": "stdout",
     "output_type": "stream",
     "text": [
      "array 1\n",
      " [[2 2 2]\n",
      " [3 2 2]\n",
      " [1 2 1]]\n",
      "array 2\n",
      " [[2 3 1]\n",
      " [3 2 3]\n",
      " [1 1 3]]\n",
      "---------------------- breaking the line -----------------------\n",
      "index wise multiplication \n",
      " [[4 6 2]\n",
      " [9 4 6]\n",
      " [1 2 3]]\n",
      "mean of the arr \n",
      " 1.8888888888888888\n",
      "standar deviation \n",
      " 0.5665577237325317\n",
      "---------------------- breaking the line -----------------------\n",
      "maximum value of the array \n",
      " 3\n",
      "square of the matrix \n",
      " [[4 4 4]\n",
      " [9 4 4]\n",
      " [1 4 1]]\n",
      "any power \n",
      " [[ 8  8  8]\n",
      " [27  8  8]\n",
      " [ 1  8  1]]\n"
     ]
    }
   ],
   "source": [
    "import numpy as np\n",
    "arr1=np.random.randint(1,4,(3,3))\n",
    "arr2=np.random.randint(1,4,(3,3))\n",
    "print(\"array 1\\n\",arr1)\n",
    "print(\"array 2\\n\",arr2)\n",
    "print(\"---------------------- breaking the line -----------------------\")\n",
    "# some operation that you can perform using numpy\n",
    "print(\"index wise multiplication \\n\",np.multiply(arr1,arr2))\n",
    "# some mathematical operation like\n",
    "print(\"mean of the arr \\n\",np.mean(arr1))\n",
    "print(\"standar deviation \\n\",np.std(arr1))\n",
    "print(\"---------------------- breaking the line -----------------------\")\n",
    "print(\"maximum value of the array \\n\",np.max(arr1))\n",
    "print(\"square of the matrix \\n\",np.square(arr1))\n",
    "print(\"any power \\n\",np.pow(arr1,3))"
   ]
  },
  {
   "cell_type": "code",
   "execution_count": 12,
   "id": "6f2f0d8a",
   "metadata": {},
   "outputs": [
    {
     "name": "stdout",
     "output_type": "stream",
     "text": [
      "[3 5 1 2 1 5 3 8]\n",
      "1\n",
      "sorting the array : [1 1 2 3 3 5 5 8]\n"
     ]
    }
   ],
   "source": [
    "# sorting and searching in numpy array\n",
    "import numpy as np\n",
    "arr=np.random.randint(1,9,8) #creating a random array of length 8 range of num 1 to 9\n",
    "print(arr)\n",
    "print(arr.ndim)\n",
    "\"\"\" to sort this arrray\"\"\"\n",
    "print(\"sorting the array :\",np.sort(arr))"
   ]
  },
  {
   "cell_type": "code",
   "execution_count": 30,
   "id": "19f6850c",
   "metadata": {},
   "outputs": [
    {
     "name": "stdout",
     "output_type": "stream",
     "text": [
      "[    1     3     3     3     6     6    24    35    47    78  4362  4873\n",
      "  7445 74747]\n",
      "10\n",
      "count the non zero element:  14\n"
     ]
    }
   ],
   "source": [
    "sample_array=np.array([3,35,24,6,78,3,6,47,4362,4873,74747,7445,1,3])\n",
    "# to search the element\n",
    "\"\"\" searchsorted: it is used to find out the index where we can put the value\"\"\"\n",
    "sorted_array=np.sort(sample_array)\n",
    "print(sorted_array)\n",
    "index =np.searchsorted(sorted_array,87)\n",
    "print(index)\n",
    "print(\"count the non zero element: \",np.count_nonzero(sorted_array))\n"
   ]
  },
  {
   "cell_type": "code",
   "execution_count": 1,
   "id": "e276119a",
   "metadata": {},
   "outputs": [],
   "source": [
    "# Slow way\n",
    "import numpy as np\n",
    "result = [x**2 for x in range(10000)]\n",
    "\n",
    "# Fast way\n",
    "arr = np.arange(10000)\n",
    "result = arr ** 2\n"
   ]
  },
  {
   "cell_type": "code",
   "execution_count": 2,
   "id": "c60f8729",
   "metadata": {},
   "outputs": [
    {
     "name": "stdout",
     "output_type": "stream",
     "text": [
      "2.3333333333333335\n"
     ]
    }
   ],
   "source": [
    "from numpy import ma\n",
    "arr = np.array([1, 2, -99, 4])\n",
    "masked_arr = ma.masked_equal(arr, -99)\n",
    "print(masked_arr.mean())\n"
   ]
  }
 ],
 "metadata": {
  "kernelspec": {
   "display_name": "Python 3",
   "language": "python",
   "name": "python3"
  },
  "language_info": {
   "codemirror_mode": {
    "name": "ipython",
    "version": 3
   },
   "file_extension": ".py",
   "mimetype": "text/x-python",
   "name": "python",
   "nbconvert_exporter": "python",
   "pygments_lexer": "ipython3",
   "version": "3.13.5"
  }
 },
 "nbformat": 4,
 "nbformat_minor": 5
}
