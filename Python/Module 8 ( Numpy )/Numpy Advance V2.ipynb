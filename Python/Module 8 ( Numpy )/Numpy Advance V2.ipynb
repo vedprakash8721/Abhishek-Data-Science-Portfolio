{
 "cells": [
  {
   "cell_type": "code",
   "execution_count": null,
   "id": "d5bea506",
   "metadata": {},
   "outputs": [
    {
     "name": "stdout",
     "output_type": "stream",
     "text": [
      "real array \n",
      " [[1 2 2]\n",
      " [3 3 1]\n",
      " [3 2 2]]\n",
      "real array\n",
      " [[1 3 3]\n",
      " [1 2 1]\n",
      " [2 1 3]]\n",
      "converted array 1: [1 2 2 3 3 1 3 2 2]\n",
      "converted array 2: [1 3 3 1 2 1 2 1 3]\n"
     ]
    }
   ],
   "source": [
    "import numpy as np\n",
    "# Numpy Advance V2:\n",
    "# we can collapse the matrix in one dimension\n",
    "arr1=np.random.randint(1,4,(3,3))\n",
    "arr2=np.random.randint(1,4,(3,3))\n",
    "print(\"real array \\n\",arr1)\n",
    "print(\"real array\\n\",arr2)\n",
    "print(\"converted array 1:\",arr1.flatten())\n",
    "print(\"converted array 2:\",arr2.flatten())"
   ]
  },
  {
   "cell_type": "code",
   "execution_count": 14,
   "id": "e37a97e3",
   "metadata": {},
   "outputs": [
    {
     "name": "stdout",
     "output_type": "stream",
     "text": [
      "[ 3  3 52  4 24  3]\n",
      "1\n",
      "converted array on x axis \n",
      " [[ 3  3 52  4 24  3]]\n",
      "converted array on y axis \n",
      " [[ 3]\n",
      " [ 3]\n",
      " [52]\n",
      " [ 4]\n",
      " [24]\n",
      " [ 3]]\n"
     ]
    }
   ],
   "source": [
    "# expand the dimension of the array\n",
    "import numpy as np\n",
    "arr1=np.array([3,3,52,4,24,3])\n",
    "print(arr1)\n",
    "print(arr1.ndim)\n",
    "# to expand the dimension\n",
    "print(\"converted array on x axis \\n\",np.expand_dims(arr1,axis =0))# axis =0 : row wise or x axis\n",
    "# to expand on y axis\n",
    "print(\"converted array on y axis \\n\",np.expand_dims(arr1,axis=1))\n"
   ]
  }
 ],
 "metadata": {
  "kernelspec": {
   "display_name": "Python 3",
   "language": "python",
   "name": "python3"
  },
  "language_info": {
   "codemirror_mode": {
    "name": "ipython",
    "version": 3
   },
   "file_extension": ".py",
   "mimetype": "text/x-python",
   "name": "python",
   "nbconvert_exporter": "python",
   "pygments_lexer": "ipython3",
   "version": "3.13.5"
  }
 },
 "nbformat": 4,
 "nbformat_minor": 5
}
