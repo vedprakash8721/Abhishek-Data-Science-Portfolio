{
 "cells": [
  {
   "cell_type": "code",
   "execution_count": null,
   "id": "f261ec88",
   "metadata": {},
   "outputs": [],
   "source": [
    "\"\"\"\n",
    "   Numpy: numpy stands for numerical python. \n",
    "   Introduced by Travis Oliphant in 2005.\n",
    "   Before 2005 there were other mathematical library or tools ( Tora , Lingo )\n",
    "\"\"\""
   ]
  },
  {
   "cell_type": "code",
   "execution_count": null,
   "id": "d9919138",
   "metadata": {},
   "outputs": [
    {
     "data": {
      "text/plain": [
       "'2.3.0'"
      ]
     },
     "execution_count": 1,
     "metadata": {},
     "output_type": "execute_result"
    }
   ],
   "source": [
    "# syntax is impory numpy as np  \n",
    "# to check the version of any library\n",
    "import numpy as np\n",
    "np.__version__\n",
    "# numpy is fast for mathematical operation over arrays\n",
    "# numpy stores the data in numpy array\n",
    "\"\"\" then the question could be asked that why numpy? when we have already array. \n",
    "    Fastest programming lang is C and numpy is built on C. numpy contains homogenous data type that allows it to compute fast.\n",
    "    \n",
    "\"\"\""
   ]
  },
  {
   "cell_type": "code",
   "execution_count": null,
   "id": "ee4a62da",
   "metadata": {},
   "outputs": [
    {
     "name": "stdout",
     "output_type": "stream",
     "text": [
      "<class 'list'>\n",
      "<class 'numpy.ndarray'>\n",
      "['Abhishek ' '1' '35' '5']\n"
     ]
    }
   ],
   "source": [
    "lis=[\"Abhishek \", 1,35,5]\n",
    "print(type(lis))\n",
    "arr=np.array(lis)\n",
    "print(type(arr)) #output : <class 'numpy.ndarray'> ndarray stands for n dimensional array. \n",
    "print(arr)  # in the lis 1,35,5 was treated as integer but in numpy it is treated as arr\n"
   ]
  },
  {
   "cell_type": "code",
   "execution_count": 6,
   "id": "7f4bce94",
   "metadata": {},
   "outputs": [
    {
     "name": "stdout",
     "output_type": "stream",
     "text": [
      "['abhishek' '23' '356' '67' '3.6']\n",
      "[ 43.6  664.4    4.46   6.    63.  ]\n"
     ]
    }
   ],
   "source": [
    "# array convert kar deta hai sab data type ko kisi convetable data type me \n",
    "# like kisi list me integer aur float value ho aur jab hum use arr me convert krenge to wo use float me convert kar dega\n",
    "# kyuki float ko integer me kar nhi sakte data loss ho jayega . ya fir string ho to sabko string me convert kr dega\n",
    "\"\"\" lets see through an example\"\"\"\n",
    "\n",
    "list1 =[\"abhishek\",23,356,67,3.6]\n",
    "arr=np.array(list1)\n",
    "print(arr)\n",
    "\n",
    "list2=[43.6,664.4,4.46,6,63]\n",
    "arr2=np.array(list2)\n",
    "print(arr2)"
   ]
  },
  {
   "cell_type": "code",
   "execution_count": null,
   "id": "0f686961",
   "metadata": {},
   "outputs": [
    {
     "name": "stdout",
     "output_type": "stream",
     "text": [
      "<class 'numpy.ndarray'>\n",
      "1\n",
      "[[ 23 356  67]\n",
      " [ 35  63   6]]\n",
      "2\n"
     ]
    }
   ],
   "source": [
    "\"\"\" lets see what in k ndarray:\"\"\"\n",
    "list1 =[23,356,67]\n",
    "arr1=np.array(list1)\n",
    "print(type(arr1))\n",
    "print(arr1.ndim)\n",
    "list2=[[23,356,67],[35,63,6]]\n",
    "arr2=np.array(list2)\n",
    "print(arr2)#it stores it in two dimension \n",
    "print(arr2.ndim)\n"
   ]
  }
 ],
 "metadata": {
  "kernelspec": {
   "display_name": "Python 3",
   "language": "python",
   "name": "python3"
  },
  "language_info": {
   "codemirror_mode": {
    "name": "ipython",
    "version": 3
   },
   "file_extension": ".py",
   "mimetype": "text/x-python",
   "name": "python",
   "nbconvert_exporter": "python",
   "pygments_lexer": "ipython3",
   "version": "3.13.5"
  }
 },
 "nbformat": 4,
 "nbformat_minor": 5
}
