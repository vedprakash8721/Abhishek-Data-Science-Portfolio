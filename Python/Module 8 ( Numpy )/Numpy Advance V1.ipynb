{
 "cells": [
  {
   "cell_type": "code",
   "execution_count": null,
   "id": "b124d392",
   "metadata": {},
   "outputs": [
    {
     "name": "stdout",
     "output_type": "stream",
     "text": [
      "one dimensional array :  [0. 0. 0. 0. 0.]\n",
      " three dimensional array : [[0. 0. 0.]\n",
      " [0. 0. 0.]\n",
      " [0. 0. 0.]]\n"
     ]
    }
   ],
   "source": [
    "\"\"\"\n",
    "zeros() in numpy: it simply put zero at the place of given dimension and the value is stored in the form of array\n",
    "\"\"\"\n",
    "import numpy as np\n",
    "\n",
    "# np.ones(row,col)..... np.ones((dimension,row,col))\n",
    "\n",
    "\n",
    "array1= np.zeros(5) # the (5 ) is value and if you want to dimension . this could be ((5,5)) # lets see the difference.\n",
    "print(\"one dimensional array : \",array1)\n",
    "\n",
    "array2= np.zeros((3,3))\n",
    "print(\" three dimensional array :\",array2)\n"
   ]
  },
  {
   "cell_type": "code",
   "execution_count": 18,
   "id": "a92f322b",
   "metadata": {},
   "outputs": [
    {
     "name": "stdout",
     "output_type": "stream",
     "text": [
      "one dimensional array :  [0 0 0 0 0]\n",
      " three dimensional array : \n",
      " [[0 0 0]\n",
      " [0 0 0]\n",
      " [0 0 0]]\n"
     ]
    }
   ],
   "source": [
    "import numpy as np\n",
    "# you have seen that the value is in float to make it in integer\n",
    "array1= np.zeros(5, dtype=int) \n",
    "print(\"one dimensional array : \",array1)\n",
    "array2= np.zeros((3,3), dtype=int) #(3,3) is shape\n",
    "print(\" three dimensional array : \\n\",array2)"
   ]
  },
  {
   "cell_type": "code",
   "execution_count": 19,
   "id": "d696a1e8",
   "metadata": {},
   "outputs": [
    {
     "name": "stdout",
     "output_type": "stream",
     "text": [
      "[[1 1 1 1]\n",
      " [1 1 1 1]\n",
      " [1 1 1 1]\n",
      " [1 1 1 1]]\n"
     ]
    }
   ],
   "source": [
    "\"\"\" just like zero you can fill this with one with np.ones\"\"\"\n",
    "array3= np.ones((4,4),dtype=int)\n",
    "print(array3)"
   ]
  },
  {
   "cell_type": "code",
   "execution_count": 39,
   "id": "8a24f94e",
   "metadata": {},
   "outputs": [
    {
     "name": "stdout",
     "output_type": "stream",
     "text": [
      "[[[1 1]\n",
      "  [1 1]]]\n",
      "the dimension of the array is : 3\n",
      "[[[1 1 1 1]\n",
      "  [1 1 1 1]\n",
      "  [1 1 1 1]\n",
      "  [1 1 1 1]]\n",
      "\n",
      " [[1 1 1 1]\n",
      "  [1 1 1 1]\n",
      "  [1 1 1 1]\n",
      "  [1 1 1 1]]\n",
      "\n",
      " [[1 1 1 1]\n",
      "  [1 1 1 1]\n",
      "  [1 1 1 1]\n",
      "  [1 1 1 1]]]\n",
      "3\n"
     ]
    }
   ],
   "source": [
    "# 3-D ARRAY : \n",
    "array4=np.ones((1,2,2),dtype=int)\n",
    "print(array4)\n",
    "print(\"the dimension of the array is :\",array4.ndim)\n",
    "\n",
    "# this  is three dimension array\n",
    "array5=np.ones((3,4,4),dtype=int) # you can change dimension like you can increase as well\n",
    "print(array5)\n",
    "print(array5.ndim)\n"
   ]
  },
  {
   "cell_type": "code",
   "execution_count": 40,
   "id": "be50c56e",
   "metadata": {},
   "outputs": [
    {
     "name": "stdout",
     "output_type": "stream",
     "text": [
      "[0 0 0 0 0]\n",
      "\n",
      "\n",
      "[[0 0 0]\n",
      " [0 0 0]\n",
      " [0 0 0]]\n",
      "\n",
      "\n",
      "[[1 1 1 1]\n",
      " [1 1 1 1]\n",
      " [1 1 1 1]\n",
      " [1 1 1 1]]\n",
      "\n",
      "\n",
      "[[[1 1]\n",
      "  [1 1]]]\n",
      "\n",
      "\n",
      "[[[1 1 1 1]\n",
      "  [1 1 1 1]\n",
      "  [1 1 1 1]\n",
      "  [1 1 1 1]]\n",
      "\n",
      " [[1 1 1 1]\n",
      "  [1 1 1 1]\n",
      "  [1 1 1 1]\n",
      "  [1 1 1 1]]\n",
      "\n",
      " [[1 1 1 1]\n",
      "  [1 1 1 1]\n",
      "  [1 1 1 1]\n",
      "  [1 1 1 1]]]\n",
      "\n",
      "\n"
     ]
    }
   ],
   "source": [
    "A=[array1,array2, array3, array4, array5]\n",
    "for i in A:\n",
    "    print(i)\n",
    "    print(\"\\n\")"
   ]
  },
  {
   "cell_type": "code",
   "execution_count": null,
   "id": "091da328",
   "metadata": {},
   "outputs": [
    {
     "name": "stdout",
     "output_type": "stream",
     "text": [
      "[[1 0 0]\n",
      " [0 1 0]\n",
      " [0 0 1]]\n"
     ]
    }
   ],
   "source": [
    "array6=np.eye(3,dtype=int) #creates a 3x3 matrix with diagonal elements 1 and elsewhere 0\n",
    "print(array6)"
   ]
  },
  {
   "cell_type": "code",
   "execution_count": 6,
   "id": "64a967fc",
   "metadata": {},
   "outputs": [
    {
     "name": "stdout",
     "output_type": "stream",
     "text": [
      "[[1 0 0 0]\n",
      " [0 1 0 0]\n",
      " [0 0 1 0]]\n"
     ]
    }
   ],
   "source": [
    "import numpy as np\n",
    "array7=np.eye(3,4,dtype=int)\n",
    "print(array7)\n"
   ]
  },
  {
   "cell_type": "code",
   "execution_count": 88,
   "id": "c0076895",
   "metadata": {},
   "outputs": [
    {
     "name": "stdout",
     "output_type": "stream",
     "text": [
      "45\n",
      "199586\n"
     ]
    }
   ],
   "source": [
    "# Random module: it select random choices from given data \n",
    "\n",
    "import random\n",
    "ran_num=random.choice((45,64,3,54,6,\"dil\",\"jhut\"))\n",
    "print(ran_num)\n",
    "\n",
    "\"\"\" to take the random random number between some range\"\"\"\n",
    "Guess_num =random.randrange(1,594546)\n",
    "print(Guess_num)"
   ]
  },
  {
   "cell_type": "code",
   "execution_count": 108,
   "id": "c096f3f4",
   "metadata": {},
   "outputs": [
    {
     "name": "stdout",
     "output_type": "stream",
     "text": [
      "[34, 44, 46, 435, 6464, 6, 4, 467, 6, 3, 464]\n"
     ]
    }
   ],
   "source": [
    "# in random we can suffle the data randomly\n",
    "import random\n",
    "\n",
    "example=[435,464,34,6,4,6,44,46,3,6464,467]\n",
    "random.shuffle(example)\n",
    "print(example) # it simply shuffle the data "
   ]
  },
  {
   "cell_type": "code",
   "execution_count": 134,
   "id": "3cde763d",
   "metadata": {},
   "outputs": [
    {
     "name": "stdout",
     "output_type": "stream",
     "text": [
      "0.494901053849922\n",
      "[[0.27692326 0.77419346 0.20346416 0.84657361 0.24315509]\n",
      " [0.88755302 0.84634855 0.0315181  0.96918845 0.30561816]\n",
      " [0.31800403 0.59968559 0.71810087 0.01824648 0.35962277]\n",
      " [0.42235663 0.47653626 0.04575892 0.05230462 0.34066291]\n",
      " [0.94070212 0.59600706 0.13973979 0.94973497 0.0059427 ]]\n",
      "------------------breaking the line-------------------\n",
      "[0.63397446]\n",
      "[[0.08353406 0.5894561  0.29022195 0.30757364]\n",
      " [0.44996853 0.94025484 0.87858746 0.70325016]\n",
      " [0.39502255 0.74084609 0.94778926 0.51835039]]\n",
      "2\n"
     ]
    }
   ],
   "source": [
    "ex_ran=np.random.random_sample() # it returns random number \n",
    "print(ex_ran)\n",
    "# for array\n",
    "# np.random.random_sample(row,col)\n",
    "ex_ran_array=np.random.random_sample((5,5))\n",
    "print(ex_ran_array)\n",
    "\n",
    "print(\"------------------breaking the line-------------------\")\n",
    "\n",
    "ex1=np.random.rand(1) #one dimensional array\n",
    "print(ex1)\n",
    "ex2= np.random.rand(3,4) #array of \n",
    "print(ex2)\n",
    "print(ex2.ndim)\n"
   ]
  },
  {
   "cell_type": "code",
   "execution_count": 138,
   "id": "178d196a",
   "metadata": {},
   "outputs": [
    {
     "name": "stdout",
     "output_type": "stream",
     "text": [
      "[[0.08353406 0.5894561  0.29022195]\n",
      " [0.30757364 0.44996853 0.94025484]\n",
      " [0.87858746 0.70325016 0.39502255]\n",
      " [0.74084609 0.94778926 0.51835039]]\n"
     ]
    }
   ],
   "source": [
    "\n",
    "# if you want to reshape or to change the dimension of the array\n",
    "ex4=ex2.reshape(4,3) # during reshape the number of element must be same like the previous one was 3x4 =12 and now 4x3= 12\n",
    "print(ex4) "
   ]
  },
  {
   "cell_type": "code",
   "execution_count": 142,
   "id": "5954a32f",
   "metadata": {},
   "outputs": [
    {
     "name": "stdout",
     "output_type": "stream",
     "text": [
      "[[0.08353406 0.5894561  0.29022195 0.30757364 0.44996853 0.94025484]\n",
      " [0.87858746 0.70325016 0.39502255 0.74084609 0.94778926 0.51835039]]\n"
     ]
    }
   ],
   "source": [
    "# if you don't know what should be the row and col value\n",
    "ex5=ex4.reshape(2,-1) # you gave the num of rows 2 then it automatically detects that what should be the num of col\n",
    "print(ex5)"
   ]
  },
  {
   "cell_type": "code",
   "execution_count": 147,
   "id": "8dcf7965",
   "metadata": {},
   "outputs": [
    {
     "name": "stdout",
     "output_type": "stream",
     "text": [
      "[[0.08353406 0.5894561  0.29022195 0.30757364]\n",
      " [0.44996853 0.94025484 0.87858746 0.70325016]\n",
      " [0.39502255 0.74084609 0.94778926 0.51835039]]\n",
      "[[0.08353406 0.5894561  0.29022195]\n",
      " [0.30757364 0.44996853 0.94025484]\n",
      " [0.87858746 0.70325016 0.39502255]\n",
      " [0.74084609 0.94778926 0.51835039]]\n"
     ]
    }
   ],
   "source": [
    "\"\"\" the question must be asked that when we change the shape of the array then what was the original \"\"\"\n",
    "# for this \n",
    "print(ex5.base)\n",
    "print(ex4)\n"
   ]
  },
  {
   "cell_type": "code",
   "execution_count": 20,
   "id": "274c5814",
   "metadata": {},
   "outputs": [
    {
     "name": "stdout",
     "output_type": "stream",
     "text": [
      "[[3 7 6 3 8 1]\n",
      " [2 5 3 3 4 9]\n",
      " [7 9 2 6 7 8]\n",
      " [4 6 4 5 5 9]\n",
      " [4 7 3 7 2 1]]\n",
      "30 (5, 6) 2\n",
      "[[ True False False  True False  True]\n",
      " [ True False  True  True  True False]\n",
      " [False False  True False False False]\n",
      " [ True False  True False False False]\n",
      " [ True False  True False  True  True]]\n",
      "\n",
      "\n",
      "---------------breaking the line----------------\n",
      "\n",
      "\n",
      "first row:  \n",
      " [3 7 6 3 8 1]\n",
      "element of first row and third col: \n",
      " 6\n",
      "third col: \n",
      " [6 3 2 4 3]\n",
      "from first col to third col: \n",
      " [[3 7 6]\n",
      " [2 5 3]\n",
      " [7 9 2]\n",
      " [4 6 4]\n",
      " [4 7 3]]\n",
      "from oth row to third row [[3 7 6 3 8 1]\n",
      " [2 5 3 3 4 9]\n",
      " [7 9 2 6 7 8]]\n"
     ]
    }
   ],
   "source": [
    "# condition on array\n",
    "import numpy as np\n",
    "array8=np.random.randint(1,10,(5,6))\n",
    "print(array8)\n",
    "print(array8.size,array8.shape,array8.ndim)\n",
    "# to check where the numbers are less than 5( you can choose any num)\n",
    "print(array8<5)\n",
    "print(\"\\n\")\n",
    "print(\"---------------breaking the line----------------\")\n",
    "print(\"\\n\")\n",
    "# to access the element of the array\n",
    "\"\"\" Row wise only\"\"\"\n",
    "print(\"first row:  \\n\",array8[0]) # oth index row or first row (all elements)\n",
    "print(\"element of first row and third col: \\n\",array8[0][2]) # ([row][col])\n",
    "print(\"third col: \\n\",array8[:, 2])  # column at index 2\n",
    "# to access multiple col at once : array[:, [col1, col2, col3, ...]]\n",
    "print(\"from first col to third col: \\n\",array8[:,0:3])\n",
    "\n",
    "# from Oth row to 2nd row\n",
    "print(\"from oth row to third row\",array8[0:3])"
   ]
  },
  {
   "cell_type": "code",
   "execution_count": 34,
   "id": "836e4279",
   "metadata": {},
   "outputs": [
    {
     "name": "stdout",
     "output_type": "stream",
     "text": [
      "array one:\n",
      " [[1 2 4]\n",
      " [4 2 1]\n",
      " [4 3 2]]\n",
      "array two: \n",
      " [[3 2 4]\n",
      " [1 4 4]\n",
      " [1 1 1]]\n",
      "some of them :\n",
      " [[4 4 8]\n",
      " [5 6 5]\n",
      " [5 4 3]]\n",
      "-----------------breaking the line---------------------\n"
     ]
    }
   ],
   "source": [
    "# mathematical operation on two array:\n",
    "\n",
    "array9=np.random.randint(1,5,(3,3))\n",
    "array10=np.random.randint(1,5,(3,3))\n",
    "print(\"array one:\\n\",array9)\n",
    "print(\"array two: \\n\",array10)\n",
    "# addition\n",
    "print(\"some of them :\\n\",array9+array10) # index wise array addition\n",
    "# like this we can perform the subtraction and multiplication as well\n",
    "print(\"-----------------breaking the line---------------------\")"
   ]
  },
  {
   "cell_type": "code",
   "execution_count": 38,
   "id": "7a406bbf",
   "metadata": {},
   "outputs": [
    {
     "name": "stdout",
     "output_type": "stream",
     "text": [
      "with first method: \n",
      " [[ 9 14 16]\n",
      " [15 17 25]\n",
      " [17 22 30]]\n",
      "with second method:\n",
      " [[ 9 14 16]\n",
      " [15 17 25]\n",
      " [17 22 30]]\n"
     ]
    }
   ],
   "source": [
    "# Matrix multiplication\n",
    "\"\"\" Matrix : it is specialised 2-D array \"\"\"\n",
    "# in previous example we saw the index multiplication like a11*b11\n",
    "# but now we will see matrix multiplication ( like mathematics syllabus)\n",
    "print(\"with first method: \\n\",array9@array10)\n",
    "# you can done this with another way\n",
    "print(\"with second method:\\n\",np.dot(array9,array10))"
   ]
  }
 ],
 "metadata": {
  "kernelspec": {
   "display_name": "Python 3",
   "language": "python",
   "name": "python3"
  },
  "language_info": {
   "codemirror_mode": {
    "name": "ipython",
    "version": 3
   },
   "file_extension": ".py",
   "mimetype": "text/x-python",
   "name": "python",
   "nbconvert_exporter": "python",
   "pygments_lexer": "ipython3",
   "version": "3.13.5"
  }
 },
 "nbformat": 4,
 "nbformat_minor": 5
}
