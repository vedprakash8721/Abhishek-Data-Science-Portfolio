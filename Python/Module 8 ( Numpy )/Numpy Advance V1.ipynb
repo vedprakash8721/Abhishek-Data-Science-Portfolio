{
 "cells": [
  {
   "cell_type": "code",
   "execution_count": null,
   "id": "b124d392",
   "metadata": {},
   "outputs": [
    {
     "name": "stdout",
     "output_type": "stream",
     "text": [
      "one dimensional array :  [0. 0. 0. 0. 0.]\n",
      " three dimensional array : [[0. 0. 0.]\n",
      " [0. 0. 0.]\n",
      " [0. 0. 0.]]\n"
     ]
    }
   ],
   "source": [
    "\"\"\"\n",
    "zeros() in numpy: it simply put zero at the place of given dimension and the value is stored in the form of array\n",
    "\"\"\"\n",
    "import numpy as np\n",
    "\n",
    "# np.ones(row,col)..... np.ones((dimension,row,col))\n",
    "\n",
    "\n",
    "array1= np.zeros(5) # the (5 ) is value and if you want to dimension . this could be ((5,5)) # lets see the difference.\n",
    "print(\"one dimensional array : \",array1)\n",
    "\n",
    "array2= np.zeros((3,3))\n",
    "print(\" three dimensional array :\",array2)\n"
   ]
  },
  {
   "cell_type": "code",
   "execution_count": 18,
   "id": "a92f322b",
   "metadata": {},
   "outputs": [
    {
     "name": "stdout",
     "output_type": "stream",
     "text": [
      "one dimensional array :  [0 0 0 0 0]\n",
      " three dimensional array : \n",
      " [[0 0 0]\n",
      " [0 0 0]\n",
      " [0 0 0]]\n"
     ]
    }
   ],
   "source": [
    "import numpy as np\n",
    "# you have seen that the value is in float to make it in integer\n",
    "array1= np.zeros(5, dtype=int) \n",
    "print(\"one dimensional array : \",array1)\n",
    "array2= np.zeros((3,3), dtype=int) #(3,3) is shape\n",
    "print(\" three dimensional array : \\n\",array2)"
   ]
  },
  {
   "cell_type": "code",
   "execution_count": 19,
   "id": "d696a1e8",
   "metadata": {},
   "outputs": [
    {
     "name": "stdout",
     "output_type": "stream",
     "text": [
      "[[1 1 1 1]\n",
      " [1 1 1 1]\n",
      " [1 1 1 1]\n",
      " [1 1 1 1]]\n"
     ]
    }
   ],
   "source": [
    "\"\"\" just like zero you can fill this with one with np.ones\"\"\"\n",
    "array3= np.ones((4,4),dtype=int)\n",
    "print(array3)"
   ]
  },
  {
   "cell_type": "code",
   "execution_count": 39,
   "id": "8a24f94e",
   "metadata": {},
   "outputs": [
    {
     "name": "stdout",
     "output_type": "stream",
     "text": [
      "[[[1 1]\n",
      "  [1 1]]]\n",
      "the dimension of the array is : 3\n",
      "[[[1 1 1 1]\n",
      "  [1 1 1 1]\n",
      "  [1 1 1 1]\n",
      "  [1 1 1 1]]\n",
      "\n",
      " [[1 1 1 1]\n",
      "  [1 1 1 1]\n",
      "  [1 1 1 1]\n",
      "  [1 1 1 1]]\n",
      "\n",
      " [[1 1 1 1]\n",
      "  [1 1 1 1]\n",
      "  [1 1 1 1]\n",
      "  [1 1 1 1]]]\n",
      "3\n"
     ]
    }
   ],
   "source": [
    "# 3-D ARRAY : \n",
    "array4=np.ones((1,2,2),dtype=int)\n",
    "print(array4)\n",
    "print(\"the dimension of the array is :\",array4.ndim)\n",
    "\n",
    "# this  is three dimension array\n",
    "array5=np.ones((3,4,4),dtype=int) # you can change dimension like you can increase as well\n",
    "print(array5)\n",
    "print(array5.ndim)\n"
   ]
  },
  {
   "cell_type": "code",
   "execution_count": 40,
   "id": "be50c56e",
   "metadata": {},
   "outputs": [
    {
     "name": "stdout",
     "output_type": "stream",
     "text": [
      "[0 0 0 0 0]\n",
      "\n",
      "\n",
      "[[0 0 0]\n",
      " [0 0 0]\n",
      " [0 0 0]]\n",
      "\n",
      "\n",
      "[[1 1 1 1]\n",
      " [1 1 1 1]\n",
      " [1 1 1 1]\n",
      " [1 1 1 1]]\n",
      "\n",
      "\n",
      "[[[1 1]\n",
      "  [1 1]]]\n",
      "\n",
      "\n",
      "[[[1 1 1 1]\n",
      "  [1 1 1 1]\n",
      "  [1 1 1 1]\n",
      "  [1 1 1 1]]\n",
      "\n",
      " [[1 1 1 1]\n",
      "  [1 1 1 1]\n",
      "  [1 1 1 1]\n",
      "  [1 1 1 1]]\n",
      "\n",
      " [[1 1 1 1]\n",
      "  [1 1 1 1]\n",
      "  [1 1 1 1]\n",
      "  [1 1 1 1]]]\n",
      "\n",
      "\n"
     ]
    }
   ],
   "source": [
    "A=[array1,array2, array3, array4, array5]\n",
    "for i in A:\n",
    "    print(i)\n",
    "    print(\"\\n\")"
   ]
  },
  {
   "cell_type": "code",
   "execution_count": null,
   "id": "091da328",
   "metadata": {},
   "outputs": [
    {
     "name": "stdout",
     "output_type": "stream",
     "text": [
      "[[1 0 0]\n",
      " [0 1 0]\n",
      " [0 0 1]]\n"
     ]
    }
   ],
   "source": [
    "array6=np.eye(3,dtype=int) #creates a 3x3 matrix with diagonal elements 1 and elsewhere 0\n",
    "print(array6)"
   ]
  },
  {
   "cell_type": "code",
   "execution_count": 6,
   "id": "64a967fc",
   "metadata": {},
   "outputs": [
    {
     "name": "stdout",
     "output_type": "stream",
     "text": [
      "[[1 0 0 0]\n",
      " [0 1 0 0]\n",
      " [0 0 1 0]]\n"
     ]
    }
   ],
   "source": [
    "import numpy as np\n",
    "array7=np.eye(3,4,dtype=int)\n",
    "print(array7)\n"
   ]
  },
  {
   "cell_type": "code",
   "execution_count": 88,
   "id": "c0076895",
   "metadata": {},
   "outputs": [
    {
     "name": "stdout",
     "output_type": "stream",
     "text": [
      "45\n",
      "199586\n"
     ]
    }
   ],
   "source": [
    "# Random module: it select random choices from given data \n",
    "\n",
    "import random\n",
    "ran_num=random.choice((45,64,3,54,6,\"dil\",\"jhut\"))\n",
    "print(ran_num)\n",
    "\n",
    "\"\"\" to take the random random number between some range\"\"\"\n",
    "Guess_num =random.randrange(1,594546)\n",
    "print(Guess_num)"
   ]
  },
  {
   "cell_type": "code",
   "execution_count": null,
   "id": "c096f3f4",
   "metadata": {},
   "outputs": [],
   "source": []
  }
 ],
 "metadata": {
  "kernelspec": {
   "display_name": "Python 3",
   "language": "python",
   "name": "python3"
  },
  "language_info": {
   "codemirror_mode": {
    "name": "ipython",
    "version": 3
   },
   "file_extension": ".py",
   "mimetype": "text/x-python",
   "name": "python",
   "nbconvert_exporter": "python",
   "pygments_lexer": "ipython3",
   "version": "3.13.5"
  }
 },
 "nbformat": 4,
 "nbformat_minor": 5
}
