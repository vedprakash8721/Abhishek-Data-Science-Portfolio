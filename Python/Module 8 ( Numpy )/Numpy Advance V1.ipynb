{
 "cells": [
  {
   "cell_type": "code",
   "execution_count": null,
   "id": "b124d392",
   "metadata": {},
   "outputs": [
    {
     "name": "stdout",
     "output_type": "stream",
     "text": [
      "one dimensional array :  [0. 0. 0. 0. 0.]\n",
      " three dimensional array : [[0. 0. 0.]\n",
      " [0. 0. 0.]\n",
      " [0. 0. 0.]]\n"
     ]
    }
   ],
   "source": [
    "\"\"\"\n",
    "zeros() in numpy: it simply put zero at the place of given dimension and the value is stored in the form of array\n",
    "\"\"\"\n",
    "import numpy as np\n",
    "\n",
    "# np.ones(row,col)..... np.ones((dimension,row,col))\n",
    "\n",
    "\n",
    "array1= np.zeros(5) # the (5 ) is value and if you want to dimension . this could be ((5,5)) # lets see the difference.\n",
    "print(\"one dimensional array : \",array1)\n",
    "\n",
    "array2= np.zeros((3,3))\n",
    "print(\" three dimensional array :\",array2)\n"
   ]
  },
  {
   "cell_type": "code",
   "execution_count": 18,
   "id": "a92f322b",
   "metadata": {},
   "outputs": [
    {
     "name": "stdout",
     "output_type": "stream",
     "text": [
      "one dimensional array :  [0 0 0 0 0]\n",
      " three dimensional array : \n",
      " [[0 0 0]\n",
      " [0 0 0]\n",
      " [0 0 0]]\n"
     ]
    }
   ],
   "source": [
    "import numpy as np\n",
    "# you have seen that the value is in float to make it in integer\n",
    "array1= np.zeros(5, dtype=int) \n",
    "print(\"one dimensional array : \",array1)\n",
    "array2= np.zeros((3,3), dtype=int) #(3,3) is shape\n",
    "print(\" three dimensional array : \\n\",array2)"
   ]
  },
  {
   "cell_type": "code",
   "execution_count": 19,
   "id": "d696a1e8",
   "metadata": {},
   "outputs": [
    {
     "name": "stdout",
     "output_type": "stream",
     "text": [
      "[[1 1 1 1]\n",
      " [1 1 1 1]\n",
      " [1 1 1 1]\n",
      " [1 1 1 1]]\n"
     ]
    }
   ],
   "source": [
    "\"\"\" just like zero you can fill this with one with np.ones\"\"\"\n",
    "array3= np.ones((4,4),dtype=int)\n",
    "print(array3)"
   ]
  },
  {
   "cell_type": "code",
   "execution_count": 39,
   "id": "8a24f94e",
   "metadata": {},
   "outputs": [
    {
     "name": "stdout",
     "output_type": "stream",
     "text": [
      "[[[1 1]\n",
      "  [1 1]]]\n",
      "the dimension of the array is : 3\n",
      "[[[1 1 1 1]\n",
      "  [1 1 1 1]\n",
      "  [1 1 1 1]\n",
      "  [1 1 1 1]]\n",
      "\n",
      " [[1 1 1 1]\n",
      "  [1 1 1 1]\n",
      "  [1 1 1 1]\n",
      "  [1 1 1 1]]\n",
      "\n",
      " [[1 1 1 1]\n",
      "  [1 1 1 1]\n",
      "  [1 1 1 1]\n",
      "  [1 1 1 1]]]\n",
      "3\n"
     ]
    }
   ],
   "source": [
    "# 3-D ARRAY : \n",
    "array4=np.ones((1,2,2),dtype=int)\n",
    "print(array4)\n",
    "print(\"the dimension of the array is :\",array4.ndim)\n",
    "\n",
    "# this  is three dimension array\n",
    "array5=np.ones((3,4,4),dtype=int) # you can change dimension like you can increase as well\n",
    "print(array5)\n",
    "print(array5.ndim)\n"
   ]
  },
  {
   "cell_type": "code",
   "execution_count": 40,
   "id": "be50c56e",
   "metadata": {},
   "outputs": [
    {
     "name": "stdout",
     "output_type": "stream",
     "text": [
      "[0 0 0 0 0]\n",
      "\n",
      "\n",
      "[[0 0 0]\n",
      " [0 0 0]\n",
      " [0 0 0]]\n",
      "\n",
      "\n",
      "[[1 1 1 1]\n",
      " [1 1 1 1]\n",
      " [1 1 1 1]\n",
      " [1 1 1 1]]\n",
      "\n",
      "\n",
      "[[[1 1]\n",
      "  [1 1]]]\n",
      "\n",
      "\n",
      "[[[1 1 1 1]\n",
      "  [1 1 1 1]\n",
      "  [1 1 1 1]\n",
      "  [1 1 1 1]]\n",
      "\n",
      " [[1 1 1 1]\n",
      "  [1 1 1 1]\n",
      "  [1 1 1 1]\n",
      "  [1 1 1 1]]\n",
      "\n",
      " [[1 1 1 1]\n",
      "  [1 1 1 1]\n",
      "  [1 1 1 1]\n",
      "  [1 1 1 1]]]\n",
      "\n",
      "\n"
     ]
    }
   ],
   "source": [
    "A=[array1,array2, array3, array4, array5]\n",
    "for i in A:\n",
    "    print(i)\n",
    "    print(\"\\n\")"
   ]
  },
  {
   "cell_type": "code",
   "execution_count": null,
   "id": "091da328",
   "metadata": {},
   "outputs": [
    {
     "name": "stdout",
     "output_type": "stream",
     "text": [
      "[[1 0 0]\n",
      " [0 1 0]\n",
      " [0 0 1]]\n"
     ]
    }
   ],
   "source": [
    "array6=np.eye(3,dtype=int) #creates a 3x3 matrix with diagonal elements 1 and elsewhere 0\n",
    "print(array6)"
   ]
  },
  {
   "cell_type": "code",
   "execution_count": 6,
   "id": "64a967fc",
   "metadata": {},
   "outputs": [
    {
     "name": "stdout",
     "output_type": "stream",
     "text": [
      "[[1 0 0 0]\n",
      " [0 1 0 0]\n",
      " [0 0 1 0]]\n"
     ]
    }
   ],
   "source": [
    "import numpy as np\n",
    "array7=np.eye(3,4,dtype=int)\n",
    "print(array7)\n"
   ]
  },
  {
   "cell_type": "code",
   "execution_count": 88,
   "id": "c0076895",
   "metadata": {},
   "outputs": [
    {
     "name": "stdout",
     "output_type": "stream",
     "text": [
      "45\n",
      "199586\n"
     ]
    }
   ],
   "source": [
    "# Random module: it select random choices from given data \n",
    "\n",
    "import random\n",
    "ran_num=random.choice((45,64,3,54,6,\"dil\",\"jhut\"))\n",
    "print(ran_num)\n",
    "\n",
    "\"\"\" to take the random random number between some range\"\"\"\n",
    "Guess_num =random.randrange(1,594546)\n",
    "print(Guess_num)"
   ]
  },
  {
   "cell_type": "code",
   "execution_count": 108,
   "id": "c096f3f4",
   "metadata": {},
   "outputs": [
    {
     "name": "stdout",
     "output_type": "stream",
     "text": [
      "[34, 44, 46, 435, 6464, 6, 4, 467, 6, 3, 464]\n"
     ]
    }
   ],
   "source": [
    "# in random we can suffle the data randomly\n",
    "import random\n",
    "\n",
    "example=[435,464,34,6,4,6,44,46,3,6464,467]\n",
    "random.shuffle(example)\n",
    "print(example) # it simply shuffle the data "
   ]
  },
  {
   "cell_type": "code",
   "execution_count": 130,
   "id": "3cde763d",
   "metadata": {},
   "outputs": [
    {
     "name": "stdout",
     "output_type": "stream",
     "text": [
      "0.7219478137249095\n",
      "[[0.96894478 0.26243764 0.68842149 0.0537475  0.79504077]\n",
      " [0.73778994 0.76410525 0.99123256 0.24862106 0.49097929]\n",
      " [0.81600873 0.49370012 0.32550887 0.41907616 0.62873391]\n",
      " [0.84407169 0.66297342 0.7661642  0.56594822 0.94593509]\n",
      " [0.2850172  0.59554627 0.81355971 0.93806713 0.48040804]]\n",
      "------------------breaking the line-------------------\n",
      "[0.69420894]\n",
      "[[0.94139704 0.29413107 0.08540575]\n",
      " [0.44705223 0.33699474 0.92098873]\n",
      " [0.11717256 0.75860796 0.20619034]]\n",
      "2\n"
     ]
    }
   ],
   "source": [
    "ex_ran=np.random.random_sample() # it returns random number \n",
    "print(ex_ran)\n",
    "# for array\n",
    "# np.random.random_sample(row,col)\n",
    "ex_ran_array=np.random.random_sample((5,5))\n",
    "print(ex_ran_array)\n",
    "\n",
    "print(\"------------------breaking the line-------------------\")\n",
    "\n",
    "ex1=np.random.rand(1) #one dimensional array\n",
    "print(ex1)\n",
    "ex2= np.random.rand(3,3) #array of \n",
    "print(ex2)\n",
    "print(ex2.ndim)\n"
   ]
  }
 ],
 "metadata": {
  "kernelspec": {
   "display_name": "Python 3",
   "language": "python",
   "name": "python3"
  },
  "language_info": {
   "codemirror_mode": {
    "name": "ipython",
    "version": 3
   },
   "file_extension": ".py",
   "mimetype": "text/x-python",
   "name": "python",
   "nbconvert_exporter": "python",
   "pygments_lexer": "ipython3",
   "version": "3.13.5"
  }
 },
 "nbformat": 4,
 "nbformat_minor": 5
}
