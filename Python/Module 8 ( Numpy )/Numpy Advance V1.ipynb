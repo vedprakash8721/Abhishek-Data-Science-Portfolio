{
 "cells": [
  {
   "cell_type": "code",
   "execution_count": null,
   "id": "b124d392",
   "metadata": {},
   "outputs": [
    {
     "name": "stdout",
     "output_type": "stream",
     "text": [
      "one dimensional array :  [0. 0. 0. 0. 0.]\n",
      " three dimensional array : [[0. 0. 0.]\n",
      " [0. 0. 0.]\n",
      " [0. 0. 0.]]\n"
     ]
    }
   ],
   "source": [
    "\"\"\"\n",
    "zeros() in numpy: it simply put zero at the place of given dimension and the value is stored in the form of array\n",
    "\"\"\"\n",
    "import numpy as np\n",
    "array1= np.zeros(5) # the (5 ) is value and if you want to dimension . this could be ((5,5)) # lets see the difference.\n",
    "print(\"one dimensional array : \",array1)\n",
    "\n",
    "array2= np.zeros((3,3))\n",
    "print(\" three dimensional array :\",array2)\n"
   ]
  },
  {
   "cell_type": "code",
   "execution_count": 18,
   "id": "a92f322b",
   "metadata": {},
   "outputs": [
    {
     "name": "stdout",
     "output_type": "stream",
     "text": [
      "one dimensional array :  [0 0 0 0 0]\n",
      " three dimensional array : \n",
      " [[0 0 0]\n",
      " [0 0 0]\n",
      " [0 0 0]]\n"
     ]
    }
   ],
   "source": [
    "import numpy as np\n",
    "# you have seen that the value is in float to make it in integer\n",
    "array1= np.zeros(5, dtype=int) \n",
    "print(\"one dimensional array : \",array1)\n",
    "array2= np.zeros((3,3), dtype=int) #(3,3) is shape\n",
    "print(\" three dimensional array : \\n\",array2)"
   ]
  }
 ],
 "metadata": {
  "kernelspec": {
   "display_name": "Python 3",
   "language": "python",
   "name": "python3"
  },
  "language_info": {
   "codemirror_mode": {
    "name": "ipython",
    "version": 3
   },
   "file_extension": ".py",
   "mimetype": "text/x-python",
   "name": "python",
   "nbconvert_exporter": "python",
   "pygments_lexer": "ipython3",
   "version": "3.13.5"
  }
 },
 "nbformat": 4,
 "nbformat_minor": 5
}
