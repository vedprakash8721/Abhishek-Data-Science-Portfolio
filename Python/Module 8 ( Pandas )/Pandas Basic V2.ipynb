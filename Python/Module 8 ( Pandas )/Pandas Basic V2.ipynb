{
 "cells": [
  {
   "cell_type": "code",
   "execution_count": 19,
   "id": "1a180c38",
   "metadata": {},
   "outputs": [
    {
     "name": "stdout",
     "output_type": "stream",
     "text": [
      "Abhishek     5\n",
      "Ved          6\n",
      "ankit       25\n",
      "aditya      12\n",
      "dtype: int64\n",
      "-------------------------Breaking the line----------------------------\n",
      "\n",
      "Roll no of Ved:  6\n",
      "Index(['Abhishek', 'Ved', 'ankit', 'aditya'], dtype='object')\n",
      "-------------------------Breaking the line----------------------------\n",
      "\n",
      "           0\n",
      "Abhishek   5\n",
      "Ved        6\n",
      "ankit     25\n",
      "aditya    12\n",
      "-------------------------Breaking the line----------------------------\n",
      "\n",
      "Index(['id', 'location_id', 'program_id', 'accepted_payments',\n",
      "       'alternate_name', 'application_process', 'audience', 'description',\n",
      "       'eligibility', 'email', 'fees', 'funding_sources',\n",
      "       'interpretation_services', 'keywords', 'languages', 'name',\n",
      "       'required_documents', 'service_areas', 'status', 'wait_time', 'website',\n",
      "       'taxonomy_ids'],\n",
      "      dtype='object')\n",
      "['id', 'location_id', 'program_id', 'accepted_payments', 'alternate_name', 'application_process', 'audience', 'description', 'eligibility', 'email', 'fees', 'funding_sources', 'interpretation_services', 'keywords', 'languages', 'name', 'required_documents', 'service_areas', 'status', 'wait_time', 'website', 'taxonomy_ids']\n"
     ]
    }
   ],
   "source": [
    "import pandas as pd \n",
    "# indexes in series:\n",
    "#Pandas Data Structure: series indexing\n",
    "df= pd.Series([5,6,25,12],index=[\"Abhishek\",\"Ved\",\"ankit\",\"aditya\"])\n",
    "print(df)\n",
    "print(\"-------------------------Breaking the line----------------------------\\n\")\n",
    "# to access the value with index\n",
    "print(\"Roll no of Ved: \", df[\"Ved\"])\n",
    "#to see all the index of the series:\n",
    "print(df.index)\n",
    "print(\"-------------------------Breaking the line----------------------------\\n\")\n",
    "# to reset the index\n",
    "df.reset_index(drop=True)\n",
    "# to convert the series into data frame\n",
    "data_frame=pd.DataFrame(df)\n",
    "print(data_frame)\n",
    "print(\"-------------------------Breaking the line----------------------------\\n\")\n",
    "\"\"\" Multiple series combines and make dataframe ( rows and column )\"\"\"\n",
    "# to see the dimension like how many rows and column\n",
    "data_frame.shape\n",
    "csv=pd.read_csv(\"services (1).csv\")\n",
    "#to see how many column are in the csv file\n",
    "print(csv.columns)\n",
    "\"\"\"you can convert the column in the list\"\"\"\n",
    "print(list(csv.columns))\n"
   ]
  }
 ],
 "metadata": {
  "kernelspec": {
   "display_name": "Python 3",
   "language": "python",
   "name": "python3"
  },
  "language_info": {
   "codemirror_mode": {
    "name": "ipython",
    "version": 3
   },
   "file_extension": ".py",
   "mimetype": "text/x-python",
   "name": "python",
   "nbconvert_exporter": "python",
   "pygments_lexer": "ipython3",
   "version": "3.13.5"
  }
 },
 "nbformat": 4,
 "nbformat_minor": 5
}
