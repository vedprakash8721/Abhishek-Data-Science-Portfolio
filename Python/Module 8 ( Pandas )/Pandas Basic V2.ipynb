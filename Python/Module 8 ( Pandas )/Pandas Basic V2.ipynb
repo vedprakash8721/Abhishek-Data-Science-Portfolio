{
 "cells": [
  {
   "cell_type": "code",
   "execution_count": 5,
   "id": "1a180c38",
   "metadata": {},
   "outputs": [
    {
     "name": "stdout",
     "output_type": "stream",
     "text": [
      "Abhishek     5\n",
      "Ved          6\n",
      "ankit       25\n",
      "aditya      12\n",
      "dtype: int64\n",
      "Roll no of Ved:  6\n",
      "Index(['Abhishek', 'Ved', 'ankit', 'aditya'], dtype='object')\n"
     ]
    }
   ],
   "source": [
    "import pandas as pd \n",
    "# indexes in series:\n",
    "#Pandas Data Structure: series indexing\n",
    "df= pd.Series([5,6,25,12],index=[\"Abhishek\",\"Ved\",\"ankit\",\"aditya\"])\n",
    "print(df)\n",
    "# to access the value with index\n",
    "print(\"Roll no of Ved: \", df[\"Ved\"])\n",
    "#to see all the index of the series:\n",
    "print(df.index)"
   ]
  }
 ],
 "metadata": {
  "kernelspec": {
   "display_name": "Python 3",
   "language": "python",
   "name": "python3"
  },
  "language_info": {
   "codemirror_mode": {
    "name": "ipython",
    "version": 3
   },
   "file_extension": ".py",
   "mimetype": "text/x-python",
   "name": "python",
   "nbconvert_exporter": "python",
   "pygments_lexer": "ipython3",
   "version": "3.13.5"
  }
 },
 "nbformat": 4,
 "nbformat_minor": 5
}
