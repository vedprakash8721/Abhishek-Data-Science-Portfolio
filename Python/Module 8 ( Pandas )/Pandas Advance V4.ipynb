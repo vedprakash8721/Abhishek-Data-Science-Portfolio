{
 "cells": [
  {
   "cell_type": "code",
   "execution_count": 1,
   "id": "669dfec5",
   "metadata": {},
   "outputs": [],
   "source": [
    "# Pandas Advance V4: \n",
    "import pandas as pd\n",
    "import numpy as np\n",
    "from IPython.display import display"
   ]
  },
  {
   "cell_type": "code",
   "execution_count": 13,
   "id": "ae7b5533",
   "metadata": {},
   "outputs": [
    {
     "data": {
      "text/html": [
       "<div>\n",
       "<style scoped>\n",
       "    .dataframe tbody tr th:only-of-type {\n",
       "        vertical-align: middle;\n",
       "    }\n",
       "\n",
       "    .dataframe tbody tr th {\n",
       "        vertical-align: top;\n",
       "    }\n",
       "\n",
       "    .dataframe thead th {\n",
       "        text-align: right;\n",
       "    }\n",
       "</style>\n",
       "<table border=\"1\" class=\"dataframe\">\n",
       "  <thead>\n",
       "    <tr style=\"text-align: right;\">\n",
       "      <th></th>\n",
       "      <th>description</th>\n",
       "    </tr>\n",
       "  </thead>\n",
       "  <tbody>\n",
       "    <tr>\n",
       "      <th>0</th>\n",
       "      <td>Lorem ipsum dolor sit amet, consectetur adipiscing elit. Integer sed augue nec urna gravida luctus. Pellentesque habitant morbi tristique senectus et netus et malesuada fames ac turpis egestas. Donec vel nisl at orci aliquet fermentum sit amet ut quam.</td>\n",
       "    </tr>\n",
       "  </tbody>\n",
       "</table>\n",
       "</div>"
      ],
      "text/plain": [
       "                                                                                                                                                                                                                                                    description\n",
       "0  Lorem ipsum dolor sit amet, consectetur adipiscing elit. Integer sed augue nec urna gravida luctus. Pellentesque habitant morbi tristique senectus et netus et malesuada fames ac turpis egestas. Donec vel nisl at orci aliquet fermentum sit amet ut quam."
      ]
     },
     "metadata": {},
     "output_type": "display_data"
    },
    {
     "data": {
      "text/html": [
       "<div>\n",
       "<style scoped>\n",
       "    .dataframe tbody tr th:only-of-type {\n",
       "        vertical-align: middle;\n",
       "    }\n",
       "\n",
       "    .dataframe tbody tr th {\n",
       "        vertical-align: top;\n",
       "    }\n",
       "\n",
       "    .dataframe thead th {\n",
       "        text-align: right;\n",
       "    }\n",
       "</style>\n",
       "<table border=\"1\" class=\"dataframe\">\n",
       "  <thead>\n",
       "    <tr style=\"text-align: right;\">\n",
       "      <th></th>\n",
       "      <th>description</th>\n",
       "      <th>char_len</th>\n",
       "    </tr>\n",
       "  </thead>\n",
       "  <tbody>\n",
       "    <tr>\n",
       "      <th>0</th>\n",
       "      <td>Lorem ipsum dolor sit amet, consectetur adipiscing elit. Integer sed augue nec urna gravida luctus. Pellentesque habitant morbi tristique senectus et netus et malesuada fames ac turpis egestas. Donec vel nisl at orci aliquet fermentum sit amet ut quam.</td>\n",
       "      <td>252</td>\n",
       "    </tr>\n",
       "  </tbody>\n",
       "</table>\n",
       "</div>"
      ],
      "text/plain": [
       "                                                                                                                                                                                                                                                    description  \\\n",
       "0  Lorem ipsum dolor sit amet, consectetur adipiscing elit. Integer sed augue nec urna gravida luctus. Pellentesque habitant morbi tristique senectus et netus et malesuada fames ac turpis egestas. Donec vel nisl at orci aliquet fermentum sit amet ut quam.   \n",
       "\n",
       "   char_len  \n",
       "0       252  "
      ]
     },
     "metadata": {},
     "output_type": "display_data"
    },
    {
     "data": {
      "text/html": [
       "<div>\n",
       "<style scoped>\n",
       "    .dataframe tbody tr th:only-of-type {\n",
       "        vertical-align: middle;\n",
       "    }\n",
       "\n",
       "    .dataframe tbody tr th {\n",
       "        vertical-align: top;\n",
       "    }\n",
       "\n",
       "    .dataframe thead th {\n",
       "        text-align: right;\n",
       "    }\n",
       "</style>\n",
       "<table border=\"1\" class=\"dataframe\">\n",
       "  <thead>\n",
       "    <tr style=\"text-align: right;\">\n",
       "      <th></th>\n",
       "      <th>description</th>\n",
       "      <th>char_len</th>\n",
       "      <th>Word_count</th>\n",
       "    </tr>\n",
       "  </thead>\n",
       "  <tbody>\n",
       "    <tr>\n",
       "      <th>0</th>\n",
       "      <td>Lorem ipsum dolor sit amet, consectetur adipiscing elit. Integer sed augue nec urna gravida luctus. Pellentesque habitant morbi tristique senectus et netus et malesuada fames ac turpis egestas. Donec vel nisl at orci aliquet fermentum sit amet ut quam.</td>\n",
       "      <td>252</td>\n",
       "      <td>39</td>\n",
       "    </tr>\n",
       "  </tbody>\n",
       "</table>\n",
       "</div>"
      ],
      "text/plain": [
       "                                                                                                                                                                                                                                                    description  \\\n",
       "0  Lorem ipsum dolor sit amet, consectetur adipiscing elit. Integer sed augue nec urna gravida luctus. Pellentesque habitant morbi tristique senectus et netus et malesuada fames ac turpis egestas. Donec vel nisl at orci aliquet fermentum sit amet ut quam.   \n",
       "\n",
       "   char_len  Word_count  \n",
       "0       252          39  "
      ]
     },
     "metadata": {},
     "output_type": "display_data"
    },
    {
     "data": {
      "text/html": [
       "<div>\n",
       "<style scoped>\n",
       "    .dataframe tbody tr th:only-of-type {\n",
       "        vertical-align: middle;\n",
       "    }\n",
       "\n",
       "    .dataframe tbody tr th {\n",
       "        vertical-align: top;\n",
       "    }\n",
       "\n",
       "    .dataframe thead th {\n",
       "        text-align: right;\n",
       "    }\n",
       "</style>\n",
       "<table border=\"1\" class=\"dataframe\">\n",
       "  <thead>\n",
       "    <tr style=\"text-align: right;\">\n",
       "      <th></th>\n",
       "      <th>text</th>\n",
       "    </tr>\n",
       "  </thead>\n",
       "  <tbody>\n",
       "    <tr>\n",
       "      <th>0</th>\n",
       "      <td>i am abhishek kushwaha</td>\n",
       "    </tr>\n",
       "    <tr>\n",
       "      <th>1</th>\n",
       "      <td>domain is machine learning</td>\n",
       "    </tr>\n",
       "    <tr>\n",
       "      <th>2</th>\n",
       "      <td>pandas advanve v4</td>\n",
       "    </tr>\n",
       "  </tbody>\n",
       "</table>\n",
       "</div>"
      ],
      "text/plain": [
       "                          text\n",
       "0      i am abhishek kushwaha \n",
       "1  domain is machine learning \n",
       "2            pandas advanve v4"
      ]
     },
     "metadata": {},
     "output_type": "display_data"
    },
    {
     "data": {
      "text/html": [
       "<div>\n",
       "<style scoped>\n",
       "    .dataframe tbody tr th:only-of-type {\n",
       "        vertical-align: middle;\n",
       "    }\n",
       "\n",
       "    .dataframe tbody tr th {\n",
       "        vertical-align: top;\n",
       "    }\n",
       "\n",
       "    .dataframe thead th {\n",
       "        text-align: right;\n",
       "    }\n",
       "</style>\n",
       "<table border=\"1\" class=\"dataframe\">\n",
       "  <thead>\n",
       "    <tr style=\"text-align: right;\">\n",
       "      <th></th>\n",
       "      <th>text</th>\n",
       "    </tr>\n",
       "  </thead>\n",
       "  <tbody>\n",
       "    <tr>\n",
       "      <th>0</th>\n",
       "      <td>I AM ABHISHEK KUSHWAHA</td>\n",
       "    </tr>\n",
       "    <tr>\n",
       "      <th>1</th>\n",
       "      <td>DOMAIN IS MACHINE LEARNING</td>\n",
       "    </tr>\n",
       "    <tr>\n",
       "      <th>2</th>\n",
       "      <td>PANDAS ADVANVE V4</td>\n",
       "    </tr>\n",
       "  </tbody>\n",
       "</table>\n",
       "</div>"
      ],
      "text/plain": [
       "                          text\n",
       "0      I AM ABHISHEK KUSHWAHA \n",
       "1  DOMAIN IS MACHINE LEARNING \n",
       "2            PANDAS ADVANVE V4"
      ]
     },
     "metadata": {},
     "output_type": "display_data"
    },
    {
     "data": {
      "text/plain": [
       "True"
      ]
     },
     "metadata": {},
     "output_type": "display_data"
    }
   ],
   "source": [
    "df=pd.DataFrame({ \"description\":[\"Lorem ipsum dolor sit amet, consectetur adipiscing elit. Integer sed augue nec urna gravida luctus. Pellentesque habitant morbi tristique senectus et netus et malesuada fames ac turpis egestas. Donec vel nisl at orci aliquet fermentum sit amet ut quam.\"]})\n",
    "# display(df)\n",
    "\n",
    "# here we can't see the whole text to resolve this issue we will use some pandas property that is : pd.set_option( )\n",
    "pd.set_option('display.max_colwidth',1000) # the parameter is for charactor ( alphabets)\n",
    "\n",
    "pd.set_option('display.max_rows',1000)\n",
    "display(df)\n",
    "df[\"char_len\"]=df[\"description\"].apply(lambda x : len(x))\n",
    "display(df)\n",
    "\n",
    "# how to count the lenth of the words in the sentence using lambda and split and len function\n",
    "df[\"Word_count\"]=df[\"description\"].apply(lambda x: len(x.split()))\n",
    "display(df)\n",
    "\n",
    "data= { \"text\":[\"i am abhishek kushwaha \",\"domain is machine learning \",\"pandas advanve v4\"]}\n",
    "a=pd.DataFrame(data)\n",
    "display(a)\n",
    "\n",
    "# lets play with data frame \n",
    "# if you want to turn all the text in upper or lower case then\n",
    "a=pd.DataFrame(a[\"text\"].str.upper())\n",
    "display(a)\n",
    "\n",
    "# you can perform all the string operation on this\n",
    "# display(a[\"text\"].startswith(\"I\")) this raise error because you did't specified the position \n",
    "display(a[\"text\"][0].startswith(\"I\"))"
   ]
  }
 ],
 "metadata": {
  "kernelspec": {
   "display_name": "Python 3",
   "language": "python",
   "name": "python3"
  },
  "language_info": {
   "codemirror_mode": {
    "name": "ipython",
    "version": 3
   },
   "file_extension": ".py",
   "mimetype": "text/x-python",
   "name": "python",
   "nbconvert_exporter": "python",
   "pygments_lexer": "ipython3",
   "version": "3.13.5"
  }
 },
 "nbformat": 4,
 "nbformat_minor": 5
}
