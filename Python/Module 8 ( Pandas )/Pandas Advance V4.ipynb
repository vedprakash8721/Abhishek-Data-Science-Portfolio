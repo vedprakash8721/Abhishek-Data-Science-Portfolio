{
 "cells": [
  {
   "cell_type": "code",
   "execution_count": null,
   "id": "669dfec5",
   "metadata": {},
   "outputs": [],
   "source": [
    "# Pandas Advance V4: \n",
    "import pandas as pd\n",
    "import numpy as np\n",
    "from IPython.display import display"
   ]
  },
  {
   "cell_type": "code",
   "execution_count": 10,
   "id": "ae7b5533",
   "metadata": {},
   "outputs": [
    {
     "data": {
      "text/html": [
       "<div>\n",
       "<style scoped>\n",
       "    .dataframe tbody tr th:only-of-type {\n",
       "        vertical-align: middle;\n",
       "    }\n",
       "\n",
       "    .dataframe tbody tr th {\n",
       "        vertical-align: top;\n",
       "    }\n",
       "\n",
       "    .dataframe thead th {\n",
       "        text-align: right;\n",
       "    }\n",
       "</style>\n",
       "<table border=\"1\" class=\"dataframe\">\n",
       "  <thead>\n",
       "    <tr style=\"text-align: right;\">\n",
       "      <th></th>\n",
       "      <th>description</th>\n",
       "    </tr>\n",
       "  </thead>\n",
       "  <tbody>\n",
       "    <tr>\n",
       "      <th>0</th>\n",
       "      <td>Lorem ipsum dolor sit amet, consectetur adipiscing elit. Integer sed augue nec urna gravida luctus. Pellentesque habitant morbi tristique senectus et netus et malesuada fames ac turpis egestas. Donec vel nisl at orci aliquet fermentum sit amet ut quam.</td>\n",
       "    </tr>\n",
       "  </tbody>\n",
       "</table>\n",
       "</div>"
      ],
      "text/plain": [
       "                                                                                                                                                                                                                                                    description\n",
       "0  Lorem ipsum dolor sit amet, consectetur adipiscing elit. Integer sed augue nec urna gravida luctus. Pellentesque habitant morbi tristique senectus et netus et malesuada fames ac turpis egestas. Donec vel nisl at orci aliquet fermentum sit amet ut quam."
      ]
     },
     "metadata": {},
     "output_type": "display_data"
    }
   ],
   "source": [
    "df=pd.DataFrame({ \"description\":[\"Lorem ipsum dolor sit amet, consectetur adipiscing elit. Integer sed augue nec urna gravida luctus. Pellentesque habitant morbi tristique senectus et netus et malesuada fames ac turpis egestas. Donec vel nisl at orci aliquet fermentum sit amet ut quam.\"]})\n",
    "# display(df)\n",
    "\n",
    "# here we can't see the whole text to resolve this issue we will use some pandas property that is : pd.set_option( )\n",
    "pd.set_option('display.max_colwidth',1000) # the parameter is for charactor ( alphabets)\n",
    "display(df)"
   ]
  }
 ],
 "metadata": {
  "kernelspec": {
   "display_name": "Python 3",
   "language": "python",
   "name": "python3"
  },
  "language_info": {
   "codemirror_mode": {
    "name": "ipython",
    "version": 3
   },
   "file_extension": ".py",
   "mimetype": "text/x-python",
   "name": "python",
   "nbconvert_exporter": "python",
   "pygments_lexer": "ipython3",
   "version": "3.13.5"
  }
 },
 "nbformat": 4,
 "nbformat_minor": 5
}
