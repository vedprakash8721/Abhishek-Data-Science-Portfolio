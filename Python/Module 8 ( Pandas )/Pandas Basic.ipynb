{
 "cells": [
  {
   "cell_type": "code",
   "execution_count": null,
   "id": "34b59a58",
   "metadata": {},
   "outputs": [],
   "source": [
    "\"\"\"\n",
    "Pandas is an open-source Python library designed for data manipulation\n",
    "and analysis,widely used in data science.\n",
    "pandas is collection of set of code that is used in data science.\n",
    "\n",
    "\"\"\""
   ]
  }
 ],
 "metadata": {
  "language_info": {
   "name": "python"
  }
 },
 "nbformat": 4,
 "nbformat_minor": 5
}
