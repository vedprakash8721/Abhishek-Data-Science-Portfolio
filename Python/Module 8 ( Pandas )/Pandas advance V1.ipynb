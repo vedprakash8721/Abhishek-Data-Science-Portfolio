{
 "cells": [
  {
   "cell_type": "code",
   "execution_count": 18,
   "id": "4c9c320c",
   "metadata": {},
   "outputs": [
    {
     "name": "stdout",
     "output_type": "stream",
     "text": [
      "    taxonomy_id                          name parent_id           parent_name\n",
      "0           101                     Emergency       NaN                   NaN\n",
      "1        101-01             Disaster Response       101             Emergency\n",
      "2        101-02                Emergency Cash       101             Emergency\n",
      "3     101-02-01             Help Pay for Food    101-02        Emergency Cash\n",
      "4     101-02-02       Help Pay for Healthcare    101-02        Emergency Cash\n",
      "..          ...                           ...       ...                   ...\n",
      "285   111-01-07              Workplace Rights    111-01  Advocacy & Legal Aid\n",
      "286      111-02                     Mediation       111                 Legal\n",
      "287      111-03                        Notary       111                 Legal\n",
      "288      111-04                Representation       111                 Legal\n",
      "289      111-05  Translation & Interpretation       111                 Legal\n",
      "\n",
      "[290 rows x 4 columns]\n",
      "-------------------------Breaking the line----------------------------\n",
      "\n",
      "Index(['taxonomy_id', 'name', 'parent_id', 'parent_name'], dtype='object')\n",
      "  taxonomy_id               name parent_id parent_name\n",
      "0         101          Emergency       NaN         NaN\n",
      "1      101-01  Disaster Response       101   Emergency\n",
      "2      101-02     Emergency Cash       101   Emergency\n",
      "-------------------------Breaking the line----------------------------\n",
      "\n",
      "    taxonomy_id                          name parent_id parent_name\n",
      "286      111-02                     Mediation       111       Legal\n",
      "287      111-03                        Notary       111       Legal\n",
      "288      111-04                Representation       111       Legal\n",
      "289      111-05  Translation & Interpretation       111       Legal\n"
     ]
    },
    {
     "data": {
      "text/plain": [
       "taxonomy_id    object\n",
       "name           object\n",
       "parent_id      object\n",
       "parent_name    object\n",
       "dtype: object"
      ]
     },
     "execution_count": 18,
     "metadata": {},
     "output_type": "execute_result"
    }
   ],
   "source": [
    "import pandas as pd\n",
    "# Pandas Advance :\n",
    "# to see content from the github \n",
    "df=pd.read_csv(\"https://raw.githubusercontent.com/vedprakash8721/Abhishek-Data-Science-Portfolio/main/Python/Module%208%20(%20Pandas%20)/taxonomy.csv\")\n",
    "print(df)\n",
    "print(\"-------------------------Breaking the line----------------------------\\n\")\n",
    "print(df.columns)\n",
    "print(df.head(3)) # this is for top 3 rows\n",
    "print(\"-------------------------Breaking the line----------------------------\\n\")\n",
    "# to see last some rows \n",
    "print(df.tail(4))\n",
    "# for data types of the column\n",
    "df.dtypes"
   ]
  }
 ],
 "metadata": {
  "kernelspec": {
   "display_name": "Python 3",
   "language": "python",
   "name": "python3"
  },
  "language_info": {
   "codemirror_mode": {
    "name": "ipython",
    "version": 3
   },
   "file_extension": ".py",
   "mimetype": "text/x-python",
   "name": "python",
   "nbconvert_exporter": "python",
   "pygments_lexer": "ipython3",
   "version": "3.13.5"
  }
 },
 "nbformat": 4,
 "nbformat_minor": 5
}
