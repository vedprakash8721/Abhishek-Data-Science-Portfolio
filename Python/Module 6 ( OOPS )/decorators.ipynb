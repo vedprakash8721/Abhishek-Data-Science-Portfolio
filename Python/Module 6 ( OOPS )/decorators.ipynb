{
 "cells": [
  {
   "cell_type": "code",
   "execution_count": null,
   "id": "4476b841",
   "metadata": {},
   "outputs": [],
   "source": [
    "# Decorators: just like after building house we decorate house by adding lights and other stuff. just like this decorators in python are used to decorate the class and function.\n",
    "\"\"\" decorators allows to modify / extend the behaviour of the class / function without directly modifying their code \"\"\"\n",
    "\"\"\" These are of two types : 1: function decorators   2: class decorators\"\"\"\n",
    "\n",
    "# lets see through an example"
   ]
  },
  {
   "cell_type": "code",
   "execution_count": null,
   "id": "a7de015b",
   "metadata": {},
   "outputs": [
    {
     "name": "stdout",
     "output_type": "stream",
     "text": [
      " The line before computation\n",
      "the number is even: 70\n",
      "the line after the computation:\n",
      "None\n"
     ]
    }
   ],
   "source": [
    "\n",
    "def func():\n",
    "    print(\" The line before computation\")\n",
    "    a=int(input(\"enter the number to check even or odd:\"))\n",
    "    if a%2==0:\n",
    "        print(\"the number is even:\",a)\n",
    "    else:\n",
    "        print(\" the num is odd:\")\n",
    "    print(\"the line after the computation:\")\n",
    "print(func())\n",
    "\n",
    "# now lets suppose you want to do computation multiple times then you have to write this print code every time. this takes time and effort.\n",
    "\"\"\"   Then the concept of Decorators comes in    \"\"\""
   ]
  },
  {
   "cell_type": "code",
   "execution_count": null,
   "id": "7e799ed0",
   "metadata": {},
   "outputs": [
    {
     "name": "stdout",
     "output_type": "stream",
     "text": [
      "the line before computation:\n",
      " the num is odd:\n",
      "the line after the computation:\n",
      "None\n"
     ]
    }
   ],
   "source": [
    "# Function Decorator : @decorator function in python only works with single funtion thats why we cant use multiple fun with it .\n",
    "\n",
    "def decorator_fun(calculation_fun): # here calculation_fun is not neccessary . if you write func it will take by default the calculation_fun\n",
    "    def wrapper():\n",
    "        print(\"the line before computation:\")\n",
    "        calculation_fun()#jere we can take func and this will take by default the calculation_fun\n",
    "        print(\"the line after the computation:\")\n",
    "    return wrapper # this return fun is of decorator_fun\n",
    "# now function and its connection to decorator\n",
    "@decorator_fun\n",
    "def calculation_fun():\n",
    "    a=int(input(\"enter the number to check even or odd:\"))\n",
    "    if a%2==0:\n",
    "        print(\"the number is even:\",a)\n",
    "    else:\n",
    "        print(\" the num is odd:\")\n",
    "\n",
    "#Now print the calculation function\n",
    "print(calculation_fun())\n",
    "\n"
   ]
  },
  {
   "cell_type": "code",
   "execution_count": null,
   "id": "fac1b8be",
   "metadata": {},
   "outputs": [
    {
     "name": "stdout",
     "output_type": "stream",
     "text": [
      "b is larger than a :\n",
      "the time taken is: 5.054208040237427\n",
      "None\n",
      "the number is even: 8\n",
      "the time taken is: 3.439091682434082\n",
      "None\n"
     ]
    }
   ],
   "source": [
    "#use case of function decorator\n",
    "# lets suppose you want to know that how much time the program takes to generate the output\n",
    "import time #time is module\n",
    "def timer_decorator(func): # decorator function is created\n",
    "    def timer():\n",
    "        start=time.time()\n",
    "        func()\n",
    "        end= time.time()\n",
    "        print(\"the time taken is:\",end-start)\n",
    "    return timer\n",
    "@timer_decorator\n",
    "def large_fun():\n",
    "    a= int(input(\"enter the  first number \"))\n",
    "    b= int(input(\"enter the second number \"))\n",
    "    if a>b:\n",
    "        print(\" a is larger than b:\")\n",
    "    elif a==b:\n",
    "        print(\"both are equal:\")\n",
    "    else:\n",
    "        print(\"b is larger than a :\")\n",
    "\n",
    "print(large_fun())\n",
    "\n",
    "# here we can use this decorator with other function:\n",
    "\n",
    "@timer_decorator\n",
    "def calculation_fun():\n",
    "    a=int(input(\"enter the number to check even or odd:\"))\n",
    "    if a%2==0:\n",
    "        print(\"the number is even:\",a)\n",
    "    else:\n",
    "        print(\" the num is odd:\")\n",
    "    \n",
    "print(calculation_fun())\n"
   ]
  },
  {
   "cell_type": "code",
   "execution_count": null,
   "id": "579017f5",
   "metadata": {},
   "outputs": [],
   "source": [
    "# why we need Decorators?? :\n",
    "\"\"\" Reusability : you don't need to write same code other function\n",
    "    Enhancing: you decorating the code without changing the original code\n",
    "    Time coplextiy , logging ( in other module we will learn), caching , validation\n",
    "\"\"\""
   ]
  },
  {
   "cell_type": "code",
   "execution_count": 1,
   "id": "bd9e9c52",
   "metadata": {},
   "outputs": [
    {
     "name": "stdout",
     "output_type": "stream",
     "text": [
      "this is before execution:\n",
      "check\n",
      "this is after execution:\n",
      "None\n"
     ]
    }
   ],
   "source": [
    "# Class Decorators:\n",
    "class My_decorator:\n",
    "    def __init__(self,func): #similar like function decorator\n",
    "        self.func = func\n",
    "    def __call__(self):\n",
    "        print(\"this is before execution:\")\n",
    "        self.func()\n",
    "        print(\"this is after execution:\")\n",
    "        \n",
    "@My_decorator\n",
    "def example():\n",
    "    print(\"check\")\n",
    "\n",
    "print(example())"
   ]
  },
  {
   "cell_type": "code",
   "execution_count": null,
   "id": "c8820938",
   "metadata": {},
   "outputs": [
    {
     "name": "stdout",
     "output_type": "stream",
     "text": [
      "8\n",
      "11\n"
     ]
    }
   ],
   "source": [
    "# Static Method: no nedd to create an object or instance of the class.\n",
    "\n",
    "# we used to do earlier\n",
    "class Math1:\n",
    "    def add(self,x,y):\n",
    "        return x+y\n",
    "m1=Math1()# creating the instance\n",
    "print(m1.add(2,6))\n",
    "\n",
    "#now we will do this\n",
    "class Math2:\n",
    "    @staticmethod #declaring the static method\n",
    "    def add_2(a,b): #when no need to declare the object then we will not use self\n",
    "        return a+b\n",
    "print(Math2.add_2(5,6))"
   ]
  }
 ],
 "metadata": {
  "kernelspec": {
   "display_name": "Python 3",
   "language": "python",
   "name": "python3"
  },
  "language_info": {
   "codemirror_mode": {
    "name": "ipython",
    "version": 3
   },
   "file_extension": ".py",
   "mimetype": "text/x-python",
   "name": "python",
   "nbconvert_exporter": "python",
   "pygments_lexer": "ipython3",
   "version": "3.13.2"
  }
 },
 "nbformat": 4,
 "nbformat_minor": 5
}
