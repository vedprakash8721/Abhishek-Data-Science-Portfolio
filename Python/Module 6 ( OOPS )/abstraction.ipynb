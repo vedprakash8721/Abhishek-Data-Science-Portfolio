{
 "cells": [
  {
   "cell_type": "code",
   "execution_count": null,
   "id": "11f022c8",
   "metadata": {},
   "outputs": [],
   "source": [
    "\"\"\" Abstraction \"\"\"\n",
    "#  Abstract class : the concept of hiding the data from others.\n",
    "#  Abstract class can not be instantiated i.e. object can not be created\n",
    "\"\"\" use case : when you don't want to expose your code .\"\"\""
   ]
  },
  {
   "cell_type": "code",
   "execution_count": 4,
   "id": "2273979b",
   "metadata": {},
   "outputs": [
    {
     "name": "stdout",
     "output_type": "stream",
     "text": [
      "student course\n",
      "None\n"
     ]
    }
   ],
   "source": [
    "import abc\n",
    "class PwSkills():\n",
    "    @abc.abstractmethod\n",
    "    def student_marks(self):\n",
    "        pass\n",
    "    @abc.abstractmethod\n",
    "    def student_course(self):\n",
    "        pass\n",
    "    @abc.abstractmethod\n",
    "    def student_assignement(self):\n",
    "        pass\n",
    "#the class PwSkills is a abstract class it can be use through the object but can be inherited in other class\n",
    "\n",
    "class DataScience(PwSkills):\n",
    "    def student_course(self):\n",
    "        print(\"student course\")\n",
    "    def student_marks(self):\n",
    "        print(\"student marks\")\n",
    "\n",
    "class Webdev(PwSkills):\n",
    "    def student_assignment(self):\n",
    "        print(\"student assignment\")\n",
    "d1=DataScience()\n",
    "print(d1.student_course())\n"
   ]
  },
  {
   "cell_type": "code",
   "execution_count": 14,
   "id": "f65fcf42",
   "metadata": {},
   "outputs": [
    {
     "name": "stdout",
     "output_type": "stream",
     "text": [
      "The area of circle is : 201.06192982974676\n"
     ]
    }
   ],
   "source": [
    "import abc\n",
    "import math\n",
    "class Shape:\n",
    "    @abc.abstractmethod\n",
    "    def circle(self,radius):\n",
    "        pass\n",
    "class Calculate(Shape):\n",
    "    def circle(self,radius):\n",
    "        area= math.pi*radius**2\n",
    "        return area\n",
    "radius =float(input(\"enter the radius\"))\n",
    "c1=Calculate()\n",
    "print(\"The area of circle is :\",c1.circle(radius))"
   ]
  }
 ],
 "metadata": {
  "kernelspec": {
   "display_name": "Python 3",
   "language": "python",
   "name": "python3"
  },
  "language_info": {
   "codemirror_mode": {
    "name": "ipython",
    "version": 3
   },
   "file_extension": ".py",
   "mimetype": "text/x-python",
   "name": "python",
   "nbconvert_exporter": "python",
   "pygments_lexer": "ipython3",
   "version": "3.13.2"
  }
 },
 "nbformat": 4,
 "nbformat_minor": 5
}
