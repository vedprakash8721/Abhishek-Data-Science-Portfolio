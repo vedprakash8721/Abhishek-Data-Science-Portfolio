{
 "cells": [
  {
   "cell_type": "code",
   "execution_count": 1,
   "id": "a1319c5d",
   "metadata": {},
   "outputs": [
    {
     "name": "stdout",
     "output_type": "stream",
     "text": [
      "56\n",
      "pwskills\n"
     ]
    }
   ],
   "source": [
    "\"\"\" Polymorphism \"\"\"\n",
    "\n",
    "#the polymorphism is a combination of two words . Polyl: means many,,, morphism: states/form  with repect to diff data\n",
    "\n",
    "\"\"\" lets see through a example\"\"\"\n",
    "def fun(a,b):\n",
    "    return a+b\n",
    "# now we will take diff diff states/forms\n",
    "print(fun(2,54)) #o/p:56\n",
    "print(fun(\"pw\",\"skills\")) #o/p : pwskills\n"
   ]
  },
  {
   "cell_type": "code",
   "execution_count": null,
   "id": "14586ce8",
   "metadata": {},
   "outputs": [],
   "source": [
    "# Polymorphism takes place in oops as two ways.\n",
    "\"\"\" Method overloading  :- python doesn't support direct overloading\n",
    "    Method over-riding\n",
    "\"\"\""
   ]
  },
  {
   "cell_type": "code",
   "execution_count": null,
   "id": "038a5533",
   "metadata": {},
   "outputs": [
    {
     "name": "stdout",
     "output_type": "stream",
     "text": [
      "welcome to pwskills   \n",
      "None\n",
      "welcome to pwskills  ved \n",
      "None\n",
      "welcome to pwskills  ved and Gen AI\n",
      "None\n"
     ]
    }
   ],
   "source": [
    "#in other language\n",
    "\n",
    "class Student:\n",
    "    def student(self):\n",
    "        print(\"welcome to pwskills\")\n",
    "    def student(self, name=\"\"):\n",
    "        print(\"welcome to pwskills\",name)\n",
    "    def student(self,name=\"\", course= \"\"):\n",
    "        print(\"welcome to pwskills \", name,course)\n",
    "\n",
    "obj=Student()\n",
    "print(obj.student())\n",
    "print(obj.student(\"ved\"))\n",
    "print(obj.student(\"ved\",\"and Gen AI\"))"
   ]
  },
  {
   "cell_type": "code",
   "execution_count": null,
   "id": "fb7cce94",
   "metadata": {},
   "outputs": [
    {
     "name": "stdout",
     "output_type": "stream",
     "text": [
      "welcome to pwskills   \n",
      "None\n",
      "welcome to pwskills  ved \n",
      "None\n",
      "welcome to pwskills  ved and Gen AI\n",
      "None\n"
     ]
    }
   ],
   "source": [
    "#method overloading\n",
    "class Student:\n",
    "    def student(self,name=\"\", course= \"\"):\n",
    "        print(\"welcome to pwskills \", name,course)\n",
    "\n",
    "print(obj.student())\n",
    "print(obj.student(\"ved\"))\n",
    "print(obj.student(\"ved\",\"and Gen AI\"))\n",
    "\n",
    "# The same method takes different argument to give differen results\n",
    "#method overloading happens in the same class"
   ]
  },
  {
   "cell_type": "code",
   "execution_count": null,
   "id": "e2c8e030",
   "metadata": {},
   "outputs": [
    {
     "name": "stdout",
     "output_type": "stream",
     "text": [
      "Animal sound\n",
      "None\n"
     ]
    }
   ],
   "source": [
    "# Method over-riding\n",
    "# method in parent class and child class\n",
    "\n",
    "class Animal:\n",
    "    def sound(self):\n",
    "        print(\"Animal sound\")\n",
    "        \n",
    "class Cat(Animal):\n",
    "    def sound(self):   # you may ask why we created this fun when we are inheriting the Animal class. so you don't need you want to prit the Animal fun but you have to when you want to use your own .\n",
    "        print(\"meow\")\n",
    "        \n",
    "cat_obj=Cat()\n",
    "print(cat_obj.sound())\n"
   ]
  }
 ],
 "metadata": {
  "kernelspec": {
   "display_name": "Python 3",
   "language": "python",
   "name": "python3"
  },
  "language_info": {
   "codemirror_mode": {
    "name": "ipython",
    "version": 3
   },
   "file_extension": ".py",
   "mimetype": "text/x-python",
   "name": "python",
   "nbconvert_exporter": "python",
   "pygments_lexer": "ipython3",
   "version": "3.13.2"
  }
 },
 "nbformat": 4,
 "nbformat_minor": 5
}
