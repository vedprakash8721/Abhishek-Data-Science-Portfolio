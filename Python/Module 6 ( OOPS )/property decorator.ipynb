{
 "cells": [
  {
   "cell_type": "code",
   "execution_count": null,
   "id": "e12fe9c9",
   "metadata": {},
   "outputs": [
    {
     "name": "stdout",
     "output_type": "stream",
     "text": [
      "ved \n",
      "21\n"
     ]
    }
   ],
   "source": [
    "# Property decorators : it allows method to be accessed as attribute\n",
    "\n",
    "\"\"\" lets see through an example \"\"\"\n",
    "class Example:\n",
    "    def __init__(self,name,rollno):\n",
    "        self.__name=name\n",
    "        self.__rollno=rollno\n",
    "        # here name and rollno are private attribute that means you can access these from outside the class directly.\n",
    "        \n",
    "ex1=Example(\"ved \",21)\n",
    "# print(ex1.name) #it will throw an error  because name attribute is private\n",
    "\n",
    "#but still you can access this if you know the structure\n",
    "print(ex1._Example__name)\n",
    "print(ex1._Example__rollno)\n",
    "#this works but only if you know the attribute if you don't then you can do this using property decorators\n",
    "\n",
    "\n"
   ]
  },
  {
   "cell_type": "code",
   "execution_count": 8,
   "id": "97f8c2c8",
   "metadata": {},
   "outputs": [
    {
     "name": "stdout",
     "output_type": "stream",
     "text": [
      "6\n"
     ]
    }
   ],
   "source": [
    "class Example:\n",
    "    def __init__(self,name,rollno):\n",
    "        self.__name=name\n",
    "        self.__rollno=rollno\n",
    "    @property # declare property decorator\n",
    "    def access(self):\n",
    "        return self.__rollno\n",
    "    \n",
    "ex2 = Example(\"Abhishek\", 6)\n",
    "print(ex2.access) # here we didn't use the () because the property decorator are accessed as attribute\n"
   ]
  }
 ],
 "metadata": {
  "kernelspec": {
   "display_name": "Python 3",
   "language": "python",
   "name": "python3"
  },
  "language_info": {
   "codemirror_mode": {
    "name": "ipython",
    "version": 3
   },
   "file_extension": ".py",
   "mimetype": "text/x-python",
   "name": "python",
   "nbconvert_exporter": "python",
   "pygments_lexer": "ipython3",
   "version": "3.13.2"
  }
 },
 "nbformat": 4,
 "nbformat_minor": 5
}
