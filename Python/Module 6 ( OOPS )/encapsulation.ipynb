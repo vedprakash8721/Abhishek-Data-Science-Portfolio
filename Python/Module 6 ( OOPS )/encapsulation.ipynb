{
 "cells": [
  {
   "cell_type": "code",
   "execution_count": 31,
   "id": "0effdab2",
   "metadata": {},
   "outputs": [
    {
     "data": {
      "text/plain": [
       "'\\nEncapsulation: binding the method and data into single unit\\n\\n'"
      ]
     },
     "execution_count": 31,
     "metadata": {},
     "output_type": "execute_result"
    }
   ],
   "source": [
    "\"\"\"\n",
    "Encapsulation: binding the method and data into single unit\n",
    "\n",
    "\"\"\""
   ]
  },
  {
   "cell_type": "code",
   "execution_count": 32,
   "id": "2645895b",
   "metadata": {},
   "outputs": [
    {
     "name": "stdout",
     "output_type": "stream",
     "text": [
      "B Tech\n",
      "ved\n",
      "Phd\n"
     ]
    }
   ],
   "source": [
    "# public class\n",
    "class Student:\n",
    "    def __init__(self, name, degree):\n",
    "        self.name=name\n",
    "        self.degree=degree\n",
    "obj=Student(\"ved\", \"B Tech\")\n",
    "print(obj.degree)\n",
    "print(obj.name)\n",
    "#if any one wants to change the data then he can // because this class is public\n",
    "\"\"\" Now the concept of access modifier comes in\"\"\"\n",
    "obj.degree=\"Phd\"\n",
    "print(obj.degree) #changed ... to avoid this we will learn access modifier"
   ]
  },
  {
   "cell_type": "code",
   "execution_count": null,
   "id": "a08c6d0b",
   "metadata": {},
   "outputs": [
    {
     "name": "stdout",
     "output_type": "stream",
     "text": [
      "name ved degree b tech\n",
      "None\n",
      "ved\n",
      "Abhishek\n",
      "b tech\n",
      "name ved ji degree bsc\n",
      "None\n",
      "ved ji\n"
     ]
    }
   ],
   "source": [
    "\"\"\" Access Modifier :  public , private , protected \"\"\"\n",
    "\n",
    "# Private  :- the data and the method is only accessible within the class\n",
    "\"\"\" to declare private you have to do is double underscore __\"\"\"\n",
    "class Detail:\n",
    "    def __init__(self,name,degree):\n",
    "        self.name=name\n",
    "        self.__degree=degree\n",
    "    def show(self):\n",
    "        print(\"name\", self.name,\"degree\", self.__degree)\n",
    "#create a object\n",
    "obj=Detail(\"ved\",\"b tech\")\n",
    "print(obj.show()) #in this you accessed the degree through the class. and like public you can not change the data\n",
    "print(obj.name)\n",
    "# it will throw an error   :   print(obj.__degree)\n",
    "obj.name= \"Abhishek\" # you can do this\n",
    "# obj.__degree= \"bsc\" # you cant\n",
    "print(obj.name)\n",
    "print(obj._Detail__degree)\n",
    "# lets access this in another class\n",
    "\n",
    "class Fake(Detail):\n",
    "    pass\n",
    "f=Fake(\"ved ji\", \"bsc\")\n",
    "print(f.show()) #we have inherited the class that's why it is possible\n",
    "print(f.name) # only name is accessible"
   ]
  },
  {
   "cell_type": "code",
   "execution_count": 34,
   "id": "b88185e1",
   "metadata": {},
   "outputs": [
    {
     "name": "stdout",
     "output_type": "stream",
     "text": [
      "my name is ved\n",
      "None\n"
     ]
    }
   ],
   "source": [
    "class College:\n",
    "    def __student(self):\n",
    "        print(\"my name is ved\")\n",
    "        \n",
    "c1=College()\n",
    "# print(c1.__student())\n",
    "# encapsulation in python is fully supported . it just design to avoid accidental access. so it is design for intrespection and machine learning\n",
    "# you can access by following this format _className__method or variable\n",
    "\n",
    "print(c1._College__student())"
   ]
  },
  {
   "cell_type": "code",
   "execution_count": null,
   "id": "c1df482d",
   "metadata": {},
   "outputs": [
    {
     "name": "stdout",
     "output_type": "stream",
     "text": [
      "the initial balance is:  88.0\n",
      "None\n",
      "deposit amount is: 878.0\n",
      "After deposit: 966.0\n",
      "None\n",
      "withdraw amount is : 1000.0\n",
      "insufficient balance:\n",
      "None\n",
      "the current balance is : 966.0\n",
      "None\n"
     ]
    }
   ],
   "source": [
    "#use case\n",
    "class Bank:\n",
    "        def __init__(self):\n",
    "                self.balance=0.0\n",
    "        def initial_balance(self):\n",
    "                self.balance=float(input(\"enter the balance:\"))\n",
    "                print(\"the initial balance is: \",self.balance)\n",
    "        def deposit(self):\n",
    "                self.deposit_value=float(input(\"enter the amount you want to deposit:\"))\n",
    "                self.balance+=self.deposit_value\n",
    "                print(\"deposit amount is:\",self.deposit_value)\n",
    "                print(\"After deposit:\", self.balance)\n",
    "        def withdraw(self):\n",
    "                self.amount=float(input(\"enter the amount you want to withdraw:\"))\n",
    "                print(\"withdraw amount is :\",self.amount)\n",
    "                if self.amount>self.balance:\n",
    "                        print(\"insufficient balance to withdraw:\")\n",
    "                else:\n",
    "                        self.balance-=self.amount\n",
    "        def current_balance(self):\n",
    "                print(\"the current balance is :\", self.balance)\n",
    "\n",
    "obj=Bank()\n",
    "print(obj.initial_balance())\n",
    "print(obj.deposit())\n",
    "print(obj.withdraw())\n",
    "print(obj.current_balance())"
   ]
  },
  {
   "cell_type": "code",
   "execution_count": 41,
   "id": "e2dce53c",
   "metadata": {},
   "outputs": [
    {
     "name": "stdout",
     "output_type": "stream",
     "text": [
      "name: ved and college: Bansal\n",
      "None\n"
     ]
    }
   ],
   "source": [
    "#protected\n",
    "\"\"\" you can access it within the class and its subclass\"\"\"\n",
    "\n",
    "# syntax to declare: public : do nothing..... private: double __ ...... protected: single _\n",
    "class College:\n",
    "    def __init__(self):\n",
    "        self._college_name=\"Bansal\"\n",
    "class Student(College):\n",
    "    def __init__(self):\n",
    "        self.name=\"ved\"\n",
    "        College.__init__(self) #accessing the method of the base class\n",
    "    def show(self):\n",
    "        print(\"name:\",self.name,\"and\",\"college:\",self._college_name)\n",
    "        \n",
    "st=Student()\n",
    "print(st.show())"
   ]
  }
 ],
 "metadata": {
  "kernelspec": {
   "display_name": "Python 3",
   "language": "python",
   "name": "python3"
  },
  "language_info": {
   "codemirror_mode": {
    "name": "ipython",
    "version": 3
   },
   "file_extension": ".py",
   "mimetype": "text/x-python",
   "name": "python",
   "nbconvert_exporter": "python",
   "pygments_lexer": "ipython3",
   "version": "3.13.2"
  }
 },
 "nbformat": 4,
 "nbformat_minor": 5
}
