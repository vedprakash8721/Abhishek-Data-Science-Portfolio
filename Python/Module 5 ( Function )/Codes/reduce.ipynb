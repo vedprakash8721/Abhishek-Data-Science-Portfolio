{
 "cells": [
  {
   "cell_type": "code",
   "execution_count": null,
   "id": "2a0b5788",
   "metadata": {},
   "outputs": [
    {
     "name": "stdout",
     "output_type": "stream",
     "text": [
      "15\n",
      "ved prakash B Tech \n"
     ]
    }
   ],
   "source": [
    "\"\"\" Reduce : it like folding / reducing\n",
    "syntax: reduce(function,iterable)\n",
    "\"\"\"\n",
    "#adding the total value of the list element\n",
    "#firstly we have to import the library to calculate the reduce function.\n",
    "from functools import reduce\n",
    "my_list=[1,2,3,4,5]\n",
    "print(reduce(lambda x,y:x+y,my_list))\n",
    "\n",
    "# lets do this with the strings\n",
    "def concat(str1,str2):\n",
    "    return (str1+str2)\n",
    "\n",
    "str1=\"ved prakash\"\n",
    "str2= \" B Tech \"\n",
    "print(reduce(concat,str2,str1))"
   ]
  },
  {
   "cell_type": "code",
   "execution_count": 1,
   "id": "5df9bf36",
   "metadata": {},
   "outputs": [
    {
     "name": "stdout",
     "output_type": "stream",
     "text": [
      "Longest word: Intelligence\n"
     ]
    }
   ],
   "source": [
    "from functools import reduce\n",
    "\n",
    "words = [\"Artificial\", \"Intelligence\", \"Machine\", \"Learning\", \"Python\"]\n",
    "\n",
    "longest_word = reduce(lambda x, y: x if len(x) > len(y) else y, words)\n",
    "\n",
    "print(\"Longest word:\", longest_word)\n"
   ]
  }
 ],
 "metadata": {
  "kernelspec": {
   "display_name": "Python 3",
   "language": "python",
   "name": "python3"
  },
  "language_info": {
   "codemirror_mode": {
    "name": "ipython",
    "version": 3
   },
   "file_extension": ".py",
   "mimetype": "text/x-python",
   "name": "python",
   "nbconvert_exporter": "python",
   "pygments_lexer": "ipython3",
   "version": "3.13.2"
  }
 },
 "nbformat": 4,
 "nbformat_minor": 5
}
