{
 "cells": [
  {
   "cell_type": "code",
   "execution_count": null,
   "id": "e6415c9e",
   "metadata": {},
   "outputs": [],
   "source": [
    "# Function is a block of code that perform specific task when it is called.\n",
    "# it is of two types : Built-in , user-defined.\n",
    "import math as x\n",
    "print(x.ceil(6.8))\n",
    "print(\"hello\")\n",
    "\n",
    "#syntax of the function\n",
    "\n",
    "\"\"\"\n",
    "def fun():\n",
    "     body of the fun\n",
    "\"\"\""
   ]
  },
  {
   "cell_type": "code",
   "execution_count": null,
   "id": "382e16e6",
   "metadata": {},
   "outputs": [],
   "source": [
    "def greetings(name):\n",
    "    name=str(input(\"Enter the name:\")) #here we are taking the name from the user\n",
    "    print(\"welcome to the data science course\", name)\n",
    "greetings(\"name\")#if you don't want to take input then you can just simply pass the argument like name=anything\n"
   ]
  },
  {
   "cell_type": "code",
   "execution_count": null,
   "id": "086e9dde",
   "metadata": {},
   "outputs": [],
   "source": [
    "def first_program():\n",
    "    print(\"This is my first program\")\n",
    "\"\"\"first_program() + \"in python\"   ( it will throw an error bcz the type of function is nonetype )\"\"\"\n",
    "\n",
    "\n"
   ]
  },
  {
   "cell_type": "code",
   "execution_count": null,
   "id": "018b1078",
   "metadata": {},
   "outputs": [],
   "source": [
    "def first_program():\n",
    "    return \"This is my first program\"\n",
    "first_program() +\" \"+ \"in python\""
   ]
  },
  {
   "cell_type": "code",
   "execution_count": null,
   "id": "425ea77e",
   "metadata": {},
   "outputs": [],
   "source": [
    "#Addition of two numbers\n",
    "a=int(input(\"enter the first num\"))\n",
    "b=int(input(\"enter the first num\"))\n",
    "def add(a,b):\n",
    "    sum=(a+b)\n",
    "    return print(\"the addition is:\",sum)\n",
    "add(a,b)"
   ]
  },
  {
   "cell_type": "code",
   "execution_count": null,
   "id": "2a4446b8",
   "metadata": {},
   "outputs": [],
   "source": [
    "#default argument: if you not provide any value then it just take the default value given in the starting. lets see with example\n",
    "\n",
    "def sum_3(b,c,a=1): #in this if you won't give the value of a then it just take 1 as given\n",
    "    return (a+b+c)\n",
    "print(sum_3(a=4,b=3,c=5))\n",
    "print(sum_3(b=3,c=5))\n"
   ]
  },
  {
   "cell_type": "code",
   "execution_count": null,
   "id": "1d4a72ff",
   "metadata": {},
   "outputs": [],
   "source": [
    "#sum of two number\n",
    "\n",
    "def sum_of_two():\n",
    "    a=int(input(\"Enter the first number\"))\n",
    "    b=int(input(\"Enter the second number\"))\n",
    "    print(\"the sum is:\",a+b)\n",
    "sum_of_two()"
   ]
  },
  {
   "cell_type": "code",
   "execution_count": 10,
   "id": "5573877a",
   "metadata": {},
   "outputs": [
    {
     "data": {
      "text/plain": [
       "[88, 69, 441.25]"
      ]
     },
     "execution_count": 10,
     "metadata": {},
     "output_type": "execute_result"
    }
   ],
   "source": [
    "def only_numeric(a):\n",
    "    n=[]\n",
    "    for i in a:\n",
    "        if type(i)==int or type(i)==float:\n",
    "            n.append(i)\n",
    "    return n\n",
    "only_numeric([88,69,441.25,\"hello\"])"
   ]
  },
  {
   "cell_type": "code",
   "execution_count": 4,
   "id": "ec0d0fb7",
   "metadata": {},
   "outputs": [
    {
     "data": {
      "text/plain": [
       "481"
      ]
     },
     "execution_count": 4,
     "metadata": {},
     "output_type": "execute_result"
    }
   ],
   "source": [
    "#variable length arguments:- when you don't know the number of arguments you are taking.\n",
    "\n",
    "def sum_of_variable_num(*a):\n",
    "    sum=0\n",
    "    for i in a:\n",
    "        sum=sum+i\n",
    "    return sum\n",
    "sum_of_variable_num(7,4,4,425,41)\n",
    "\n"
   ]
  },
  {
   "cell_type": "code",
   "execution_count": 9,
   "id": "4348fdc3",
   "metadata": {},
   "outputs": [
    {
     "data": {
      "text/plain": [
       "((463, 3635), 'ram aur shyam')"
      ]
     },
     "execution_count": 9,
     "metadata": {},
     "output_type": "execute_result"
    }
   ],
   "source": [
    "#variable length args with default args\n",
    "\n",
    "def ex(*args,a=\"Ram\"):\n",
    "    return args, a\n",
    "ex(463,3635,a=\"ram aur shyam\")"
   ]
  },
  {
   "cell_type": "code",
   "execution_count": null,
   "id": "3a258957",
   "metadata": {},
   "outputs": [
    {
     "name": "stdout",
     "output_type": "stream",
     "text": [
      "hello ved\n",
      "welcome to facebook\n"
     ]
    }
   ],
   "source": [
    "# Local and Global variable\n",
    "# Local variable: a variable which is defined inside a function , is only accesible inside the function not outside . lets see\n",
    "\n",
    "def return_greet():\n",
    "    a=\" ved\" #Local variable\n",
    "    return \"hello\" + a\n",
    "return_greet()\n",
    "print(return_greet())\n",
    "# print(a) this will throw an error\n",
    "\n",
    "\n",
    "# Global variable:- a variable which is defined outside of the function , is accessible from anywhere\n",
    "b=\"facebook\" #global variable\n",
    "def return_company():\n",
    "    return \"welcome to \" + b\n",
    "print(return_company())\n",
    "# print(b) here you can call and print as well"
   ]
  }
 ],
 "metadata": {
  "kernelspec": {
   "display_name": "Python 3",
   "language": "python",
   "name": "python3"
  },
  "language_info": {
   "codemirror_mode": {
    "name": "ipython",
    "version": 3
   },
   "file_extension": ".py",
   "mimetype": "text/x-python",
   "name": "python",
   "nbconvert_exporter": "python",
   "pygments_lexer": "ipython3",
   "version": "3.13.2"
  }
 },
 "nbformat": 4,
 "nbformat_minor": 5
}
