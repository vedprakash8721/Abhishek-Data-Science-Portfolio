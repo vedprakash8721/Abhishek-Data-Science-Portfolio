{
 "cells": [
  {
   "cell_type": "code",
   "execution_count": 16,
   "id": "e31591b1",
   "metadata": {},
   "outputs": [
    {
     "name": "stdout",
     "output_type": "stream",
     "text": [
      "25\n",
      "25\n"
     ]
    }
   ],
   "source": [
    "#Lambda function: it is an anonymous function.\n",
    "\"\"\"\n",
    "    syntax of the lambda function:\n",
    "    #Syntax:\n",
    "    lambda arguments: expression\n",
    "\"\"\"\n",
    "\n",
    "#lets see through an example\n",
    "\n",
    "# # Function\n",
    "a=int(input(\"Enter the number:\"))\n",
    "def sqr():\n",
    "    return a*a\n",
    "print(sqr())\n",
    "\n",
    "# lambda function\n",
    "\n",
    "b=int(input(\"Enter the number:\"))\n",
    "sqr_num= lambda b:b*b\n",
    "print(sqr_num(b))\n"
   ]
  },
  {
   "cell_type": "code",
   "execution_count": null,
   "id": "80e2e427",
   "metadata": {},
   "outputs": [],
   "source": [
    "\n",
    "\"\"\"factorial through function\"\"\"\n",
    "\n",
    "a= int(input(\"enter the number:\"))\n",
    "def fact(a):\n",
    "    if a==0:\n",
    "        return 1\n",
    "    else:\n",
    "        return a*fact(a-1)\n",
    "print(fact(a))\n",
    "\n",
    "#through lambda function\n",
    "\n",
    "b= int(input(\"enter the number:\"))\n",
    "fact_num= lambda b: 1 if b==0 else b*fact_num(b-1)\n",
    "print(fact_num(b))"
   ]
  }
 ],
 "metadata": {
  "kernelspec": {
   "display_name": "Python 3",
   "language": "python",
   "name": "python3"
  },
  "language_info": {
   "codemirror_mode": {
    "name": "ipython",
    "version": 3
   },
   "file_extension": ".py",
   "mimetype": "text/x-python",
   "name": "python",
   "nbconvert_exporter": "python",
   "pygments_lexer": "ipython3",
   "version": "3.13.2"
  }
 },
 "nbformat": 4,
 "nbformat_minor": 5
}
