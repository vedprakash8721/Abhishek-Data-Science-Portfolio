{
 "cells": [
  {
   "cell_type": "code",
   "execution_count": null,
   "id": "0d5d0abc",
   "metadata": {},
   "outputs": [],
   "source": [
    "\n",
    "\"\"\"\n",
    "\n",
    "Map() is a function that is used to map to iterable.\n",
    "syntax: map(function,iterable)\n",
    "\n",
    "\"\"\"\n",
    "\n",
    "#lets see through a example\n",
    "def sqr(x):\n",
    "    return x*x # fuction is created\n",
    "my_list =[1,2,3,4] # this is iterator\n",
    "print(list(map(sqr,my_list)))\n"
   ]
  },
  {
   "cell_type": "code",
   "execution_count": null,
   "id": "c725b9ac",
   "metadata": {},
   "outputs": [],
   "source": [
    "\n",
    "#same square through lambda and map\n",
    "my_list =[1,2,3,4]\n",
    "print(list(map(lambda x: x*x,my_list)))\n"
   ]
  },
  {
   "cell_type": "code",
   "execution_count": 28,
   "id": "6329575d",
   "metadata": {},
   "outputs": [
    {
     "name": "stdout",
     "output_type": "stream",
     "text": [
      "[9, 10, 11, 12]\n"
     ]
    }
   ],
   "source": [
    "a=int(input(\"enter the number:\"))\n",
    "my_list =[1,2,3,4]\n",
    "print(list(map(lambda x:x+a,my_list)))"
   ]
  }
 ],
 "metadata": {
  "kernelspec": {
   "display_name": "Python 3",
   "language": "python",
   "name": "python3"
  },
  "language_info": {
   "codemirror_mode": {
    "name": "ipython",
    "version": 3
   },
   "file_extension": ".py",
   "mimetype": "text/x-python",
   "name": "python",
   "nbconvert_exporter": "python",
   "pygments_lexer": "ipython3",
   "version": "3.13.2"
  }
 },
 "nbformat": 4,
 "nbformat_minor": 5
}
