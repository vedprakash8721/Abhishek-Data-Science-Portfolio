{
 "cells": [
  {
   "cell_type": "code",
   "execution_count": null,
   "id": "e31591b1",
   "metadata": {},
   "outputs": [],
   "source": [
    "#Lambda function: it is an anonymous function.\n"
   ]
  }
 ],
 "metadata": {
  "language_info": {
   "name": "python"
  }
 },
 "nbformat": 4,
 "nbformat_minor": 5
}
