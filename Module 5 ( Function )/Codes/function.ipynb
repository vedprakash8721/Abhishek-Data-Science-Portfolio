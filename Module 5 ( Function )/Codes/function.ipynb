{
 "cells": [
  {
   "cell_type": "code",
   "execution_count": null,
   "id": "e6415c9e",
   "metadata": {},
   "outputs": [],
   "source": [
    "# Function is a block of code that perform specific task when it is called.\n",
    "# it is of two types : Built-in , user-defined.\n",
    "import math as x\n",
    "print(x.ceil(6.8))\n",
    "print(\"hello\")\n",
    "\n",
    "#syntax of the function\n",
    "\n",
    "\"\"\"\n",
    "def fun():\n",
    "     body of the fun\n",
    "\"\"\""
   ]
  },
  {
   "cell_type": "code",
   "execution_count": null,
   "id": "382e16e6",
   "metadata": {},
   "outputs": [],
   "source": [
    "def greetings(name):\n",
    "    name=str(input(\"Enter the name:\")) #here we are taking the name from the user\n",
    "    print(\"welcome to the data science course\", name)\n",
    "greetings(\"name\")#if you don't want to take input then you can just simply pass the argument like name=anything\n"
   ]
  },
  {
   "cell_type": "code",
   "execution_count": null,
   "id": "086e9dde",
   "metadata": {},
   "outputs": [],
   "source": [
    "def first_program():\n",
    "    print(\"This is my first program\")\n",
    "\"\"\"first_program() + \"in python\"   ( it will throw an error bcz the type of function is nonetype )\"\"\"\n",
    "\n",
    "\n"
   ]
  },
  {
   "cell_type": "code",
   "execution_count": null,
   "id": "018b1078",
   "metadata": {},
   "outputs": [],
   "source": [
    "def first_program():\n",
    "    return \"This is my first program\"\n",
    "first_program() +\" \"+ \"in python\""
   ]
  },
  {
   "cell_type": "code",
   "execution_count": null,
   "id": "425ea77e",
   "metadata": {},
   "outputs": [],
   "source": [
    "#Addition of two numbers\n",
    "a=int(input(\"enter the first num\"))\n",
    "b=int(input(\"enter the first num\"))\n",
    "def add(a,b):\n",
    "    sum=(a+b)\n",
    "    return print(\"the addition is:\",sum)\n",
    "add(a,b)"
   ]
  },
  {
   "cell_type": "code",
   "execution_count": null,
   "id": "2a4446b8",
   "metadata": {},
   "outputs": [],
   "source": [
    "#default argument: if you not provide any value then it just take the default value given in the starting. lets see with example\n",
    "\n",
    "def sum_3(b,c,a=1): #in this if you won't give the value of a then it just take 1 as given\n",
    "    return (a+b+c)\n",
    "print(sum_3(a=4,b=3,c=5))\n",
    "print(sum_3(b=3,c=5))\n"
   ]
  },
  {
   "cell_type": "code",
   "execution_count": 2,
   "id": "1d4a72ff",
   "metadata": {},
   "outputs": [
    {
     "name": "stdout",
     "output_type": "stream",
     "text": [
      "the sum is: 1578\n"
     ]
    }
   ],
   "source": [
    "#sum of two number\n",
    "\n",
    "def sum_of_two():\n",
    "    a=int(input(\"Enter the first number\"))\n",
    "    b=int(input(\"Enter the second number\"))\n",
    "    print(\"the sum is:\",a+b)\n",
    "sum_of_two()"
   ]
  }
 ],
 "metadata": {
  "kernelspec": {
   "display_name": "Python 3",
   "language": "python",
   "name": "python3"
  },
  "language_info": {
   "codemirror_mode": {
    "name": "ipython",
    "version": 3
   },
   "file_extension": ".py",
   "mimetype": "text/x-python",
   "name": "python",
   "nbconvert_exporter": "python",
   "pygments_lexer": "ipython3",
   "version": "3.13.2"
  }
 },
 "nbformat": 4,
 "nbformat_minor": 5
}
