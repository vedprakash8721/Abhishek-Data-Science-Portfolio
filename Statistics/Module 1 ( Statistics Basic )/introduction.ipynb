{
 "cells": [
  {
   "cell_type": "code",
   "execution_count": null,
   "id": "be88b0ae",
   "metadata": {},
   "outputs": [],
   "source": [
    "\"\"\"\n",
    "Statistics : statistics is mathematical science including method of collecting , organising,analyzing in such a way tha some conclusion\n",
    "can be drawn from them.\n",
    " \n",
    "why statistics in data science?  \n",
    "we try to learn pattern in the data . the whole story comes in to data. thats why statistics is used : \n",
    "data ? : it is piece of information that can be stored and re-accessed and measured\n",
    "data is used to bring insights and pattern\n",
    "\n",
    "key facts of statistics:\n",
    "COLLECTING : manually,stock market, from customers,survays,experimental.... ets\n",
    "ORGANISING : database . why to organise : to re-access the data\n",
    "ANALYSING : numpy, pandas and other data toolkit\n",
    "\n",
    "\n",
    "\"\"\"\n",
    "\n",
    "# types of statistics :\n",
    "\n",
    "\"\"\"\n",
    "1: descriptiive statistics:> \n",
    "\n",
    "\"\"\""
   ]
  }
 ],
 "metadata": {
  "language_info": {
   "name": "python"
  }
 },
 "nbformat": 4,
 "nbformat_minor": 5
}
