{
 "cells": [
  {
   "cell_type": "code",
   "execution_count": null,
   "id": "72b514ef",
   "metadata": {},
   "outputs": [],
   "source": [
    "\"\"\" \n",
    "Machine Learning (ML) is a branch of Artificial Intelligence (AI) \n",
    "that focuses on building systems that can learn from data and improve their\n",
    "performance over time without being explicitly programmed\n",
    "\n",
    "Input → Algorithm → Model → Output\n",
    "\n",
    "Types of ML : \n",
    "1 supervised ML\n",
    "2 Unsupervised Ml \n",
    "3 Semi ....... ML\n",
    "4 Reinforcement learning\n",
    "\n",
    "\"\"\""
   ]
  },
  {
   "cell_type": "code",
   "execution_count": null,
   "id": "44de52b2",
   "metadata": {},
   "outputs": [],
   "source": [
    "# train , validation and test\n",
    "# training : train the model like teacher teaching student\n",
    "# validation: validation of trained model like internal exam\n",
    "# test: test of model like external exam"
   ]
  },
  {
   "cell_type": "code",
   "execution_count": null,
   "id": "081f6d50",
   "metadata": {},
   "outputs": [],
   "source": [
    "# overfitting : model performs well on train data but worst on test data. \n",
    "# underfitting: model performs worst both on test data and train data. \n",
    "\n",
    "# Generalised model : in both train and test the accuracy is high. "
   ]
  }
 ],
 "metadata": {
  "language_info": {
   "name": "python"
  }
 },
 "nbformat": 4,
 "nbformat_minor": 5
}
