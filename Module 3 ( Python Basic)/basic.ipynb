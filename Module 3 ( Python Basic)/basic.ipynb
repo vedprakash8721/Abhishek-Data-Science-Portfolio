{
 "cells": [
  {
   "cell_type": "code",
   "execution_count": null,
   "id": "e987e326",
   "metadata": {},
   "outputs": [],
   "source": [
    "print('hello world')\n",
    "help('keywords')"
   ]
  },
  {
   "cell_type": "code",
   "execution_count": null,
   "id": "14bab20e",
   "metadata": {},
   "outputs": [],
   "source": [
    "a=int(input('enter some number:'))\n",
    "print(a)\n",
    "#to take input from the user \n"
   ]
  },
  {
   "cell_type": "code",
   "execution_count": null,
   "id": "f2fb6855",
   "metadata": {},
   "outputs": [],
   "source": [
    "#type casting \n",
    "a=10\n",
    "b=float(a)\n",
    "print(a)\n",
    "type(b)"
   ]
  },
  {
   "cell_type": "code",
   "execution_count": null,
   "id": "9b7bce80",
   "metadata": {},
   "outputs": [],
   "source": [
    "a=int(input(\"enter the num\"))\n",
    "b=int(input(\"enter the name\"))\n",
    "if a<b:\n",
    "    print(a)\n",
    "else:\n",
    "    print(b)"
   ]
  },
  {
   "cell_type": "code",
   "execution_count": null,
   "id": "a73259d3",
   "metadata": {},
   "outputs": [],
   "source": [
    "#operator\n",
    "#true division\n",
    "a=10/3\n",
    "#floor division\n",
    "b=10//3\n",
    "#modular division\n",
    "c=10%3\n",
    "print(a,b,c)\n"
   ]
  },
  {
   "cell_type": "code",
   "execution_count": null,
   "id": "d8059bfe",
   "metadata": {},
   "outputs": [],
   "source": [
    "#logical operator\n",
    "#and\n",
    "#or\n",
    "\n",
    "#example\n",
    "True - True"
   ]
  },
  {
   "cell_type": "code",
   "execution_count": null,
   "id": "427c146e",
   "metadata": {},
   "outputs": [],
   "source": [
    "True and False"
   ]
  },
  {
   "cell_type": "code",
   "execution_count": null,
   "id": "ad0a4886",
   "metadata": {},
   "outputs": [],
   "source": [
    "True or False"
   ]
  },
  {
   "cell_type": "code",
   "execution_count": null,
   "id": "9a10906f",
   "metadata": {},
   "outputs": [],
   "source": [
    "#assignment operator\n",
    "a=10\n",
    "a+=4\n",
    "print(a)"
   ]
  },
  {
   "cell_type": "code",
   "execution_count": null,
   "id": "0a4d59cb",
   "metadata": {},
   "outputs": [],
   "source": [
    "a=10\n",
    "a*=3\n",
    "print(a)\n"
   ]
  },
  {
   "cell_type": "code",
   "execution_count": null,
   "id": "daef8579",
   "metadata": {},
   "outputs": [],
   "source": [
    "a=10\n",
    "a/=2\n",
    "print(a)\n"
   ]
  },
  {
   "cell_type": "code",
   "execution_count": null,
   "id": "f3a12234",
   "metadata": {},
   "outputs": [],
   "source": [
    "#membership operator\n",
    "\n",
    "a= \"abhishek\"\n",
    "\"a\" in a\n"
   ]
  },
  {
   "cell_type": "code",
   "execution_count": null,
   "id": "c9ad4a7d",
   "metadata": {},
   "outputs": [],
   "source": [
    "A=\"ved prakash kushwaha\"\n",
    "\"ved \" in A\n"
   ]
  },
  {
   "cell_type": "code",
   "execution_count": null,
   "id": "aa5c19de",
   "metadata": {},
   "outputs": [],
   "source": [
    "#identity operator\n",
    "\n",
    "a=4\n",
    "b=6\n",
    "a is b "
   ]
  },
  {
   "cell_type": "code",
   "execution_count": null,
   "id": "97427038",
   "metadata": {},
   "outputs": [],
   "source": [
    "a=1\n",
    "b=4\n",
    "a is not b\n"
   ]
  },
  {
   "cell_type": "code",
   "execution_count": null,
   "id": "5fcf34ae",
   "metadata": {},
   "outputs": [],
   "source": [
    "#xor operator\n",
    "5^3"
   ]
  },
  {
   "cell_type": "code",
   "execution_count": null,
   "id": "a0342fc5",
   "metadata": {},
   "outputs": [],
   "source": [
    "#shift operator\n",
    "10<<1"
   ]
  },
  {
   "cell_type": "code",
   "execution_count": null,
   "id": "1931fb0a",
   "metadata": {},
   "outputs": [],
   "source": [
    "20>>1"
   ]
  },
  {
   "cell_type": "code",
   "execution_count": null,
   "id": "e07ee6f6",
   "metadata": {},
   "outputs": [],
   "source": [
    "#Type casting\n",
    "\n",
    "a=4\n",
    "b=\"ved\"\n",
    "print(type(a))\n",
    "print(type(b))\n",
    "print(float(a))\n",
    "str(a)\n",
    "#str can not be converted into int or float"
   ]
  },
  {
   "cell_type": "code",
   "execution_count": null,
   "id": "5a489a09",
   "metadata": {},
   "outputs": [],
   "source": [
    "#conditionals\n",
    "#flow control\n",
    "\n",
    "\n",
    "\n",
    "#if-else statement\n",
    "a=8\n",
    "b=88\n",
    "if a>b:\n",
    "    print(a)\n",
    "else:\n",
    "    print(b)"
   ]
  },
  {
   "cell_type": "code",
   "execution_count": null,
   "id": "78756051",
   "metadata": {},
   "outputs": [],
   "source": [
    "a=int(input(\"Enter the number:\"))\n",
    "if a%2==0:\n",
    "    print(\"the number is even\")\n"
   ]
  },
  {
   "cell_type": "code",
   "execution_count": null,
   "id": "f3709c15",
   "metadata": {},
   "outputs": [],
   "source": [
    "a=78\n",
    "if((a%2==0) & (a>70)):\n",
    "    print(\"the number is good\")"
   ]
  },
  {
   "cell_type": "code",
   "execution_count": null,
   "id": "626e56e5",
   "metadata": {},
   "outputs": [],
   "source": [
    "#if else condition\n",
    "\n",
    "#we all know that if   the condition of if statement is true then the block of if would be print and if its false then the else block would be print so no need to waste time\n",
    "\n",
    "\n",
    "#just like even odd number check \n",
    "#lets put the code\n",
    "\n",
    "a=int(input( \"enter the number\"))\n",
    "if a%2==0:\n",
    "    print(\"the number is even\")\n",
    "else:\n",
    "    print(\"the number is odd\")\n",
    "print(\"the number is:\", a)"
   ]
  },
  {
   "cell_type": "code",
   "execution_count": null,
   "id": "fed5501b",
   "metadata": {},
   "outputs": [],
   "source": [
    "# now the time is for if elif else\n",
    "#so in this we can print the largest between more than two numbers\n"
   ]
  },
  {
   "cell_type": "code",
   "execution_count": null,
   "id": "b51d6b20",
   "metadata": {},
   "outputs": [],
   "source": [
    "#lets move towards the loop statement\n",
    "\n",
    "#while loop\n",
    "\n",
    "#lets print the number til 100\n",
    "n=100\n",
    "i=0\n",
    "while i<=n and i%2==0 :\n",
    "    print(i)\n",
    "    i+=1\n",
    "#here we can see that the code is stopped at 0 because we know that while loop works untill the condition is true and that is the difference between for and while . for execute untill given condition"
   ]
  },
  {
   "cell_type": "code",
   "execution_count": null,
   "id": "a88df2f3",
   "metadata": {},
   "outputs": [],
   "source": [
    "#code for even numbers in my way\n",
    "\n",
    "\n",
    "n=100\n",
    "i=0\n",
    "while i<=n :\n",
    "    if i%2==0:\n",
    "        print(i)\n",
    "    i+=1"
   ]
  },
  {
   "cell_type": "code",
   "execution_count": null,
   "id": "fee08550",
   "metadata": {},
   "outputs": [],
   "source": [
    "#For Loop\n",
    "#print 1 to 10\n",
    "for i in range(1,11):\n",
    "    print(i)\n",
    "    #and if you want to print all numbers in the same line just do it\n",
    "    # print(i, end=\" \")"
   ]
  },
  {
   "cell_type": "code",
   "execution_count": null,
   "id": "dd9ed259",
   "metadata": {},
   "outputs": [],
   "source": [
    "#syntax of the range is like (start, stop, step i.e skip)\n",
    "#the stop and skip works like same num-1 for example\n",
    "\n",
    "for i in range(1,10,1):\n",
    "    print(i)"
   ]
  },
  {
   "cell_type": "code",
   "execution_count": null,
   "id": "950470fd",
   "metadata": {},
   "outputs": [],
   "source": [
    "\n",
    "for i in range(1,10,2):\n",
    "    print(i)\n",
    "    #yaha par 2-1=1 step skip karke print kar rha hai"
   ]
  },
  {
   "cell_type": "code",
   "execution_count": null,
   "id": "24a82b31",
   "metadata": {},
   "outputs": [],
   "source": [
    "#print star pattern\n",
    "row=1\n",
    "# col=1 , this is not right if you know then its fine otherwise go and find this\n",
    "while row<=4:\n",
    "    col=1\n",
    "    while col<=row:\n",
    "        print(\"*\", end =\" \")\n",
    "        col+=1\n",
    "    print()\n",
    "    row+=1"
   ]
  },
  {
   "cell_type": "code",
   "execution_count": 2,
   "id": "82b4ec9b",
   "metadata": {},
   "outputs": [
    {
     "name": "stdout",
     "output_type": "stream",
     "text": [
      "* \n",
      "* * \n",
      "* * * \n",
      "* * * * \n"
     ]
    }
   ],
   "source": [
    "#same problem statement using for loop\n",
    "\n",
    "for i in range(4):\n",
    "    for j in range(i+1):\n",
    "        print(\"*\",end=\" \")\n",
    "    print()"
   ]
  }
 ],
 "metadata": {
  "kernelspec": {
   "display_name": "Python 3",
   "language": "python",
   "name": "python3"
  },
  "language_info": {
   "codemirror_mode": {
    "name": "ipython",
    "version": 3
   },
   "file_extension": ".py",
   "mimetype": "text/x-python",
   "name": "python",
   "nbconvert_exporter": "python",
   "pygments_lexer": "ipython3",
   "version": "3.13.2"
  }
 },
 "nbformat": 4,
 "nbformat_minor": 5
}
