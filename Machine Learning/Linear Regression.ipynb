{
 "cells": [
  {
   "cell_type": "code",
   "execution_count": 1,
   "id": "8293a701",
   "metadata": {},
   "outputs": [],
   "source": [
    "\"\"\" importing all the library so that in future it \"\"\"\n",
    "import numpy as np\n",
    "import pandas as pd\n",
    "from IPython.display import display\n",
    "import matplotlib.pyplot as plt\n",
    "import sklearn\n",
    "import seaborn as sns\n",
    "from sklearn import datasets\n",
    "import plotly as px\n",
    "import plotly.express as px\n",
    "from sklearn.model_selection import train_test_split\n",
    "from sklearn.svm import SVC\n",
    "from sklearn.metrics import accuracy_score\n",
    "from sklearn.metrics import confusion_matrix"
   ]
  },
  {
   "cell_type": "code",
   "execution_count": null,
   "id": "fdff56de",
   "metadata": {},
   "outputs": [],
   "source": [
    "# Linear Regression is a supervised machine learning algorithm that tries to predict a continuous value (like marks, salary, house price) based on input features, \n",
    "# by fitting a straight line (or hyperplane in higher dimensions)."
   ]
  }
 ],
 "metadata": {
  "kernelspec": {
   "display_name": "Python 3",
   "language": "python",
   "name": "python3"
  },
  "language_info": {
   "codemirror_mode": {
    "name": "ipython",
    "version": 3
   },
   "file_extension": ".py",
   "mimetype": "text/x-python",
   "name": "python",
   "nbconvert_exporter": "python",
   "pygments_lexer": "ipython3",
   "version": "3.13.5"
  }
 },
 "nbformat": 4,
 "nbformat_minor": 5
}
