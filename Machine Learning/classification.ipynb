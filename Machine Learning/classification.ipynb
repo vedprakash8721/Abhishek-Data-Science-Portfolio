{
 "cells": [
  {
   "cell_type": "code",
   "execution_count": 1,
   "id": "f605068d",
   "metadata": {},
   "outputs": [],
   "source": [
    "# What is classification in Machine learning?\n",
    "# Classification is a process of Categorizing a given data set into class. this can be done both on structured and unstructured data.\n",
    "# the process starts with predicting the class of given data points . the classes in the ML reffered as \" targets\" or \"lables\""
   ]
  },
  {
   "cell_type": "code",
   "execution_count": 2,
   "id": "5f4fa4bf",
   "metadata": {},
   "outputs": [],
   "source": [
    "\"\"\" importing all the library so that in future it \"\"\"\n",
    "import numpy as np\n",
    "import pandas as pd\n",
    "from IPython.display import display\n",
    "import matplotlib.pyplot as plt\n",
    "import sklearn\n",
    "import seaborn as sns\n"
   ]
  },
  {
   "cell_type": "code",
   "execution_count": 4,
   "id": "61a7553d",
   "metadata": {},
   "outputs": [
    {
     "data": {
      "text/plain": [
       "[0, 1, 1, 1]"
      ]
     },
     "metadata": {},
     "output_type": "display_data"
    }
   ],
   "source": [
    "x=np.array([[0,0],[0,1],[1,0],[1,1]])\n",
    "y=np.array([0,1,1,1])\n",
    "# Assingning Weight value\n",
    "w=np.array([1,1])\n",
    "# bias value\n",
    "b=-0.5\n",
    "pred=[]\n",
    "def activation(z):\n",
    "    if z>=0:\n",
    "        return 1\n",
    "    else:\n",
    "        return 0\n",
    "for a in x:\n",
    "    y_1=np.dot(a,w)+b\n",
    "    pred.append(activation(y_1))\n",
    "display(pred)\n"
   ]
  }
 ],
 "metadata": {
  "kernelspec": {
   "display_name": "Python 3",
   "language": "python",
   "name": "python3"
  },
  "language_info": {
   "codemirror_mode": {
    "name": "ipython",
    "version": 3
   },
   "file_extension": ".py",
   "mimetype": "text/x-python",
   "name": "python",
   "nbconvert_exporter": "python",
   "pygments_lexer": "ipython3",
   "version": "3.13.5"
  }
 },
 "nbformat": 4,
 "nbformat_minor": 5
}
