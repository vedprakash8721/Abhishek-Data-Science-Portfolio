{
 "cells": [
  {
   "cell_type": "code",
   "execution_count": 1,
   "id": "f605068d",
   "metadata": {},
   "outputs": [],
   "source": [
    "# What is classification in Machine learning?\n",
    "# Classification is a process of Categorizing a given data set into class. this can be done both on structured and unstructured data.\n",
    "# the process starts with predicting the class of given data points . the classes in the ML reffered as \" targets\" or \"lables\""
   ]
  },
  {
   "cell_type": "code",
   "execution_count": 2,
   "id": "5f4fa4bf",
   "metadata": {},
   "outputs": [],
   "source": [
    "\"\"\" importing all the library so that in future it \"\"\"\n",
    "import numpy as np\n",
    "import pandas as pd\n",
    "from IPython.display import display\n",
    "import matplotlib.pyplot as plt\n",
    "import sklearn\n",
    "import seaborn as sns\n"
   ]
  },
  {
   "cell_type": "code",
   "execution_count": 3,
   "id": "61a7553d",
   "metadata": {},
   "outputs": [
    {
     "data": {
      "text/plain": [
       "[0, 1, 1, 1]"
      ]
     },
     "metadata": {},
     "output_type": "display_data"
    },
    {
     "name": "stdout",
     "output_type": "stream",
     "text": [
      "Initial weights\n",
      "w0= 0.1102705128855026 w1= 0.48886642998497887 w2= 0.3294519756276735\n"
     ]
    },
    {
     "data": {
      "text/plain": [
       "array([[0, 0, 0],\n",
       "       [0, 0, 1],\n",
       "       [0, 1, 0],\n",
       "       [0, 1, 1],\n",
       "       [1, 0, 0],\n",
       "       [1, 0, 1],\n",
       "       [1, 1, 0],\n",
       "       [1, 1, 1]])"
      ]
     },
     "metadata": {},
     "output_type": "display_data"
    },
    {
     "data": {
      "text/plain": [
       "array([0, 1, 1, 1, 1, 1, 1, 1])"
      ]
     },
     "metadata": {},
     "output_type": "display_data"
    },
    {
     "name": "stdout",
     "output_type": "stream",
     "text": [
      "final weights\n",
      "w0= 0.1102705128855026 w1= 0.48886642998497887 w2= 0.3294519756276735\n"
     ]
    }
   ],
   "source": [
    "x=np.array([[0,0],[0,1],[1,0],[1,1]])\n",
    "y=np.array([0,1,1,1])\n",
    "# Assingning Weight value\n",
    "w=np.array([1,1])\n",
    "# bias value\n",
    "b=-0.5\n",
    "pred=[]\n",
    "def activation(z):\n",
    "    if z>=0:\n",
    "        return 1\n",
    "    else:\n",
    "        return 0\n",
    "for a in x:\n",
    "    y_1=np.dot(a,w)+b\n",
    "    pred.append(activation(y_1))\n",
    "display(pred)\n",
    "\n",
    "\n",
    "# Epoch : An epoch is one complete pass of the entire training dataset through the machine learning model.\n",
    "import math\n",
    "# alpha : Alpha (α) is the learning rate, a hyperparameter that controls the step size during the optimization process of training a model.\n",
    "apochs=100\n",
    "alpha=0.2\n",
    "# initial weight\n",
    "w0=np.random.random()\n",
    "w1=np.random.random()\n",
    "w2=np.random.random()\n",
    "print(\"Initial weights\")\n",
    "print(\"w0=\",w0,\"w1=\",w1,\"w2=\",w2)\n",
    "train_data=np.array([[0,0,0],[0,0,1],[0,1,0],[0,1,1],[1,0,0],[1,0,1],[1,1,0],[1,1,1]])\n",
    "op=np.array([0,1,1,1,1,1,1,1])\n",
    "display(train_data)\n",
    "display(op)\n",
    "bias=0\n",
    "for i in range(apochs):\n",
    "    j=0\n",
    "    for x in train_data:\n",
    "        y_op=w0*x[0]+w1*x[1]+w2*x[2]+bias\n",
    "        if (y_op>=0):\n",
    "            act=1\n",
    "        else:\n",
    "            act=0\n",
    "        error=op[j]-act\n",
    "\n",
    "        del_w0=alpha*x[0]*error\n",
    "        del_w1=alpha*x[1]*error\n",
    "        del_w2=alpha*x[2]*error\n",
    "\n",
    "        w0=w0+del_w0\n",
    "        w1=w1+del_w1\n",
    "        w2=w2+del_w2\n",
    "        j+=1\n",
    "        # print(\"apochs\",i+1,\"error\",error)\n",
    "print(\"final weights\")\n",
    "print(\"w0=\",w0,\"w1=\",w1,\"w2=\",w2)        "
   ]
  },
  {
   "cell_type": "code",
   "execution_count": null,
   "id": "30273f5c",
   "metadata": {},
   "outputs": [],
   "source": []
  }
 ],
 "metadata": {
  "kernelspec": {
   "display_name": "Python 3",
   "language": "python",
   "name": "python3"
  },
  "language_info": {
   "codemirror_mode": {
    "name": "ipython",
    "version": 3
   },
   "file_extension": ".py",
   "mimetype": "text/x-python",
   "name": "python",
   "nbconvert_exporter": "python",
   "pygments_lexer": "ipython3",
   "version": "3.13.5"
  }
 },
 "nbformat": 4,
 "nbformat_minor": 5
}
