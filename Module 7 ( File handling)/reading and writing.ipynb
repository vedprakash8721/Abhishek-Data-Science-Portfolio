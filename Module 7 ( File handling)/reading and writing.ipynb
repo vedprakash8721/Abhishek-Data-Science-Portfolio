{
 "cells": [
  {
   "cell_type": "code",
   "execution_count": 5,
   "id": "c2d69e77",
   "metadata": {},
   "outputs": [
    {
     "name": "stdout",
     "output_type": "stream",
     "text": [
      " example1\n",
      "example 2\n",
      "example 3\n",
      "\n"
     ]
    }
   ],
   "source": [
    "# reading and writing file \n",
    "\n",
    "test= \"\"\" example1\n",
    "example 2\n",
    "example 3\n",
    "\"\"\"\n",
    "with open(\"example.txt\",\"w\") as file:\n",
    "    file.write(test)\n",
    "\n",
    "with open(\"example.txt\",\"r\") as file:\n",
    "    data=file.read()\n",
    "\n",
    "print(data)"
   ]
  },
  {
   "cell_type": "code",
   "execution_count": null,
   "id": "5618c467",
   "metadata": {},
   "outputs": [
    {
     "name": "stdout",
     "output_type": "stream",
     "text": [
      "<_csv.writer object at 0x000002D68D80F4C0>\n"
     ]
    }
   ],
   "source": [
    "#CSV : comma separated value is a tabular representation .\n",
    "data =[[\"name\",\"course\",\"fee\"],\n",
    "       [\"ved\",\"data science\",\"20000\"],\n",
    "       [\"ayan\",\"data analytics\",\"20000\"]]\n",
    "import csv\n",
    "with open(\"example.csv\",\"w\") as file:\n",
    "    w= csv.writer(file)\n",
    "    for i in data:\n",
    "        w.writerow(i)\n"
   ]
  }
 ],
 "metadata": {
  "kernelspec": {
   "display_name": "Python 3",
   "language": "python",
   "name": "python3"
  },
  "language_info": {
   "codemirror_mode": {
    "name": "ipython",
    "version": 3
   },
   "file_extension": ".py",
   "mimetype": "text/x-python",
   "name": "python",
   "nbconvert_exporter": "python",
   "pygments_lexer": "ipython3",
   "version": "3.13.5"
  }
 },
 "nbformat": 4,
 "nbformat_minor": 5
}
