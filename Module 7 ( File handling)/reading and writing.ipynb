{
 "cells": [
  {
   "cell_type": "code",
   "execution_count": 5,
   "id": "c2d69e77",
   "metadata": {},
   "outputs": [
    {
     "name": "stdout",
     "output_type": "stream",
     "text": [
      " example1\n",
      "example 2\n",
      "example 3\n",
      "\n"
     ]
    }
   ],
   "source": [
    "# reading and writing file \n",
    "\n",
    "test= \"\"\" example1\n",
    "example 2\n",
    "example 3\n",
    "\"\"\"\n",
    "with open(\"example.txt\",\"w\") as file:\n",
    "    file.write(test)\n",
    "\n",
    "with open(\"example.txt\",\"r\") as file:\n",
    "    data=file.read()\n",
    "\n",
    "print(data)"
   ]
  }
 ],
 "metadata": {
  "kernelspec": {
   "display_name": "Python 3",
   "language": "python",
   "name": "python3"
  },
  "language_info": {
   "codemirror_mode": {
    "name": "ipython",
    "version": 3
   },
   "file_extension": ".py",
   "mimetype": "text/x-python",
   "name": "python",
   "nbconvert_exporter": "python",
   "pygments_lexer": "ipython3",
   "version": "3.13.5"
  }
 },
 "nbformat": 4,
 "nbformat_minor": 5
}
