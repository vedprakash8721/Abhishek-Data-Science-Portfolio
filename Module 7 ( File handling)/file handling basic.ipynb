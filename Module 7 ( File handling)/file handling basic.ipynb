{
 "cells": [
  {
   "cell_type": "code",
   "execution_count": 8,
   "id": "e3da2128",
   "metadata": {},
   "outputs": [
    {
     "name": "stdout",
     "output_type": "stream",
     "text": [
      "None\n",
      "True\n"
     ]
    }
   ],
   "source": [
    "file=open(\"file.txt\",\"w\") # w: write mode :if file not exist then it create a file and then write\n",
    "\n",
    "file.write(\"hello my name is ved prakash kushwaha\") # the output is number of bytes you have written\n",
    "# as of now if you open the file you will se that there is nothing written\n",
    "# in order to see what is written you have to close the file.txt\n",
    "print(file.close())\n",
    "#to check that file is closed or not\n",
    "print(file.closed)"
   ]
  }
 ],
 "metadata": {
  "kernelspec": {
   "display_name": "Python 3",
   "language": "python",
   "name": "python3"
  },
  "language_info": {
   "codemirror_mode": {
    "name": "ipython",
    "version": 3
   },
   "file_extension": ".py",
   "mimetype": "text/x-python",
   "name": "python",
   "nbconvert_exporter": "python",
   "pygments_lexer": "ipython3",
   "version": "3.13.2"
  }
 },
 "nbformat": 4,
 "nbformat_minor": 5
}
