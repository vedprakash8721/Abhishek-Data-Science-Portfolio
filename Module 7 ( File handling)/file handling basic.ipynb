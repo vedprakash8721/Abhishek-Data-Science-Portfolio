{
 "cells": [
  {
   "cell_type": "code",
   "execution_count": 8,
   "id": "e3da2128",
   "metadata": {},
   "outputs": [
    {
     "name": "stdout",
     "output_type": "stream",
     "text": [
      "None\n",
      "True\n",
      "file.txt\n",
      "w\n",
      "True\n"
     ]
    },
    {
     "data": {
      "text/plain": [
       "' this will create a ipynb file name as test\\nfile = open(\"test.ipynb\",\"w\")\\nprint(file.close())'"
      ]
     },
     "execution_count": 8,
     "metadata": {},
     "output_type": "execute_result"
    }
   ],
   "source": [
    "file=open(\"file.txt\",\"w\") # w: write mode :if file not exist then it create a file and then write\n",
    "\n",
    "file.write(\"hello my name is ved prakash kushwaha\") # the output is number of bytes you have written\n",
    "# as of now if you open the file you will se that there is nothing written\n",
    "# in order to see what is written you have to close the file.txt\n",
    "print(file.close())\n",
    "#to check that file is closed or not\n",
    "print(file.closed)\n",
    "\n",
    "#to know the file name\n",
    "print(file.name)\n",
    "\n",
    "#  to know which mode it is opened\n",
    "print(file.mode)\n",
    "\n",
    "print(file.closed)\n",
    "# if you want further to write then do this .\n",
    "\n",
    "# print(file.write(\"this is second line in the file \"))  error: I/O operation on closed file.\n",
    "\"\"\" so you have to open it again in write mode ,,, and if you open the same file as write mode then it will delete all the previous data because the write mode truncate ( delete ) the previous data\"\"\"\n",
    "\n",
    "\n",
    "\"\"\" this will create a ipynb file name as test\n",
    "file = open(\"test.ipynb\",\"w\")\n",
    "print(file.close())\"\"\"\n",
    "\n"
   ]
  },
  {
   "cell_type": "code",
   "execution_count": null,
   "id": "c9846a93",
   "metadata": {},
   "outputs": [
    {
     "name": "stdout",
     "output_type": "stream",
     "text": [
      "True\n",
      "True\n",
      "hello pwskills . this is first line of the text file\n",
      "\n",
      "This is second line\n",
      "\n",
      "This is third line\n",
      "\n",
      "This is fourth line\n",
      "\n",
      "This is fifth line\n",
      "\n"
     ]
    }
   ],
   "source": [
    "# if you want to write it again so open it in append mode \" a \"\n",
    "\n",
    "file=open(\"file2.txt\",\"w\")\n",
    "file.write(\"hello pwskills . this is first line of the text file\\n\")\n",
    "file.close()\n",
    "print(file.closed)\n",
    "# now we will add some new line\n",
    "file=open(\"file2.txt\",\"a\")\n",
    "file.write(\"This is second line\\n\")\n",
    "file.write(\"This is third line\\n\")\n",
    "file.write(\"This is fourth line\\n\")\n",
    "file.write(\"This is fifth line\\n\")\n",
    "file.close()\n",
    "print(file.closed)\n",
    "\n",
    "#so now if you want to see what and how many line are written in the file\n",
    "# so firstly we have to open the file\n",
    "file=open(\"file2.txt\",\"r\") # in this mode you can only read not write\n",
    "\n",
    "for i in file:\n",
    "    print(i)\n"
   ]
  },
  {
   "cell_type": "code",
   "execution_count": null,
   "id": "1bc614d8",
   "metadata": {},
   "outputs": [
    {
     "name": "stdout",
     "output_type": "stream",
     "text": [
      "True\n",
      "hello we are starting from new end\n",
      "\n",
      "today is 20 june\n",
      "\n",
      "i am at pahadpur at my village\n",
      "\n",
      "86\n",
      "hello we are starting from new end\n",
      "\n",
      "['hello we are starting from new end\\n', 'today is 20 june\\n', 'i am at pahadpur at my village\\n']\n"
     ]
    }
   ],
   "source": [
    "# starting from  the new phase date 20 june\n",
    "\n",
    "file = open(\"ved.txt\",\"w\")\n",
    "file.write(\"hello we are starting from new end\\n\")\n",
    "file.write(\"today is 20 june\\n\")\n",
    "file.write(\"i am at pahadpur at my village\\n\")\n",
    "file.close()\n",
    "print(file.closed)\n",
    "file=open(\"ved.txt\",\"r\") # if you open the file in read mode then you can not write\n",
    "\n",
    "for i in file:\n",
    "    print(i)\n",
    "\n",
    "\n",
    "# if you want to check where you are like how much number of text you have written.\n",
    "print(file.tell())# it tells the position of the cursor\n",
    "\n",
    "# if you want to read the file line by line\n",
    "file=open(\"ved.txt\", \"r\")\n",
    "print(file.readline()) #this will give you the first line\n",
    "file.close()\n",
    "file=open(\"ved.txt\",\"r\")\n",
    "\n",
    "print(file.readlines())\n",
    "\n"
   ]
  },
  {
   "cell_type": "code",
   "execution_count": null,
   "id": "72edfddd",
   "metadata": {},
   "outputs": [
    {
     "name": "stdout",
     "output_type": "stream",
     "text": [
      "c:\\MY SPACE\\Data Science and Gen AI\\Python-Journey\\Module 7 ( File handling)\n",
      "32\n"
     ]
    }
   ],
   "source": [
    "# Present Working Directory\n",
    "file = open(\"ved.txt\",\"w\")\n",
    "file.write(\"check the location of the file\\n\")\n",
    "import os # interacting with operating system\n",
    "print(os.getcwd())# in simple words you will get the location of the file:\n",
    "\n",
    "# to check the size of the file\n",
    "\n",
    "print(os.path.getsize(\"ved.txt\")) # this would be in the bytes\n",
    "\n",
    "\n",
    "\n"
   ]
  },
  {
   "cell_type": "code",
   "execution_count": 3,
   "id": "a6a856b5",
   "metadata": {},
   "outputs": [
    {
     "name": "stdout",
     "output_type": "stream",
     "text": [
      "True\n",
      "this is another method of writing file:\n"
     ]
    }
   ],
   "source": [
    "# With Statement\n",
    "\n",
    "\"\"\" with statement ensures that the file is closed properly after the block of code is executed\"\"\"\n",
    "\n",
    "with open(\"ved2,txt\",\"w\") as file: # through this you dont need to write close syntax\n",
    "    file.write(\"this is another method of writing file:\")\n",
    "# here you cant read the file because of you open the file as write mode\n",
    "\n",
    "    \n",
    "print(file.closed)\n",
    "# to read the file\n",
    "with open(\"ved2,txt\",\"r\") as file:\n",
    "    for i in file:\n",
    "        print(i)\n"
   ]
  },
  {
   "cell_type": "code",
   "execution_count": null,
   "id": "cc8baa8c",
   "metadata": {},
   "outputs": [],
   "source": []
  },
  {
   "cell_type": "code",
   "execution_count": null,
   "id": "bc7c5617",
   "metadata": {},
   "outputs": [],
   "source": []
  },
  {
   "cell_type": "code",
   "execution_count": 2,
   "id": "d3231d23",
   "metadata": {},
   "outputs": [
    {
     "name": "stdout",
     "output_type": "stream",
     "text": [
      "Current Working Directory:\n",
      "c:\\MY SPACE\\Data Science and Gen AI\\Python-Journey\\Module 7 ( File handling)\n",
      "\n",
      "Files and Folders in Current Directory:\n",
      "- file handling basic.ipynb\n",
      "- file.txt\n",
      "- file2.txt\n"
     ]
    }
   ],
   "source": [
    "import os\n",
    "\n",
    "# ✅ Get current working directory\n",
    "cwd = os.getcwd()\n",
    "print(\"Current Working Directory:\")\n",
    "print(cwd)\n",
    "\n",
    "# 📁 List all files and folders in the current directory\n",
    "print(\"\\nFiles and Folders in Current Directory:\")\n",
    "items = os.listdir(cwd)\n",
    "for item in items:\n",
    "    print(\"- \" + item)\n"
   ]
  },
  {
   "cell_type": "code",
   "execution_count": 1,
   "id": "d77b28d2",
   "metadata": {},
   "outputs": [
    {
     "name": "stdout",
     "output_type": "stream",
     "text": [
      "Current Directory: c:\\MY SPACE\\Data Science and Gen AI\\Python-Journey\\Module 7 ( File handling)\n",
      "\n",
      "📄 Files:\n",
      " - file handling basic.ipynb\n",
      " - file.txt\n",
      " - file2.txt\n",
      "\n",
      "📁 Folders:\n"
     ]
    }
   ],
   "source": [
    "import os\n",
    "\n",
    "cwd = os.getcwd()\n",
    "print(\"Current Directory:\", cwd)\n",
    "\n",
    "files = []\n",
    "folders = []\n",
    "\n",
    "# Separate files and folders\n",
    "for item in os.listdir(cwd):\n",
    "    full_path = os.path.join(cwd, item)\n",
    "    if os.path.isfile(full_path):\n",
    "        files.append(item)\n",
    "    elif os.path.isdir(full_path):\n",
    "        folders.append(item)\n",
    "\n",
    "# Display results\n",
    "print(\"\\n📄 Files:\")\n",
    "for f in files:\n",
    "    print(\" -\", f)\n",
    "\n",
    "print(\"\\n📁 Folders:\")\n",
    "for d in folders:\n",
    "    print(\" -\", d)\n"
   ]
  }
 ],
 "metadata": {
  "kernelspec": {
   "display_name": "Python 3",
   "language": "python",
   "name": "python3"
  },
  "language_info": {
   "codemirror_mode": {
    "name": "ipython",
    "version": 3
   },
   "file_extension": ".py",
   "mimetype": "text/x-python",
   "name": "python",
   "nbconvert_exporter": "python",
   "pygments_lexer": "ipython3",
   "version": "3.13.5"
  }
 },
 "nbformat": 4,
 "nbformat_minor": 5
}
