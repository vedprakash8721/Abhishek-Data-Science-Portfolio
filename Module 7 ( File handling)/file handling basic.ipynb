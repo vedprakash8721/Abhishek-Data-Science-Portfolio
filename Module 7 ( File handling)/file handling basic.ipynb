{
 "cells": [
  {
   "cell_type": "code",
   "execution_count": 8,
   "id": "e3da2128",
   "metadata": {},
   "outputs": [
    {
     "name": "stdout",
     "output_type": "stream",
     "text": [
      "None\n",
      "True\n",
      "file.txt\n",
      "w\n",
      "True\n"
     ]
    },
    {
     "data": {
      "text/plain": [
       "' this will create a ipynb file name as test\\nfile = open(\"test.ipynb\",\"w\")\\nprint(file.close())'"
      ]
     },
     "execution_count": 8,
     "metadata": {},
     "output_type": "execute_result"
    }
   ],
   "source": [
    "file=open(\"file.txt\",\"w\") # w: write mode :if file not exist then it create a file and then write\n",
    "\n",
    "file.write(\"hello my name is ved prakash kushwaha\") # the output is number of bytes you have written\n",
    "# as of now if you open the file you will se that there is nothing written\n",
    "# in order to see what is written you have to close the file.txt\n",
    "print(file.close())\n",
    "#to check that file is closed or not\n",
    "print(file.closed)\n",
    "\n",
    "#to know the file name\n",
    "print(file.name)\n",
    "\n",
    "#  to know which mode it is opened\n",
    "print(file.mode)\n",
    "\n",
    "print(file.closed)\n",
    "# if you want further to write then do this .\n",
    "\n",
    "# print(file.write(\"this is second line in the file \"))  error: I/O operation on closed file.\n",
    "\"\"\" so you have to open it again in write mode ,,, and if you open the same file as write mode then it will delete all the previous data because the write mode truncate ( delete ) the previous data\"\"\"\n",
    "\n",
    "\n",
    "\"\"\" this will create a ipynb file name as test\n",
    "file = open(\"test.ipynb\",\"w\")\n",
    "print(file.close())\"\"\"\n",
    "\n"
   ]
  },
  {
   "cell_type": "code",
   "execution_count": 17,
   "id": "c9846a93",
   "metadata": {},
   "outputs": [
    {
     "name": "stdout",
     "output_type": "stream",
     "text": [
      "True\n",
      "True\n",
      "hello pwskills . this is first line of the text file\n",
      "\n",
      "This is second line\n",
      "\n",
      "This is third line\n",
      "\n",
      "This is fourth line\n",
      "\n",
      "This is fifth line\n",
      "\n"
     ]
    }
   ],
   "source": [
    "# if you want to write it again so open it in append mode \" a \"\n",
    "\n",
    "file=open(\"file2.txt\",\"w\")\n",
    "file.write(\"hello pwskills . this is first line of the text file\\n\")\n",
    "file.close()\n",
    "print(file.closed)\n",
    "# now we will add some new line\n",
    "file=open(\"file2.txt\",\"a\")\n",
    "file.write(\"This is second line\\n\")\n",
    "file.write(\"This is third line\\n\")\n",
    "file.write(\"This is fourth line\\n\")\n",
    "file.write(\"This is fifth line\\n\")\n",
    "file.close()\n",
    "print(file.closed)\n",
    "\n",
    "#so now if you want to see what and how many line are written in the file\n",
    "# so firstly we have to open the file\n",
    "file=open(\"file2.txt\",\"r\") # in this mode you can only read not write\n",
    "\n",
    "for i in file:\n",
    "    print(i)\n"
   ]
  },
  {
   "cell_type": "code",
   "execution_count": 1,
   "id": "3ce3c29a",
   "metadata": {},
   "outputs": [
    {
     "name": "stdout",
     "output_type": "stream",
     "text": [
      "File does not exist.\n"
     ]
    }
   ],
   "source": [
    "\"\"\" Example for practice\"\"\"\n",
    "\n",
    "import os\n",
    "\n",
    "if os.path.exists(\"example.txt\"):\n",
    "    print(\"File exists.\")\n",
    "else:\n",
    "    print(\"File does not exist.\")\n"
   ]
  },
  {
   "cell_type": "code",
   "execution_count": 1,
   "id": "d30b6983",
   "metadata": {},
   "outputs": [],
   "source": [
    "import os\n",
    "\n",
    "if os.path.exists(\"example.txt\"):\n",
    "    os.remove(\"example.txt\")\n"
   ]
  },
  {
   "cell_type": "code",
   "execution_count": null,
   "id": "c0899820",
   "metadata": {},
   "outputs": [],
   "source": [
    "name = input(\"Enter student name: \")\n",
    "rollno = input(\"Enter roll no: \")\n",
    "\n",
    "with open(\"students.txt\", \"a\") as file:\n",
    "    file.write(f\"{name}, {rollno}\\n\")\n",
    "\n",
    "print(\"Student record saved.\")\n"
   ]
  },
  {
   "cell_type": "code",
   "execution_count": null,
   "id": "35555319",
   "metadata": {},
   "outputs": [],
   "source": [
    "with open(\"largefile.txt\", \"r\") as file:\n",
    "    for line in file:\n",
    "        print(line.strip())  # strip() removes \\n\n"
   ]
  },
  {
   "cell_type": "code",
   "execution_count": null,
   "id": "eb141c63",
   "metadata": {},
   "outputs": [],
   "source": [
    "f = open(\"data.txt\", \"r\")\n",
    "print(f.tell())      # Shows pointer position\n",
    "f.seek(0)            # Move pointer to beginning\n",
    "print(f.read())\n",
    "f.close()\n"
   ]
  }
 ],
 "metadata": {
  "kernelspec": {
   "display_name": "Python 3",
   "language": "python",
   "name": "python3"
  },
  "language_info": {
   "codemirror_mode": {
    "name": "ipython",
    "version": 3
   },
   "file_extension": ".py",
   "mimetype": "text/x-python",
   "name": "python",
   "nbconvert_exporter": "python",
   "pygments_lexer": "ipython3",
   "version": "3.13.2"
  }
 },
 "nbformat": 4,
 "nbformat_minor": 5
}
